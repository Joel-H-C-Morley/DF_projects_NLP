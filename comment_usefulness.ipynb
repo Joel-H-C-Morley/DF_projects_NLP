{
 "cells": [
  {
   "cell_type": "code",
   "execution_count": 1,
   "metadata": {
    "collapsed": true
   },
   "outputs": [
    {
     "name": "stderr",
     "output_type": "stream",
     "text": [
      "[nltk_data] Downloading package punkt to\n",
      "[nltk_data]     /Users/joelmorley/nltk_data...\n",
      "[nltk_data]   Package punkt is already up-to-date!\n"
     ]
    },
    {
     "data": {
      "text/plain": "True"
     },
     "execution_count": 1,
     "metadata": {},
     "output_type": "execute_result"
    }
   ],
   "source": [
    "import pandas as pd\n",
    "import numpy as np\n",
    "import gzip\n",
    "import seaborn as sns\n",
    "import matplotlib.pyplot as plt\n",
    "\n",
    "import os\n",
    "import itertools\n",
    "from collections import Counter\n",
    "import re\n",
    "import string\n",
    "\n",
    "import nltk\n",
    "from nltk.corpus import stopwords\n",
    "from nltk.tokenize import word_tokenize\n",
    "from nltk.stem import WordNetLemmatizer\n",
    "from nltk.stem.porter import PorterStemmer\n",
    "from nltk.stem.lancaster import LancasterStemmer\n",
    "\n",
    "from sklearn.feature_extraction.text import CountVectorizer\n",
    "from sklearn.linear_model import LogisticRegression\n",
    "from sklearn.model_selection import train_test_split # module to split our data into train and test sets"
   ]
  },
  {
   "cell_type": "code",
   "execution_count": 2,
   "outputs": [],
   "source": [
    "def parse(path):\n",
    "    g = gzip.open(path, 'rb')\n",
    "    for l in g:\n",
    "        yield eval(l)\n",
    "\n",
    "def getDF(path):\n",
    "    i = 0\n",
    "    df = {}\n",
    "    for d in parse(path):\n",
    "        df[i] = d\n",
    "        i += 1\n",
    "    return pd.DataFrame.from_dict(df, orient='index')"
   ],
   "metadata": {
    "collapsed": false
   }
  },
  {
   "cell_type": "code",
   "execution_count": 5,
   "outputs": [],
   "source": [
    "# Import and tidy dataframe (drop nulls)\n",
    "df = getDF('qa_Appliances.json.gz')\n",
    "#df.dropna(subset='answerType', inplace=True)\n",
    "df = df.reset_index()"
   ],
   "metadata": {
    "collapsed": false
   }
  },
  {
   "cell_type": "code",
   "execution_count": 6,
   "outputs": [
    {
     "data": {
      "text/plain": "question        Does this come with power cord and dishwasher ...\nquestionType                                               yes/no\nanswerType                                                      ?\nanswer          It does not come with a power cord. It does co...\nName: 3, dtype: object"
     },
     "execution_count": 6,
     "metadata": {},
     "output_type": "execute_result"
    }
   ],
   "source": [
    "df.loc[3,['question','questionType','answerType','answer']]"
   ],
   "metadata": {
    "collapsed": false
   }
  },
  {
   "cell_type": "code",
   "execution_count": 63,
   "outputs": [
    {
     "data": {
      "text/plain": "yes/no        4693\nopen-ended    4318\nName: questionType, dtype: int64"
     },
     "execution_count": 63,
     "metadata": {},
     "output_type": "execute_result"
    }
   ],
   "source": [
    "df['questionType'].value_counts()"
   ],
   "metadata": {
    "collapsed": false
   }
  },
  {
   "cell_type": "markdown",
   "source": [
    "# Supervised Approach"
   ],
   "metadata": {
    "collapsed": false
   }
  },
  {
   "cell_type": "code",
   "execution_count": 9,
   "outputs": [],
   "source": [
    "# Map answers to useful/not useful\n",
    "df['target'] = df['answerType'].map({'Y':1, 'N':1, '?':0})"
   ],
   "metadata": {
    "collapsed": false
   }
  },
  {
   "cell_type": "code",
   "execution_count": 7,
   "outputs": [],
   "source": [
    "## Transform a sentence into 1s and 0s\n",
    "vectorizer = CountVectorizer(analyzer = \"word\", # What are we looking for?\n",
    "                             tokenizer = None, # Already tokenised\n",
    "                             preprocessor = None, # Already pre-processed\n",
    "                             stop_words = None, # Already removed stopwords\n",
    "                             max_features = 5000,\n",
    "                             ngram_range=(1, 2)) # Determines the top X words used for the vectoriser"
   ],
   "metadata": {
    "collapsed": false
   }
  },
  {
   "cell_type": "code",
   "execution_count": 10,
   "outputs": [
    {
     "ename": "ValueError",
     "evalue": "Input contains NaN, infinity or a value too large for dtype('float64').",
     "output_type": "error",
     "traceback": [
      "\u001B[0;31m---------------------------------------------------------------------------\u001B[0m",
      "\u001B[0;31mValueError\u001B[0m                                Traceback (most recent call last)",
      "\u001B[0;32m/var/folders/b7/kmbr2qfj1fd5c0wjsnnd0jtw0000gn/T/ipykernel_20585/2195464984.py\u001B[0m in \u001B[0;36m<module>\u001B[0;34m\u001B[0m\n\u001B[1;32m      3\u001B[0m \u001B[0my_train\u001B[0m \u001B[0;34m=\u001B[0m \u001B[0mdf\u001B[0m\u001B[0;34m[\u001B[0m\u001B[0;34m'target'\u001B[0m\u001B[0;34m]\u001B[0m\u001B[0;34m.\u001B[0m\u001B[0mvalues\u001B[0m\u001B[0;34m\u001B[0m\u001B[0;34m\u001B[0m\u001B[0m\n\u001B[1;32m      4\u001B[0m \u001B[0mlr\u001B[0m \u001B[0;34m=\u001B[0m \u001B[0mLogisticRegression\u001B[0m\u001B[0;34m(\u001B[0m\u001B[0mmax_iter\u001B[0m\u001B[0;34m=\u001B[0m\u001B[0;36m300\u001B[0m\u001B[0;34m)\u001B[0m\u001B[0;34m\u001B[0m\u001B[0;34m\u001B[0m\u001B[0m\n\u001B[0;32m----> 5\u001B[0;31m \u001B[0mlr\u001B[0m\u001B[0;34m.\u001B[0m\u001B[0mfit\u001B[0m\u001B[0;34m(\u001B[0m\u001B[0mtrain_features\u001B[0m\u001B[0;34m,\u001B[0m \u001B[0my_train\u001B[0m\u001B[0;34m)\u001B[0m\u001B[0;34m\u001B[0m\u001B[0;34m\u001B[0m\u001B[0m\n\u001B[0m\u001B[1;32m      6\u001B[0m \u001B[0mlr\u001B[0m\u001B[0;34m.\u001B[0m\u001B[0mscore\u001B[0m\u001B[0;34m(\u001B[0m\u001B[0mtrain_features\u001B[0m\u001B[0;34m,\u001B[0m \u001B[0my_train\u001B[0m\u001B[0;34m)\u001B[0m\u001B[0;34m\u001B[0m\u001B[0;34m\u001B[0m\u001B[0m\n",
      "\u001B[0;32m~/opt/anaconda3/lib/python3.9/site-packages/sklearn/linear_model/_logistic.py\u001B[0m in \u001B[0;36mfit\u001B[0;34m(self, X, y, sample_weight)\u001B[0m\n\u001B[1;32m   1506\u001B[0m             \u001B[0m_dtype\u001B[0m \u001B[0;34m=\u001B[0m \u001B[0;34m[\u001B[0m\u001B[0mnp\u001B[0m\u001B[0;34m.\u001B[0m\u001B[0mfloat64\u001B[0m\u001B[0;34m,\u001B[0m \u001B[0mnp\u001B[0m\u001B[0;34m.\u001B[0m\u001B[0mfloat32\u001B[0m\u001B[0;34m]\u001B[0m\u001B[0;34m\u001B[0m\u001B[0;34m\u001B[0m\u001B[0m\n\u001B[1;32m   1507\u001B[0m \u001B[0;34m\u001B[0m\u001B[0m\n\u001B[0;32m-> 1508\u001B[0;31m         X, y = self._validate_data(\n\u001B[0m\u001B[1;32m   1509\u001B[0m             \u001B[0mX\u001B[0m\u001B[0;34m,\u001B[0m\u001B[0;34m\u001B[0m\u001B[0;34m\u001B[0m\u001B[0m\n\u001B[1;32m   1510\u001B[0m             \u001B[0my\u001B[0m\u001B[0;34m,\u001B[0m\u001B[0;34m\u001B[0m\u001B[0;34m\u001B[0m\u001B[0m\n",
      "\u001B[0;32m~/opt/anaconda3/lib/python3.9/site-packages/sklearn/base.py\u001B[0m in \u001B[0;36m_validate_data\u001B[0;34m(self, X, y, reset, validate_separately, **check_params)\u001B[0m\n\u001B[1;32m    579\u001B[0m                 \u001B[0my\u001B[0m \u001B[0;34m=\u001B[0m \u001B[0mcheck_array\u001B[0m\u001B[0;34m(\u001B[0m\u001B[0my\u001B[0m\u001B[0;34m,\u001B[0m \u001B[0;34m**\u001B[0m\u001B[0mcheck_y_params\u001B[0m\u001B[0;34m)\u001B[0m\u001B[0;34m\u001B[0m\u001B[0;34m\u001B[0m\u001B[0m\n\u001B[1;32m    580\u001B[0m             \u001B[0;32melse\u001B[0m\u001B[0;34m:\u001B[0m\u001B[0;34m\u001B[0m\u001B[0;34m\u001B[0m\u001B[0m\n\u001B[0;32m--> 581\u001B[0;31m                 \u001B[0mX\u001B[0m\u001B[0;34m,\u001B[0m \u001B[0my\u001B[0m \u001B[0;34m=\u001B[0m \u001B[0mcheck_X_y\u001B[0m\u001B[0;34m(\u001B[0m\u001B[0mX\u001B[0m\u001B[0;34m,\u001B[0m \u001B[0my\u001B[0m\u001B[0;34m,\u001B[0m \u001B[0;34m**\u001B[0m\u001B[0mcheck_params\u001B[0m\u001B[0;34m)\u001B[0m\u001B[0;34m\u001B[0m\u001B[0;34m\u001B[0m\u001B[0m\n\u001B[0m\u001B[1;32m    582\u001B[0m             \u001B[0mout\u001B[0m \u001B[0;34m=\u001B[0m \u001B[0mX\u001B[0m\u001B[0;34m,\u001B[0m \u001B[0my\u001B[0m\u001B[0;34m\u001B[0m\u001B[0;34m\u001B[0m\u001B[0m\n\u001B[1;32m    583\u001B[0m \u001B[0;34m\u001B[0m\u001B[0m\n",
      "\u001B[0;32m~/opt/anaconda3/lib/python3.9/site-packages/sklearn/utils/validation.py\u001B[0m in \u001B[0;36mcheck_X_y\u001B[0;34m(X, y, accept_sparse, accept_large_sparse, dtype, order, copy, force_all_finite, ensure_2d, allow_nd, multi_output, ensure_min_samples, ensure_min_features, y_numeric, estimator)\u001B[0m\n\u001B[1;32m    977\u001B[0m     )\n\u001B[1;32m    978\u001B[0m \u001B[0;34m\u001B[0m\u001B[0m\n\u001B[0;32m--> 979\u001B[0;31m     \u001B[0my\u001B[0m \u001B[0;34m=\u001B[0m \u001B[0m_check_y\u001B[0m\u001B[0;34m(\u001B[0m\u001B[0my\u001B[0m\u001B[0;34m,\u001B[0m \u001B[0mmulti_output\u001B[0m\u001B[0;34m=\u001B[0m\u001B[0mmulti_output\u001B[0m\u001B[0;34m,\u001B[0m \u001B[0my_numeric\u001B[0m\u001B[0;34m=\u001B[0m\u001B[0my_numeric\u001B[0m\u001B[0;34m)\u001B[0m\u001B[0;34m\u001B[0m\u001B[0;34m\u001B[0m\u001B[0m\n\u001B[0m\u001B[1;32m    980\u001B[0m \u001B[0;34m\u001B[0m\u001B[0m\n\u001B[1;32m    981\u001B[0m     \u001B[0mcheck_consistent_length\u001B[0m\u001B[0;34m(\u001B[0m\u001B[0mX\u001B[0m\u001B[0;34m,\u001B[0m \u001B[0my\u001B[0m\u001B[0;34m)\u001B[0m\u001B[0;34m\u001B[0m\u001B[0;34m\u001B[0m\u001B[0m\n",
      "\u001B[0;32m~/opt/anaconda3/lib/python3.9/site-packages/sklearn/utils/validation.py\u001B[0m in \u001B[0;36m_check_y\u001B[0;34m(y, multi_output, y_numeric)\u001B[0m\n\u001B[1;32m    992\u001B[0m     \u001B[0;32melse\u001B[0m\u001B[0;34m:\u001B[0m\u001B[0;34m\u001B[0m\u001B[0;34m\u001B[0m\u001B[0m\n\u001B[1;32m    993\u001B[0m         \u001B[0my\u001B[0m \u001B[0;34m=\u001B[0m \u001B[0mcolumn_or_1d\u001B[0m\u001B[0;34m(\u001B[0m\u001B[0my\u001B[0m\u001B[0;34m,\u001B[0m \u001B[0mwarn\u001B[0m\u001B[0;34m=\u001B[0m\u001B[0;32mTrue\u001B[0m\u001B[0;34m)\u001B[0m\u001B[0;34m\u001B[0m\u001B[0;34m\u001B[0m\u001B[0m\n\u001B[0;32m--> 994\u001B[0;31m         \u001B[0m_assert_all_finite\u001B[0m\u001B[0;34m(\u001B[0m\u001B[0my\u001B[0m\u001B[0;34m)\u001B[0m\u001B[0;34m\u001B[0m\u001B[0;34m\u001B[0m\u001B[0m\n\u001B[0m\u001B[1;32m    995\u001B[0m         \u001B[0m_ensure_no_complex_data\u001B[0m\u001B[0;34m(\u001B[0m\u001B[0my\u001B[0m\u001B[0;34m)\u001B[0m\u001B[0;34m\u001B[0m\u001B[0;34m\u001B[0m\u001B[0m\n\u001B[1;32m    996\u001B[0m     \u001B[0;32mif\u001B[0m \u001B[0my_numeric\u001B[0m \u001B[0;32mand\u001B[0m \u001B[0my\u001B[0m\u001B[0;34m.\u001B[0m\u001B[0mdtype\u001B[0m\u001B[0;34m.\u001B[0m\u001B[0mkind\u001B[0m \u001B[0;34m==\u001B[0m \u001B[0;34m\"O\"\u001B[0m\u001B[0;34m:\u001B[0m\u001B[0;34m\u001B[0m\u001B[0;34m\u001B[0m\u001B[0m\n",
      "\u001B[0;32m~/opt/anaconda3/lib/python3.9/site-packages/sklearn/utils/validation.py\u001B[0m in \u001B[0;36m_assert_all_finite\u001B[0;34m(X, allow_nan, msg_dtype)\u001B[0m\n\u001B[1;32m    112\u001B[0m         ):\n\u001B[1;32m    113\u001B[0m             \u001B[0mtype_err\u001B[0m \u001B[0;34m=\u001B[0m \u001B[0;34m\"infinity\"\u001B[0m \u001B[0;32mif\u001B[0m \u001B[0mallow_nan\u001B[0m \u001B[0;32melse\u001B[0m \u001B[0;34m\"NaN, infinity\"\u001B[0m\u001B[0;34m\u001B[0m\u001B[0;34m\u001B[0m\u001B[0m\n\u001B[0;32m--> 114\u001B[0;31m             raise ValueError(\n\u001B[0m\u001B[1;32m    115\u001B[0m                 msg_err.format(\n\u001B[1;32m    116\u001B[0m                     \u001B[0mtype_err\u001B[0m\u001B[0;34m,\u001B[0m \u001B[0mmsg_dtype\u001B[0m \u001B[0;32mif\u001B[0m \u001B[0mmsg_dtype\u001B[0m \u001B[0;32mis\u001B[0m \u001B[0;32mnot\u001B[0m \u001B[0;32mNone\u001B[0m \u001B[0;32melse\u001B[0m \u001B[0mX\u001B[0m\u001B[0;34m.\u001B[0m\u001B[0mdtype\u001B[0m\u001B[0;34m\u001B[0m\u001B[0;34m\u001B[0m\u001B[0m\n",
      "\u001B[0;31mValueError\u001B[0m: Input contains NaN, infinity or a value too large for dtype('float64')."
     ]
    }
   ],
   "source": [
    "train_features = vectorizer.fit_transform(df['answer'])\n",
    "train_features = train_features.toarray()\n",
    "y_train = df['target'].values\n",
    "lr = LogisticRegression(max_iter=300)\n",
    "lr.fit(train_features, y_train)\n",
    "lr.score(train_features, y_train)"
   ],
   "metadata": {
    "collapsed": false
   }
  },
  {
   "cell_type": "code",
   "execution_count": 157,
   "outputs": [
    {
     "data": {
      "text/plain": "question    Does this come with power cord and dishwasher ...\nanswer      It does not come with a power cord. It does co...\nName: 3, dtype: object"
     },
     "execution_count": 157,
     "metadata": {},
     "output_type": "execute_result"
    }
   ],
   "source": [
    "df.loc[3,['question', 'answer']]"
   ],
   "metadata": {
    "collapsed": false
   }
  },
  {
   "cell_type": "code",
   "execution_count": 158,
   "outputs": [
    {
     "data": {
      "text/plain": "array([0])"
     },
     "execution_count": 158,
     "metadata": {},
     "output_type": "execute_result"
    }
   ],
   "source": [
    "# Check a single entry, 0 = unhelpful, 1 = helpful\n",
    "test = vectorizer.transform(df.loc[3,['answer']])\n",
    "lr.predict(test.toarray())"
   ],
   "metadata": {
    "collapsed": false
   }
  },
  {
   "cell_type": "markdown",
   "source": [
    "# Unsupervised approach\n",
    "## Semantic similarity using spacy\n",
    "### Between characteristic words and the answer"
   ],
   "metadata": {
    "collapsed": false
   }
  },
  {
   "cell_type": "code",
   "execution_count": 11,
   "outputs": [],
   "source": [
    "import spacy\n",
    "nlp = spacy.load('en_core_web_md')"
   ],
   "metadata": {
    "collapsed": false
   }
  },
  {
   "cell_type": "code",
   "execution_count": 13,
   "outputs": [
    {
     "name": "stdout",
     "output_type": "stream",
     "text": [
      "yes 0.13041196370449343\n",
      "no 0.16385734839125388\n",
      "certainly 0.24757533819159003\n",
      "cant 0.21731814592739304\n",
      "can 0.22780956195331006\n",
      "unsure 0.29856480711758565\n",
      "never 0.3098429641779861\n",
      "dont 0.26574813070049624\n",
      "maybe 0.25987554404895336\n",
      "could 0.27778213745494096\n",
      "it does not come with a power cord. it does come with the dishwasher hookup.\n",
      "Useful score: 0.19739447163360807, unuseful score: 0.28236271669999247\n"
     ]
    }
   ],
   "source": [
    "useful_words = 'yes,no,certainly,cant,can'.split(',')\n",
    "un_words = 'unsure,never,dont,maybe,could'.split(',')\n",
    "\n",
    "def similarity_test(list,answer):\n",
    "    \"\"\"\n",
    "    Function to test the similarity between all the words of a sentence (answer) and a list of\n",
    "    words (useful or useless words).\n",
    "    Output is an average similarity score for the answer, between -1 and 1.\n",
    "    \"\"\"\n",
    "    ans_sim = []\n",
    "    use_sim = []\n",
    "\n",
    "    for word in list:\n",
    "        for term in answer:\n",
    "            test_word = nlp(word)\n",
    "            ans_word = nlp(term)\n",
    "            ans_sim.append(test_word.similarity(ans_word))\n",
    "        use_sim.append(sum(ans_sim)/len(ans_sim))\n",
    "        print(word, sum(ans_sim)/len(ans_sim))\n",
    "    return sum(use_sim)/len(use_sim)\n",
    "\n",
    "ans = df['answer'][2].lower()\n",
    "use_score = similarity_test(useful_words,ans.split(' '))\n",
    "unu_score = similarity_test(un_words,ans.split(' '))\n",
    "\n",
    "print(ans)\n",
    "print(f'Useful score: {use_score}, unuseful score: {unu_score}')\n"
   ],
   "metadata": {
    "collapsed": false
   }
  },
  {
   "cell_type": "markdown",
   "source": [
    "### Between the question and the answer"
   ],
   "metadata": {
    "collapsed": false
   }
  },
  {
   "cell_type": "code",
   "execution_count": 12,
   "outputs": [
    {
     "name": "stderr",
     "output_type": "stream",
     "text": [
      "/var/folders/b7/kmbr2qfj1fd5c0wjsnnd0jtw0000gn/T/ipykernel_20585/3473484234.py:13: UserWarning: [W008] Evaluating Doc.similarity based on empty vectors.\n",
      "  return q_token.similarity(a_token)\n"
     ]
    },
    {
     "ename": "KeyboardInterrupt",
     "evalue": "",
     "output_type": "error",
     "traceback": [
      "\u001B[0;31m---------------------------------------------------------------------------\u001B[0m",
      "\u001B[0;31mKeyboardInterrupt\u001B[0m                         Traceback (most recent call last)",
      "\u001B[0;32m/var/folders/b7/kmbr2qfj1fd5c0wjsnnd0jtw0000gn/T/ipykernel_20585/3473484234.py\u001B[0m in \u001B[0;36m<module>\u001B[0;34m\u001B[0m\n\u001B[1;32m     13\u001B[0m     \u001B[0;32mreturn\u001B[0m \u001B[0mq_token\u001B[0m\u001B[0;34m.\u001B[0m\u001B[0msimilarity\u001B[0m\u001B[0;34m(\u001B[0m\u001B[0ma_token\u001B[0m\u001B[0;34m)\u001B[0m\u001B[0;34m\u001B[0m\u001B[0;34m\u001B[0m\u001B[0m\n\u001B[1;32m     14\u001B[0m \u001B[0;34m\u001B[0m\u001B[0m\n\u001B[0;32m---> 15\u001B[0;31m \u001B[0mdf\u001B[0m\u001B[0;34m[\u001B[0m\u001B[0;34m'sim_score'\u001B[0m\u001B[0;34m]\u001B[0m \u001B[0;34m=\u001B[0m \u001B[0mdf\u001B[0m\u001B[0;34m.\u001B[0m\u001B[0mapply\u001B[0m\u001B[0;34m(\u001B[0m\u001B[0;32mlambda\u001B[0m \u001B[0mx\u001B[0m\u001B[0;34m:\u001B[0m \u001B[0mqa_sim\u001B[0m\u001B[0;34m(\u001B[0m\u001B[0mx\u001B[0m\u001B[0;34m.\u001B[0m\u001B[0mquestion\u001B[0m\u001B[0;34m,\u001B[0m \u001B[0mx\u001B[0m\u001B[0;34m.\u001B[0m\u001B[0manswer\u001B[0m\u001B[0;34m)\u001B[0m\u001B[0;34m,\u001B[0m \u001B[0maxis\u001B[0m\u001B[0;34m=\u001B[0m\u001B[0;36m1\u001B[0m\u001B[0;34m)\u001B[0m\u001B[0;34m\u001B[0m\u001B[0;34m\u001B[0m\u001B[0m\n\u001B[0m",
      "\u001B[0;32m~/opt/anaconda3/lib/python3.9/site-packages/pandas/core/frame.py\u001B[0m in \u001B[0;36mapply\u001B[0;34m(self, func, axis, raw, result_type, args, **kwargs)\u001B[0m\n\u001B[1;32m   8846\u001B[0m             \u001B[0mkwargs\u001B[0m\u001B[0;34m=\u001B[0m\u001B[0mkwargs\u001B[0m\u001B[0;34m,\u001B[0m\u001B[0;34m\u001B[0m\u001B[0;34m\u001B[0m\u001B[0m\n\u001B[1;32m   8847\u001B[0m         )\n\u001B[0;32m-> 8848\u001B[0;31m         \u001B[0;32mreturn\u001B[0m \u001B[0mop\u001B[0m\u001B[0;34m.\u001B[0m\u001B[0mapply\u001B[0m\u001B[0;34m(\u001B[0m\u001B[0;34m)\u001B[0m\u001B[0;34m.\u001B[0m\u001B[0m__finalize__\u001B[0m\u001B[0;34m(\u001B[0m\u001B[0mself\u001B[0m\u001B[0;34m,\u001B[0m \u001B[0mmethod\u001B[0m\u001B[0;34m=\u001B[0m\u001B[0;34m\"apply\"\u001B[0m\u001B[0;34m)\u001B[0m\u001B[0;34m\u001B[0m\u001B[0;34m\u001B[0m\u001B[0m\n\u001B[0m\u001B[1;32m   8849\u001B[0m \u001B[0;34m\u001B[0m\u001B[0m\n\u001B[1;32m   8850\u001B[0m     def applymap(\n",
      "\u001B[0;32m~/opt/anaconda3/lib/python3.9/site-packages/pandas/core/apply.py\u001B[0m in \u001B[0;36mapply\u001B[0;34m(self)\u001B[0m\n\u001B[1;32m    731\u001B[0m             \u001B[0;32mreturn\u001B[0m \u001B[0mself\u001B[0m\u001B[0;34m.\u001B[0m\u001B[0mapply_raw\u001B[0m\u001B[0;34m(\u001B[0m\u001B[0;34m)\u001B[0m\u001B[0;34m\u001B[0m\u001B[0;34m\u001B[0m\u001B[0m\n\u001B[1;32m    732\u001B[0m \u001B[0;34m\u001B[0m\u001B[0m\n\u001B[0;32m--> 733\u001B[0;31m         \u001B[0;32mreturn\u001B[0m \u001B[0mself\u001B[0m\u001B[0;34m.\u001B[0m\u001B[0mapply_standard\u001B[0m\u001B[0;34m(\u001B[0m\u001B[0;34m)\u001B[0m\u001B[0;34m\u001B[0m\u001B[0;34m\u001B[0m\u001B[0m\n\u001B[0m\u001B[1;32m    734\u001B[0m \u001B[0;34m\u001B[0m\u001B[0m\n\u001B[1;32m    735\u001B[0m     \u001B[0;32mdef\u001B[0m \u001B[0magg\u001B[0m\u001B[0;34m(\u001B[0m\u001B[0mself\u001B[0m\u001B[0;34m)\u001B[0m\u001B[0;34m:\u001B[0m\u001B[0;34m\u001B[0m\u001B[0;34m\u001B[0m\u001B[0m\n",
      "\u001B[0;32m~/opt/anaconda3/lib/python3.9/site-packages/pandas/core/apply.py\u001B[0m in \u001B[0;36mapply_standard\u001B[0;34m(self)\u001B[0m\n\u001B[1;32m    855\u001B[0m \u001B[0;34m\u001B[0m\u001B[0m\n\u001B[1;32m    856\u001B[0m     \u001B[0;32mdef\u001B[0m \u001B[0mapply_standard\u001B[0m\u001B[0;34m(\u001B[0m\u001B[0mself\u001B[0m\u001B[0;34m)\u001B[0m\u001B[0;34m:\u001B[0m\u001B[0;34m\u001B[0m\u001B[0;34m\u001B[0m\u001B[0m\n\u001B[0;32m--> 857\u001B[0;31m         \u001B[0mresults\u001B[0m\u001B[0;34m,\u001B[0m \u001B[0mres_index\u001B[0m \u001B[0;34m=\u001B[0m \u001B[0mself\u001B[0m\u001B[0;34m.\u001B[0m\u001B[0mapply_series_generator\u001B[0m\u001B[0;34m(\u001B[0m\u001B[0;34m)\u001B[0m\u001B[0;34m\u001B[0m\u001B[0;34m\u001B[0m\u001B[0m\n\u001B[0m\u001B[1;32m    858\u001B[0m \u001B[0;34m\u001B[0m\u001B[0m\n\u001B[1;32m    859\u001B[0m         \u001B[0;31m# wrap results\u001B[0m\u001B[0;34m\u001B[0m\u001B[0;34m\u001B[0m\u001B[0m\n",
      "\u001B[0;32m~/opt/anaconda3/lib/python3.9/site-packages/pandas/core/apply.py\u001B[0m in \u001B[0;36mapply_series_generator\u001B[0;34m(self)\u001B[0m\n\u001B[1;32m    871\u001B[0m             \u001B[0;32mfor\u001B[0m \u001B[0mi\u001B[0m\u001B[0;34m,\u001B[0m \u001B[0mv\u001B[0m \u001B[0;32min\u001B[0m \u001B[0menumerate\u001B[0m\u001B[0;34m(\u001B[0m\u001B[0mseries_gen\u001B[0m\u001B[0;34m)\u001B[0m\u001B[0;34m:\u001B[0m\u001B[0;34m\u001B[0m\u001B[0;34m\u001B[0m\u001B[0m\n\u001B[1;32m    872\u001B[0m                 \u001B[0;31m# ignore SettingWithCopy here in case the user mutates\u001B[0m\u001B[0;34m\u001B[0m\u001B[0;34m\u001B[0m\u001B[0m\n\u001B[0;32m--> 873\u001B[0;31m                 \u001B[0mresults\u001B[0m\u001B[0;34m[\u001B[0m\u001B[0mi\u001B[0m\u001B[0;34m]\u001B[0m \u001B[0;34m=\u001B[0m \u001B[0mself\u001B[0m\u001B[0;34m.\u001B[0m\u001B[0mf\u001B[0m\u001B[0;34m(\u001B[0m\u001B[0mv\u001B[0m\u001B[0;34m)\u001B[0m\u001B[0;34m\u001B[0m\u001B[0;34m\u001B[0m\u001B[0m\n\u001B[0m\u001B[1;32m    874\u001B[0m                 \u001B[0;32mif\u001B[0m \u001B[0misinstance\u001B[0m\u001B[0;34m(\u001B[0m\u001B[0mresults\u001B[0m\u001B[0;34m[\u001B[0m\u001B[0mi\u001B[0m\u001B[0;34m]\u001B[0m\u001B[0;34m,\u001B[0m \u001B[0mABCSeries\u001B[0m\u001B[0;34m)\u001B[0m\u001B[0;34m:\u001B[0m\u001B[0;34m\u001B[0m\u001B[0;34m\u001B[0m\u001B[0m\n\u001B[1;32m    875\u001B[0m                     \u001B[0;31m# If we have a view on v, we need to make a copy because\u001B[0m\u001B[0;34m\u001B[0m\u001B[0;34m\u001B[0m\u001B[0m\n",
      "\u001B[0;32m/var/folders/b7/kmbr2qfj1fd5c0wjsnnd0jtw0000gn/T/ipykernel_20585/3473484234.py\u001B[0m in \u001B[0;36m<lambda>\u001B[0;34m(x)\u001B[0m\n\u001B[1;32m     13\u001B[0m     \u001B[0;32mreturn\u001B[0m \u001B[0mq_token\u001B[0m\u001B[0;34m.\u001B[0m\u001B[0msimilarity\u001B[0m\u001B[0;34m(\u001B[0m\u001B[0ma_token\u001B[0m\u001B[0;34m)\u001B[0m\u001B[0;34m\u001B[0m\u001B[0;34m\u001B[0m\u001B[0m\n\u001B[1;32m     14\u001B[0m \u001B[0;34m\u001B[0m\u001B[0m\n\u001B[0;32m---> 15\u001B[0;31m \u001B[0mdf\u001B[0m\u001B[0;34m[\u001B[0m\u001B[0;34m'sim_score'\u001B[0m\u001B[0;34m]\u001B[0m \u001B[0;34m=\u001B[0m \u001B[0mdf\u001B[0m\u001B[0;34m.\u001B[0m\u001B[0mapply\u001B[0m\u001B[0;34m(\u001B[0m\u001B[0;32mlambda\u001B[0m \u001B[0mx\u001B[0m\u001B[0;34m:\u001B[0m \u001B[0mqa_sim\u001B[0m\u001B[0;34m(\u001B[0m\u001B[0mx\u001B[0m\u001B[0;34m.\u001B[0m\u001B[0mquestion\u001B[0m\u001B[0;34m,\u001B[0m \u001B[0mx\u001B[0m\u001B[0;34m.\u001B[0m\u001B[0manswer\u001B[0m\u001B[0;34m)\u001B[0m\u001B[0;34m,\u001B[0m \u001B[0maxis\u001B[0m\u001B[0;34m=\u001B[0m\u001B[0;36m1\u001B[0m\u001B[0;34m)\u001B[0m\u001B[0;34m\u001B[0m\u001B[0;34m\u001B[0m\u001B[0m\n\u001B[0m",
      "\u001B[0;32m/var/folders/b7/kmbr2qfj1fd5c0wjsnnd0jtw0000gn/T/ipykernel_20585/3473484234.py\u001B[0m in \u001B[0;36mqa_sim\u001B[0;34m(question, answer)\u001B[0m\n\u001B[1;32m      9\u001B[0m     \u001B[0;31m# Create a token for the test movie and initialise the highest coefficient marker\u001B[0m\u001B[0;34m\u001B[0m\u001B[0;34m\u001B[0m\u001B[0m\n\u001B[1;32m     10\u001B[0m     \u001B[0mq_token\u001B[0m \u001B[0;34m=\u001B[0m \u001B[0mnlp\u001B[0m\u001B[0;34m(\u001B[0m\u001B[0mtest_question\u001B[0m\u001B[0;34m)\u001B[0m\u001B[0;34m\u001B[0m\u001B[0;34m\u001B[0m\u001B[0m\n\u001B[0;32m---> 11\u001B[0;31m     \u001B[0ma_token\u001B[0m \u001B[0;34m=\u001B[0m \u001B[0mnlp\u001B[0m\u001B[0;34m(\u001B[0m\u001B[0mtest_answer\u001B[0m\u001B[0;34m)\u001B[0m\u001B[0;34m\u001B[0m\u001B[0;34m\u001B[0m\u001B[0m\n\u001B[0m\u001B[1;32m     12\u001B[0m \u001B[0;34m\u001B[0m\u001B[0m\n\u001B[1;32m     13\u001B[0m     \u001B[0;32mreturn\u001B[0m \u001B[0mq_token\u001B[0m\u001B[0;34m.\u001B[0m\u001B[0msimilarity\u001B[0m\u001B[0;34m(\u001B[0m\u001B[0ma_token\u001B[0m\u001B[0;34m)\u001B[0m\u001B[0;34m\u001B[0m\u001B[0;34m\u001B[0m\u001B[0m\n",
      "\u001B[0;32m~/opt/anaconda3/lib/python3.9/site-packages/spacy/language.py\u001B[0m in \u001B[0;36m__call__\u001B[0;34m(self, text, disable, component_cfg)\u001B[0m\n\u001B[1;32m   1009\u001B[0m                 \u001B[0merror_handler\u001B[0m \u001B[0;34m=\u001B[0m \u001B[0mproc\u001B[0m\u001B[0;34m.\u001B[0m\u001B[0mget_error_handler\u001B[0m\u001B[0;34m(\u001B[0m\u001B[0;34m)\u001B[0m\u001B[0;34m\u001B[0m\u001B[0;34m\u001B[0m\u001B[0m\n\u001B[1;32m   1010\u001B[0m             \u001B[0;32mtry\u001B[0m\u001B[0;34m:\u001B[0m\u001B[0;34m\u001B[0m\u001B[0;34m\u001B[0m\u001B[0m\n\u001B[0;32m-> 1011\u001B[0;31m                 \u001B[0mdoc\u001B[0m \u001B[0;34m=\u001B[0m \u001B[0mproc\u001B[0m\u001B[0;34m(\u001B[0m\u001B[0mdoc\u001B[0m\u001B[0;34m,\u001B[0m \u001B[0;34m**\u001B[0m\u001B[0mcomponent_cfg\u001B[0m\u001B[0;34m.\u001B[0m\u001B[0mget\u001B[0m\u001B[0;34m(\u001B[0m\u001B[0mname\u001B[0m\u001B[0;34m,\u001B[0m \u001B[0;34m{\u001B[0m\u001B[0;34m}\u001B[0m\u001B[0;34m)\u001B[0m\u001B[0;34m)\u001B[0m  \u001B[0;31m# type: ignore[call-arg]\u001B[0m\u001B[0;34m\u001B[0m\u001B[0;34m\u001B[0m\u001B[0m\n\u001B[0m\u001B[1;32m   1012\u001B[0m             \u001B[0;32mexcept\u001B[0m \u001B[0mKeyError\u001B[0m \u001B[0;32mas\u001B[0m \u001B[0me\u001B[0m\u001B[0;34m:\u001B[0m\u001B[0;34m\u001B[0m\u001B[0;34m\u001B[0m\u001B[0m\n\u001B[1;32m   1013\u001B[0m                 \u001B[0;31m# This typically happens if a component is not initialized\u001B[0m\u001B[0;34m\u001B[0m\u001B[0;34m\u001B[0m\u001B[0m\n",
      "\u001B[0;32m~/opt/anaconda3/lib/python3.9/site-packages/spacy/pipeline/trainable_pipe.pyx\u001B[0m in \u001B[0;36mspacy.pipeline.trainable_pipe.TrainablePipe.__call__\u001B[0;34m()\u001B[0m\n",
      "\u001B[0;32m~/opt/anaconda3/lib/python3.9/site-packages/spacy/pipeline/tok2vec.py\u001B[0m in \u001B[0;36mpredict\u001B[0;34m(self, docs)\u001B[0m\n\u001B[1;32m    123\u001B[0m             \u001B[0mwidth\u001B[0m \u001B[0;34m=\u001B[0m \u001B[0mself\u001B[0m\u001B[0;34m.\u001B[0m\u001B[0mmodel\u001B[0m\u001B[0;34m.\u001B[0m\u001B[0mget_dim\u001B[0m\u001B[0;34m(\u001B[0m\u001B[0;34m\"nO\"\u001B[0m\u001B[0;34m)\u001B[0m\u001B[0;34m\u001B[0m\u001B[0;34m\u001B[0m\u001B[0m\n\u001B[1;32m    124\u001B[0m             \u001B[0;32mreturn\u001B[0m \u001B[0;34m[\u001B[0m\u001B[0mself\u001B[0m\u001B[0;34m.\u001B[0m\u001B[0mmodel\u001B[0m\u001B[0;34m.\u001B[0m\u001B[0mops\u001B[0m\u001B[0;34m.\u001B[0m\u001B[0malloc\u001B[0m\u001B[0;34m(\u001B[0m\u001B[0;34m(\u001B[0m\u001B[0;36m0\u001B[0m\u001B[0;34m,\u001B[0m \u001B[0mwidth\u001B[0m\u001B[0;34m)\u001B[0m\u001B[0;34m)\u001B[0m \u001B[0;32mfor\u001B[0m \u001B[0mdoc\u001B[0m \u001B[0;32min\u001B[0m \u001B[0mdocs\u001B[0m\u001B[0;34m]\u001B[0m\u001B[0;34m\u001B[0m\u001B[0;34m\u001B[0m\u001B[0m\n\u001B[0;32m--> 125\u001B[0;31m         \u001B[0mtokvecs\u001B[0m \u001B[0;34m=\u001B[0m \u001B[0mself\u001B[0m\u001B[0;34m.\u001B[0m\u001B[0mmodel\u001B[0m\u001B[0;34m.\u001B[0m\u001B[0mpredict\u001B[0m\u001B[0;34m(\u001B[0m\u001B[0mdocs\u001B[0m\u001B[0;34m)\u001B[0m\u001B[0;34m\u001B[0m\u001B[0;34m\u001B[0m\u001B[0m\n\u001B[0m\u001B[1;32m    126\u001B[0m         \u001B[0;32mreturn\u001B[0m \u001B[0mtokvecs\u001B[0m\u001B[0;34m\u001B[0m\u001B[0;34m\u001B[0m\u001B[0m\n\u001B[1;32m    127\u001B[0m \u001B[0;34m\u001B[0m\u001B[0m\n",
      "\u001B[0;32m~/opt/anaconda3/lib/python3.9/site-packages/thinc/model.py\u001B[0m in \u001B[0;36mpredict\u001B[0;34m(self, X)\u001B[0m\n\u001B[1;32m    313\u001B[0m         \u001B[0monly\u001B[0m \u001B[0mthe\u001B[0m \u001B[0moutput\u001B[0m\u001B[0;34m,\u001B[0m \u001B[0minstead\u001B[0m \u001B[0mof\u001B[0m \u001B[0mthe\u001B[0m\u001B[0;31m \u001B[0m\u001B[0;31m`\u001B[0m\u001B[0;34m(\u001B[0m\u001B[0moutput\u001B[0m\u001B[0;34m,\u001B[0m \u001B[0mcallback\u001B[0m\u001B[0;34m)\u001B[0m\u001B[0;31m`\u001B[0m \u001B[0mtuple\u001B[0m\u001B[0;34m.\u001B[0m\u001B[0;34m\u001B[0m\u001B[0;34m\u001B[0m\u001B[0m\n\u001B[1;32m    314\u001B[0m         \"\"\"\n\u001B[0;32m--> 315\u001B[0;31m         \u001B[0;32mreturn\u001B[0m \u001B[0mself\u001B[0m\u001B[0;34m.\u001B[0m\u001B[0m_func\u001B[0m\u001B[0;34m(\u001B[0m\u001B[0mself\u001B[0m\u001B[0;34m,\u001B[0m \u001B[0mX\u001B[0m\u001B[0;34m,\u001B[0m \u001B[0mis_train\u001B[0m\u001B[0;34m=\u001B[0m\u001B[0;32mFalse\u001B[0m\u001B[0;34m)\u001B[0m\u001B[0;34m[\u001B[0m\u001B[0;36m0\u001B[0m\u001B[0;34m]\u001B[0m\u001B[0;34m\u001B[0m\u001B[0;34m\u001B[0m\u001B[0m\n\u001B[0m\u001B[1;32m    316\u001B[0m \u001B[0;34m\u001B[0m\u001B[0m\n\u001B[1;32m    317\u001B[0m     \u001B[0;32mdef\u001B[0m \u001B[0mfinish_update\u001B[0m\u001B[0;34m(\u001B[0m\u001B[0mself\u001B[0m\u001B[0;34m,\u001B[0m \u001B[0moptimizer\u001B[0m\u001B[0;34m:\u001B[0m \u001B[0mOptimizer\u001B[0m\u001B[0;34m)\u001B[0m \u001B[0;34m->\u001B[0m \u001B[0;32mNone\u001B[0m\u001B[0;34m:\u001B[0m\u001B[0;34m\u001B[0m\u001B[0;34m\u001B[0m\u001B[0m\n",
      "\u001B[0;32m~/opt/anaconda3/lib/python3.9/site-packages/thinc/layers/chain.py\u001B[0m in \u001B[0;36mforward\u001B[0;34m(model, X, is_train)\u001B[0m\n\u001B[1;32m     53\u001B[0m     \u001B[0mcallbacks\u001B[0m \u001B[0;34m=\u001B[0m \u001B[0;34m[\u001B[0m\u001B[0;34m]\u001B[0m\u001B[0;34m\u001B[0m\u001B[0;34m\u001B[0m\u001B[0m\n\u001B[1;32m     54\u001B[0m     \u001B[0;32mfor\u001B[0m \u001B[0mlayer\u001B[0m \u001B[0;32min\u001B[0m \u001B[0mmodel\u001B[0m\u001B[0;34m.\u001B[0m\u001B[0mlayers\u001B[0m\u001B[0;34m:\u001B[0m\u001B[0;34m\u001B[0m\u001B[0;34m\u001B[0m\u001B[0m\n\u001B[0;32m---> 55\u001B[0;31m         \u001B[0mY\u001B[0m\u001B[0;34m,\u001B[0m \u001B[0minc_layer_grad\u001B[0m \u001B[0;34m=\u001B[0m \u001B[0mlayer\u001B[0m\u001B[0;34m(\u001B[0m\u001B[0mX\u001B[0m\u001B[0;34m,\u001B[0m \u001B[0mis_train\u001B[0m\u001B[0;34m=\u001B[0m\u001B[0mis_train\u001B[0m\u001B[0;34m)\u001B[0m\u001B[0;34m\u001B[0m\u001B[0;34m\u001B[0m\u001B[0m\n\u001B[0m\u001B[1;32m     56\u001B[0m         \u001B[0mcallbacks\u001B[0m\u001B[0;34m.\u001B[0m\u001B[0mappend\u001B[0m\u001B[0;34m(\u001B[0m\u001B[0minc_layer_grad\u001B[0m\u001B[0;34m)\u001B[0m\u001B[0;34m\u001B[0m\u001B[0;34m\u001B[0m\u001B[0m\n\u001B[1;32m     57\u001B[0m         \u001B[0mX\u001B[0m \u001B[0;34m=\u001B[0m \u001B[0mY\u001B[0m\u001B[0;34m\u001B[0m\u001B[0;34m\u001B[0m\u001B[0m\n",
      "\u001B[0;32m~/opt/anaconda3/lib/python3.9/site-packages/thinc/model.py\u001B[0m in \u001B[0;36m__call__\u001B[0;34m(self, X, is_train)\u001B[0m\n\u001B[1;32m    289\u001B[0m         \"\"\"Call the model's `forward` function, returning the output and a\n\u001B[1;32m    290\u001B[0m         callback to compute the gradients via backpropagation.\"\"\"\n\u001B[0;32m--> 291\u001B[0;31m         \u001B[0;32mreturn\u001B[0m \u001B[0mself\u001B[0m\u001B[0;34m.\u001B[0m\u001B[0m_func\u001B[0m\u001B[0;34m(\u001B[0m\u001B[0mself\u001B[0m\u001B[0;34m,\u001B[0m \u001B[0mX\u001B[0m\u001B[0;34m,\u001B[0m \u001B[0mis_train\u001B[0m\u001B[0;34m=\u001B[0m\u001B[0mis_train\u001B[0m\u001B[0;34m)\u001B[0m\u001B[0;34m\u001B[0m\u001B[0;34m\u001B[0m\u001B[0m\n\u001B[0m\u001B[1;32m    292\u001B[0m \u001B[0;34m\u001B[0m\u001B[0m\n\u001B[1;32m    293\u001B[0m     \u001B[0;32mdef\u001B[0m \u001B[0minitialize\u001B[0m\u001B[0;34m(\u001B[0m\u001B[0mself\u001B[0m\u001B[0;34m,\u001B[0m \u001B[0mX\u001B[0m\u001B[0;34m:\u001B[0m \u001B[0mOptional\u001B[0m\u001B[0;34m[\u001B[0m\u001B[0mInT\u001B[0m\u001B[0;34m]\u001B[0m \u001B[0;34m=\u001B[0m \u001B[0;32mNone\u001B[0m\u001B[0;34m,\u001B[0m \u001B[0mY\u001B[0m\u001B[0;34m:\u001B[0m \u001B[0mOptional\u001B[0m\u001B[0;34m[\u001B[0m\u001B[0mOutT\u001B[0m\u001B[0;34m]\u001B[0m \u001B[0;34m=\u001B[0m \u001B[0;32mNone\u001B[0m\u001B[0;34m)\u001B[0m \u001B[0;34m->\u001B[0m \u001B[0;34m\"Model\"\u001B[0m\u001B[0;34m:\u001B[0m\u001B[0;34m\u001B[0m\u001B[0;34m\u001B[0m\u001B[0m\n",
      "\u001B[0;32m~/opt/anaconda3/lib/python3.9/site-packages/thinc/layers/with_array.py\u001B[0m in \u001B[0;36mforward\u001B[0;34m(model, Xseq, is_train)\u001B[0m\n\u001B[1;32m     36\u001B[0m         \u001B[0;32mreturn\u001B[0m \u001B[0mmodel\u001B[0m\u001B[0;34m.\u001B[0m\u001B[0mlayers\u001B[0m\u001B[0;34m[\u001B[0m\u001B[0;36m0\u001B[0m\u001B[0;34m]\u001B[0m\u001B[0;34m(\u001B[0m\u001B[0mXseq\u001B[0m\u001B[0;34m,\u001B[0m \u001B[0mis_train\u001B[0m\u001B[0;34m)\u001B[0m\u001B[0;34m\u001B[0m\u001B[0;34m\u001B[0m\u001B[0m\n\u001B[1;32m     37\u001B[0m     \u001B[0;32melse\u001B[0m\u001B[0;34m:\u001B[0m\u001B[0;34m\u001B[0m\u001B[0;34m\u001B[0m\u001B[0m\n\u001B[0;32m---> 38\u001B[0;31m         \u001B[0;32mreturn\u001B[0m \u001B[0mcast\u001B[0m\u001B[0;34m(\u001B[0m\u001B[0mTuple\u001B[0m\u001B[0;34m[\u001B[0m\u001B[0mSeqT\u001B[0m\u001B[0;34m,\u001B[0m \u001B[0mCallable\u001B[0m\u001B[0;34m]\u001B[0m\u001B[0;34m,\u001B[0m \u001B[0m_list_forward\u001B[0m\u001B[0;34m(\u001B[0m\u001B[0mmodel\u001B[0m\u001B[0;34m,\u001B[0m \u001B[0mXseq\u001B[0m\u001B[0;34m,\u001B[0m \u001B[0mis_train\u001B[0m\u001B[0;34m)\u001B[0m\u001B[0;34m)\u001B[0m\u001B[0;34m\u001B[0m\u001B[0;34m\u001B[0m\u001B[0m\n\u001B[0m\u001B[1;32m     39\u001B[0m \u001B[0;34m\u001B[0m\u001B[0m\n\u001B[1;32m     40\u001B[0m \u001B[0;34m\u001B[0m\u001B[0m\n",
      "\u001B[0;32m~/opt/anaconda3/lib/python3.9/site-packages/thinc/layers/with_array.py\u001B[0m in \u001B[0;36m_list_forward\u001B[0;34m(model, Xs, is_train)\u001B[0m\n\u001B[1;32m     71\u001B[0m     \u001B[0mlengths\u001B[0m \u001B[0;34m=\u001B[0m \u001B[0mlayer\u001B[0m\u001B[0;34m.\u001B[0m\u001B[0mops\u001B[0m\u001B[0;34m.\u001B[0m\u001B[0masarray1i\u001B[0m\u001B[0;34m(\u001B[0m\u001B[0;34m[\u001B[0m\u001B[0mlen\u001B[0m\u001B[0;34m(\u001B[0m\u001B[0mseq\u001B[0m\u001B[0;34m)\u001B[0m \u001B[0;32mfor\u001B[0m \u001B[0mseq\u001B[0m \u001B[0;32min\u001B[0m \u001B[0mXs\u001B[0m\u001B[0;34m]\u001B[0m\u001B[0;34m)\u001B[0m\u001B[0;34m\u001B[0m\u001B[0;34m\u001B[0m\u001B[0m\n\u001B[1;32m     72\u001B[0m     \u001B[0mXf\u001B[0m \u001B[0;34m=\u001B[0m \u001B[0mlayer\u001B[0m\u001B[0;34m.\u001B[0m\u001B[0mops\u001B[0m\u001B[0;34m.\u001B[0m\u001B[0mflatten\u001B[0m\u001B[0;34m(\u001B[0m\u001B[0mXs\u001B[0m\u001B[0;34m,\u001B[0m \u001B[0mpad\u001B[0m\u001B[0;34m=\u001B[0m\u001B[0mpad\u001B[0m\u001B[0;34m)\u001B[0m\u001B[0;34m\u001B[0m\u001B[0;34m\u001B[0m\u001B[0m\n\u001B[0;32m---> 73\u001B[0;31m     \u001B[0mYf\u001B[0m\u001B[0;34m,\u001B[0m \u001B[0mget_dXf\u001B[0m \u001B[0;34m=\u001B[0m \u001B[0mlayer\u001B[0m\u001B[0;34m(\u001B[0m\u001B[0mXf\u001B[0m\u001B[0;34m,\u001B[0m \u001B[0mis_train\u001B[0m\u001B[0;34m)\u001B[0m\u001B[0;34m\u001B[0m\u001B[0;34m\u001B[0m\u001B[0m\n\u001B[0m\u001B[1;32m     74\u001B[0m \u001B[0;34m\u001B[0m\u001B[0m\n\u001B[1;32m     75\u001B[0m     \u001B[0;32mdef\u001B[0m \u001B[0mbackprop\u001B[0m\u001B[0;34m(\u001B[0m\u001B[0mdYs\u001B[0m\u001B[0;34m:\u001B[0m \u001B[0mListXd\u001B[0m\u001B[0;34m)\u001B[0m \u001B[0;34m->\u001B[0m \u001B[0mListXd\u001B[0m\u001B[0;34m:\u001B[0m\u001B[0;34m\u001B[0m\u001B[0;34m\u001B[0m\u001B[0m\n",
      "\u001B[0;32m~/opt/anaconda3/lib/python3.9/site-packages/thinc/model.py\u001B[0m in \u001B[0;36m__call__\u001B[0;34m(self, X, is_train)\u001B[0m\n\u001B[1;32m    289\u001B[0m         \"\"\"Call the model's `forward` function, returning the output and a\n\u001B[1;32m    290\u001B[0m         callback to compute the gradients via backpropagation.\"\"\"\n\u001B[0;32m--> 291\u001B[0;31m         \u001B[0;32mreturn\u001B[0m \u001B[0mself\u001B[0m\u001B[0;34m.\u001B[0m\u001B[0m_func\u001B[0m\u001B[0;34m(\u001B[0m\u001B[0mself\u001B[0m\u001B[0;34m,\u001B[0m \u001B[0mX\u001B[0m\u001B[0;34m,\u001B[0m \u001B[0mis_train\u001B[0m\u001B[0;34m=\u001B[0m\u001B[0mis_train\u001B[0m\u001B[0;34m)\u001B[0m\u001B[0;34m\u001B[0m\u001B[0;34m\u001B[0m\u001B[0m\n\u001B[0m\u001B[1;32m    292\u001B[0m \u001B[0;34m\u001B[0m\u001B[0m\n\u001B[1;32m    293\u001B[0m     \u001B[0;32mdef\u001B[0m \u001B[0minitialize\u001B[0m\u001B[0;34m(\u001B[0m\u001B[0mself\u001B[0m\u001B[0;34m,\u001B[0m \u001B[0mX\u001B[0m\u001B[0;34m:\u001B[0m \u001B[0mOptional\u001B[0m\u001B[0;34m[\u001B[0m\u001B[0mInT\u001B[0m\u001B[0;34m]\u001B[0m \u001B[0;34m=\u001B[0m \u001B[0;32mNone\u001B[0m\u001B[0;34m,\u001B[0m \u001B[0mY\u001B[0m\u001B[0;34m:\u001B[0m \u001B[0mOptional\u001B[0m\u001B[0;34m[\u001B[0m\u001B[0mOutT\u001B[0m\u001B[0;34m]\u001B[0m \u001B[0;34m=\u001B[0m \u001B[0;32mNone\u001B[0m\u001B[0;34m)\u001B[0m \u001B[0;34m->\u001B[0m \u001B[0;34m\"Model\"\u001B[0m\u001B[0;34m:\u001B[0m\u001B[0;34m\u001B[0m\u001B[0;34m\u001B[0m\u001B[0m\n",
      "\u001B[0;32m~/opt/anaconda3/lib/python3.9/site-packages/thinc/layers/chain.py\u001B[0m in \u001B[0;36mforward\u001B[0;34m(model, X, is_train)\u001B[0m\n\u001B[1;32m     53\u001B[0m     \u001B[0mcallbacks\u001B[0m \u001B[0;34m=\u001B[0m \u001B[0;34m[\u001B[0m\u001B[0;34m]\u001B[0m\u001B[0;34m\u001B[0m\u001B[0;34m\u001B[0m\u001B[0m\n\u001B[1;32m     54\u001B[0m     \u001B[0;32mfor\u001B[0m \u001B[0mlayer\u001B[0m \u001B[0;32min\u001B[0m \u001B[0mmodel\u001B[0m\u001B[0;34m.\u001B[0m\u001B[0mlayers\u001B[0m\u001B[0;34m:\u001B[0m\u001B[0;34m\u001B[0m\u001B[0;34m\u001B[0m\u001B[0m\n\u001B[0;32m---> 55\u001B[0;31m         \u001B[0mY\u001B[0m\u001B[0;34m,\u001B[0m \u001B[0minc_layer_grad\u001B[0m \u001B[0;34m=\u001B[0m \u001B[0mlayer\u001B[0m\u001B[0;34m(\u001B[0m\u001B[0mX\u001B[0m\u001B[0;34m,\u001B[0m \u001B[0mis_train\u001B[0m\u001B[0;34m=\u001B[0m\u001B[0mis_train\u001B[0m\u001B[0;34m)\u001B[0m\u001B[0;34m\u001B[0m\u001B[0;34m\u001B[0m\u001B[0m\n\u001B[0m\u001B[1;32m     56\u001B[0m         \u001B[0mcallbacks\u001B[0m\u001B[0;34m.\u001B[0m\u001B[0mappend\u001B[0m\u001B[0;34m(\u001B[0m\u001B[0minc_layer_grad\u001B[0m\u001B[0;34m)\u001B[0m\u001B[0;34m\u001B[0m\u001B[0;34m\u001B[0m\u001B[0m\n\u001B[1;32m     57\u001B[0m         \u001B[0mX\u001B[0m \u001B[0;34m=\u001B[0m \u001B[0mY\u001B[0m\u001B[0;34m\u001B[0m\u001B[0;34m\u001B[0m\u001B[0m\n",
      "\u001B[0;32m~/opt/anaconda3/lib/python3.9/site-packages/thinc/model.py\u001B[0m in \u001B[0;36m__call__\u001B[0;34m(self, X, is_train)\u001B[0m\n\u001B[1;32m    289\u001B[0m         \"\"\"Call the model's `forward` function, returning the output and a\n\u001B[1;32m    290\u001B[0m         callback to compute the gradients via backpropagation.\"\"\"\n\u001B[0;32m--> 291\u001B[0;31m         \u001B[0;32mreturn\u001B[0m \u001B[0mself\u001B[0m\u001B[0;34m.\u001B[0m\u001B[0m_func\u001B[0m\u001B[0;34m(\u001B[0m\u001B[0mself\u001B[0m\u001B[0;34m,\u001B[0m \u001B[0mX\u001B[0m\u001B[0;34m,\u001B[0m \u001B[0mis_train\u001B[0m\u001B[0;34m=\u001B[0m\u001B[0mis_train\u001B[0m\u001B[0;34m)\u001B[0m\u001B[0;34m\u001B[0m\u001B[0;34m\u001B[0m\u001B[0m\n\u001B[0m\u001B[1;32m    292\u001B[0m \u001B[0;34m\u001B[0m\u001B[0m\n\u001B[1;32m    293\u001B[0m     \u001B[0;32mdef\u001B[0m \u001B[0minitialize\u001B[0m\u001B[0;34m(\u001B[0m\u001B[0mself\u001B[0m\u001B[0;34m,\u001B[0m \u001B[0mX\u001B[0m\u001B[0;34m:\u001B[0m \u001B[0mOptional\u001B[0m\u001B[0;34m[\u001B[0m\u001B[0mInT\u001B[0m\u001B[0;34m]\u001B[0m \u001B[0;34m=\u001B[0m \u001B[0;32mNone\u001B[0m\u001B[0;34m,\u001B[0m \u001B[0mY\u001B[0m\u001B[0;34m:\u001B[0m \u001B[0mOptional\u001B[0m\u001B[0;34m[\u001B[0m\u001B[0mOutT\u001B[0m\u001B[0;34m]\u001B[0m \u001B[0;34m=\u001B[0m \u001B[0;32mNone\u001B[0m\u001B[0;34m)\u001B[0m \u001B[0;34m->\u001B[0m \u001B[0;34m\"Model\"\u001B[0m\u001B[0;34m:\u001B[0m\u001B[0;34m\u001B[0m\u001B[0;34m\u001B[0m\u001B[0m\n",
      "\u001B[0;32m~/opt/anaconda3/lib/python3.9/site-packages/thinc/layers/residual.py\u001B[0m in \u001B[0;36mforward\u001B[0;34m(model, X, is_train)\u001B[0m\n\u001B[1;32m     39\u001B[0m             \u001B[0;32mreturn\u001B[0m \u001B[0md_output\u001B[0m \u001B[0;34m+\u001B[0m \u001B[0mdX\u001B[0m\u001B[0;34m\u001B[0m\u001B[0;34m\u001B[0m\u001B[0m\n\u001B[1;32m     40\u001B[0m \u001B[0;34m\u001B[0m\u001B[0m\n\u001B[0;32m---> 41\u001B[0;31m     \u001B[0mY\u001B[0m\u001B[0;34m,\u001B[0m \u001B[0mbackprop_layer\u001B[0m \u001B[0;34m=\u001B[0m \u001B[0mmodel\u001B[0m\u001B[0;34m.\u001B[0m\u001B[0mlayers\u001B[0m\u001B[0;34m[\u001B[0m\u001B[0;36m0\u001B[0m\u001B[0;34m]\u001B[0m\u001B[0;34m(\u001B[0m\u001B[0mX\u001B[0m\u001B[0;34m,\u001B[0m \u001B[0mis_train\u001B[0m\u001B[0;34m)\u001B[0m\u001B[0;34m\u001B[0m\u001B[0;34m\u001B[0m\u001B[0m\n\u001B[0m\u001B[1;32m     42\u001B[0m     \u001B[0;32mif\u001B[0m \u001B[0misinstance\u001B[0m\u001B[0;34m(\u001B[0m\u001B[0mX\u001B[0m\u001B[0;34m,\u001B[0m \u001B[0mlist\u001B[0m\u001B[0;34m)\u001B[0m\u001B[0;34m:\u001B[0m\u001B[0;34m\u001B[0m\u001B[0;34m\u001B[0m\u001B[0m\n\u001B[1;32m     43\u001B[0m         \u001B[0;32mreturn\u001B[0m \u001B[0;34m[\u001B[0m\u001B[0mX\u001B[0m\u001B[0;34m[\u001B[0m\u001B[0mi\u001B[0m\u001B[0;34m]\u001B[0m \u001B[0;34m+\u001B[0m \u001B[0mY\u001B[0m\u001B[0;34m[\u001B[0m\u001B[0mi\u001B[0m\u001B[0;34m]\u001B[0m \u001B[0;32mfor\u001B[0m \u001B[0mi\u001B[0m \u001B[0;32min\u001B[0m \u001B[0mrange\u001B[0m\u001B[0;34m(\u001B[0m\u001B[0mlen\u001B[0m\u001B[0;34m(\u001B[0m\u001B[0mX\u001B[0m\u001B[0;34m)\u001B[0m\u001B[0;34m)\u001B[0m\u001B[0;34m]\u001B[0m\u001B[0;34m,\u001B[0m \u001B[0mbackprop\u001B[0m\u001B[0;34m\u001B[0m\u001B[0;34m\u001B[0m\u001B[0m\n",
      "\u001B[0;32m~/opt/anaconda3/lib/python3.9/site-packages/thinc/model.py\u001B[0m in \u001B[0;36m__call__\u001B[0;34m(self, X, is_train)\u001B[0m\n\u001B[1;32m    289\u001B[0m         \"\"\"Call the model's `forward` function, returning the output and a\n\u001B[1;32m    290\u001B[0m         callback to compute the gradients via backpropagation.\"\"\"\n\u001B[0;32m--> 291\u001B[0;31m         \u001B[0;32mreturn\u001B[0m \u001B[0mself\u001B[0m\u001B[0;34m.\u001B[0m\u001B[0m_func\u001B[0m\u001B[0;34m(\u001B[0m\u001B[0mself\u001B[0m\u001B[0;34m,\u001B[0m \u001B[0mX\u001B[0m\u001B[0;34m,\u001B[0m \u001B[0mis_train\u001B[0m\u001B[0;34m=\u001B[0m\u001B[0mis_train\u001B[0m\u001B[0;34m)\u001B[0m\u001B[0;34m\u001B[0m\u001B[0;34m\u001B[0m\u001B[0m\n\u001B[0m\u001B[1;32m    292\u001B[0m \u001B[0;34m\u001B[0m\u001B[0m\n\u001B[1;32m    293\u001B[0m     \u001B[0;32mdef\u001B[0m \u001B[0minitialize\u001B[0m\u001B[0;34m(\u001B[0m\u001B[0mself\u001B[0m\u001B[0;34m,\u001B[0m \u001B[0mX\u001B[0m\u001B[0;34m:\u001B[0m \u001B[0mOptional\u001B[0m\u001B[0;34m[\u001B[0m\u001B[0mInT\u001B[0m\u001B[0;34m]\u001B[0m \u001B[0;34m=\u001B[0m \u001B[0;32mNone\u001B[0m\u001B[0;34m,\u001B[0m \u001B[0mY\u001B[0m\u001B[0;34m:\u001B[0m \u001B[0mOptional\u001B[0m\u001B[0;34m[\u001B[0m\u001B[0mOutT\u001B[0m\u001B[0;34m]\u001B[0m \u001B[0;34m=\u001B[0m \u001B[0;32mNone\u001B[0m\u001B[0;34m)\u001B[0m \u001B[0;34m->\u001B[0m \u001B[0;34m\"Model\"\u001B[0m\u001B[0;34m:\u001B[0m\u001B[0;34m\u001B[0m\u001B[0;34m\u001B[0m\u001B[0m\n",
      "\u001B[0;32m~/opt/anaconda3/lib/python3.9/site-packages/thinc/layers/chain.py\u001B[0m in \u001B[0;36mforward\u001B[0;34m(model, X, is_train)\u001B[0m\n\u001B[1;32m     53\u001B[0m     \u001B[0mcallbacks\u001B[0m \u001B[0;34m=\u001B[0m \u001B[0;34m[\u001B[0m\u001B[0;34m]\u001B[0m\u001B[0;34m\u001B[0m\u001B[0;34m\u001B[0m\u001B[0m\n\u001B[1;32m     54\u001B[0m     \u001B[0;32mfor\u001B[0m \u001B[0mlayer\u001B[0m \u001B[0;32min\u001B[0m \u001B[0mmodel\u001B[0m\u001B[0;34m.\u001B[0m\u001B[0mlayers\u001B[0m\u001B[0;34m:\u001B[0m\u001B[0;34m\u001B[0m\u001B[0;34m\u001B[0m\u001B[0m\n\u001B[0;32m---> 55\u001B[0;31m         \u001B[0mY\u001B[0m\u001B[0;34m,\u001B[0m \u001B[0minc_layer_grad\u001B[0m \u001B[0;34m=\u001B[0m \u001B[0mlayer\u001B[0m\u001B[0;34m(\u001B[0m\u001B[0mX\u001B[0m\u001B[0;34m,\u001B[0m \u001B[0mis_train\u001B[0m\u001B[0;34m=\u001B[0m\u001B[0mis_train\u001B[0m\u001B[0;34m)\u001B[0m\u001B[0;34m\u001B[0m\u001B[0;34m\u001B[0m\u001B[0m\n\u001B[0m\u001B[1;32m     56\u001B[0m         \u001B[0mcallbacks\u001B[0m\u001B[0;34m.\u001B[0m\u001B[0mappend\u001B[0m\u001B[0;34m(\u001B[0m\u001B[0minc_layer_grad\u001B[0m\u001B[0;34m)\u001B[0m\u001B[0;34m\u001B[0m\u001B[0;34m\u001B[0m\u001B[0m\n\u001B[1;32m     57\u001B[0m         \u001B[0mX\u001B[0m \u001B[0;34m=\u001B[0m \u001B[0mY\u001B[0m\u001B[0;34m\u001B[0m\u001B[0;34m\u001B[0m\u001B[0m\n",
      "\u001B[0;32m~/opt/anaconda3/lib/python3.9/site-packages/thinc/model.py\u001B[0m in \u001B[0;36m__call__\u001B[0;34m(self, X, is_train)\u001B[0m\n\u001B[1;32m    289\u001B[0m         \"\"\"Call the model's `forward` function, returning the output and a\n\u001B[1;32m    290\u001B[0m         callback to compute the gradients via backpropagation.\"\"\"\n\u001B[0;32m--> 291\u001B[0;31m         \u001B[0;32mreturn\u001B[0m \u001B[0mself\u001B[0m\u001B[0;34m.\u001B[0m\u001B[0m_func\u001B[0m\u001B[0;34m(\u001B[0m\u001B[0mself\u001B[0m\u001B[0;34m,\u001B[0m \u001B[0mX\u001B[0m\u001B[0;34m,\u001B[0m \u001B[0mis_train\u001B[0m\u001B[0;34m=\u001B[0m\u001B[0mis_train\u001B[0m\u001B[0;34m)\u001B[0m\u001B[0;34m\u001B[0m\u001B[0;34m\u001B[0m\u001B[0m\n\u001B[0m\u001B[1;32m    292\u001B[0m \u001B[0;34m\u001B[0m\u001B[0m\n\u001B[1;32m    293\u001B[0m     \u001B[0;32mdef\u001B[0m \u001B[0minitialize\u001B[0m\u001B[0;34m(\u001B[0m\u001B[0mself\u001B[0m\u001B[0;34m,\u001B[0m \u001B[0mX\u001B[0m\u001B[0;34m:\u001B[0m \u001B[0mOptional\u001B[0m\u001B[0;34m[\u001B[0m\u001B[0mInT\u001B[0m\u001B[0;34m]\u001B[0m \u001B[0;34m=\u001B[0m \u001B[0;32mNone\u001B[0m\u001B[0;34m,\u001B[0m \u001B[0mY\u001B[0m\u001B[0;34m:\u001B[0m \u001B[0mOptional\u001B[0m\u001B[0;34m[\u001B[0m\u001B[0mOutT\u001B[0m\u001B[0;34m]\u001B[0m \u001B[0;34m=\u001B[0m \u001B[0;32mNone\u001B[0m\u001B[0;34m)\u001B[0m \u001B[0;34m->\u001B[0m \u001B[0;34m\"Model\"\u001B[0m\u001B[0;34m:\u001B[0m\u001B[0;34m\u001B[0m\u001B[0;34m\u001B[0m\u001B[0m\n",
      "\u001B[0;32m~/opt/anaconda3/lib/python3.9/site-packages/thinc/layers/chain.py\u001B[0m in \u001B[0;36mforward\u001B[0;34m(model, X, is_train)\u001B[0m\n\u001B[1;32m     53\u001B[0m     \u001B[0mcallbacks\u001B[0m \u001B[0;34m=\u001B[0m \u001B[0;34m[\u001B[0m\u001B[0;34m]\u001B[0m\u001B[0;34m\u001B[0m\u001B[0;34m\u001B[0m\u001B[0m\n\u001B[1;32m     54\u001B[0m     \u001B[0;32mfor\u001B[0m \u001B[0mlayer\u001B[0m \u001B[0;32min\u001B[0m \u001B[0mmodel\u001B[0m\u001B[0;34m.\u001B[0m\u001B[0mlayers\u001B[0m\u001B[0;34m:\u001B[0m\u001B[0;34m\u001B[0m\u001B[0;34m\u001B[0m\u001B[0m\n\u001B[0;32m---> 55\u001B[0;31m         \u001B[0mY\u001B[0m\u001B[0;34m,\u001B[0m \u001B[0minc_layer_grad\u001B[0m \u001B[0;34m=\u001B[0m \u001B[0mlayer\u001B[0m\u001B[0;34m(\u001B[0m\u001B[0mX\u001B[0m\u001B[0;34m,\u001B[0m \u001B[0mis_train\u001B[0m\u001B[0;34m=\u001B[0m\u001B[0mis_train\u001B[0m\u001B[0;34m)\u001B[0m\u001B[0;34m\u001B[0m\u001B[0;34m\u001B[0m\u001B[0m\n\u001B[0m\u001B[1;32m     56\u001B[0m         \u001B[0mcallbacks\u001B[0m\u001B[0;34m.\u001B[0m\u001B[0mappend\u001B[0m\u001B[0;34m(\u001B[0m\u001B[0minc_layer_grad\u001B[0m\u001B[0;34m)\u001B[0m\u001B[0;34m\u001B[0m\u001B[0;34m\u001B[0m\u001B[0m\n\u001B[1;32m     57\u001B[0m         \u001B[0mX\u001B[0m \u001B[0;34m=\u001B[0m \u001B[0mY\u001B[0m\u001B[0;34m\u001B[0m\u001B[0;34m\u001B[0m\u001B[0m\n",
      "\u001B[0;32m~/opt/anaconda3/lib/python3.9/site-packages/thinc/model.py\u001B[0m in \u001B[0;36m__call__\u001B[0;34m(self, X, is_train)\u001B[0m\n\u001B[1;32m    289\u001B[0m         \"\"\"Call the model's `forward` function, returning the output and a\n\u001B[1;32m    290\u001B[0m         callback to compute the gradients via backpropagation.\"\"\"\n\u001B[0;32m--> 291\u001B[0;31m         \u001B[0;32mreturn\u001B[0m \u001B[0mself\u001B[0m\u001B[0;34m.\u001B[0m\u001B[0m_func\u001B[0m\u001B[0;34m(\u001B[0m\u001B[0mself\u001B[0m\u001B[0;34m,\u001B[0m \u001B[0mX\u001B[0m\u001B[0;34m,\u001B[0m \u001B[0mis_train\u001B[0m\u001B[0;34m=\u001B[0m\u001B[0mis_train\u001B[0m\u001B[0;34m)\u001B[0m\u001B[0;34m\u001B[0m\u001B[0;34m\u001B[0m\u001B[0m\n\u001B[0m\u001B[1;32m    292\u001B[0m \u001B[0;34m\u001B[0m\u001B[0m\n\u001B[1;32m    293\u001B[0m     \u001B[0;32mdef\u001B[0m \u001B[0minitialize\u001B[0m\u001B[0;34m(\u001B[0m\u001B[0mself\u001B[0m\u001B[0;34m,\u001B[0m \u001B[0mX\u001B[0m\u001B[0;34m:\u001B[0m \u001B[0mOptional\u001B[0m\u001B[0;34m[\u001B[0m\u001B[0mInT\u001B[0m\u001B[0;34m]\u001B[0m \u001B[0;34m=\u001B[0m \u001B[0;32mNone\u001B[0m\u001B[0;34m,\u001B[0m \u001B[0mY\u001B[0m\u001B[0;34m:\u001B[0m \u001B[0mOptional\u001B[0m\u001B[0;34m[\u001B[0m\u001B[0mOutT\u001B[0m\u001B[0;34m]\u001B[0m \u001B[0;34m=\u001B[0m \u001B[0;32mNone\u001B[0m\u001B[0;34m)\u001B[0m \u001B[0;34m->\u001B[0m \u001B[0;34m\"Model\"\u001B[0m\u001B[0;34m:\u001B[0m\u001B[0;34m\u001B[0m\u001B[0;34m\u001B[0m\u001B[0m\n",
      "\u001B[0;32m~/opt/anaconda3/lib/python3.9/site-packages/thinc/layers/chain.py\u001B[0m in \u001B[0;36mforward\u001B[0;34m(model, X, is_train)\u001B[0m\n\u001B[1;32m     53\u001B[0m     \u001B[0mcallbacks\u001B[0m \u001B[0;34m=\u001B[0m \u001B[0;34m[\u001B[0m\u001B[0;34m]\u001B[0m\u001B[0;34m\u001B[0m\u001B[0;34m\u001B[0m\u001B[0m\n\u001B[1;32m     54\u001B[0m     \u001B[0;32mfor\u001B[0m \u001B[0mlayer\u001B[0m \u001B[0;32min\u001B[0m \u001B[0mmodel\u001B[0m\u001B[0;34m.\u001B[0m\u001B[0mlayers\u001B[0m\u001B[0;34m:\u001B[0m\u001B[0;34m\u001B[0m\u001B[0;34m\u001B[0m\u001B[0m\n\u001B[0;32m---> 55\u001B[0;31m         \u001B[0mY\u001B[0m\u001B[0;34m,\u001B[0m \u001B[0minc_layer_grad\u001B[0m \u001B[0;34m=\u001B[0m \u001B[0mlayer\u001B[0m\u001B[0;34m(\u001B[0m\u001B[0mX\u001B[0m\u001B[0;34m,\u001B[0m \u001B[0mis_train\u001B[0m\u001B[0;34m=\u001B[0m\u001B[0mis_train\u001B[0m\u001B[0;34m)\u001B[0m\u001B[0;34m\u001B[0m\u001B[0;34m\u001B[0m\u001B[0m\n\u001B[0m\u001B[1;32m     56\u001B[0m         \u001B[0mcallbacks\u001B[0m\u001B[0;34m.\u001B[0m\u001B[0mappend\u001B[0m\u001B[0;34m(\u001B[0m\u001B[0minc_layer_grad\u001B[0m\u001B[0;34m)\u001B[0m\u001B[0;34m\u001B[0m\u001B[0;34m\u001B[0m\u001B[0m\n\u001B[1;32m     57\u001B[0m         \u001B[0mX\u001B[0m \u001B[0;34m=\u001B[0m \u001B[0mY\u001B[0m\u001B[0;34m\u001B[0m\u001B[0;34m\u001B[0m\u001B[0m\n",
      "\u001B[0;32m~/opt/anaconda3/lib/python3.9/site-packages/thinc/model.py\u001B[0m in \u001B[0;36m__call__\u001B[0;34m(self, X, is_train)\u001B[0m\n\u001B[1;32m    289\u001B[0m         \"\"\"Call the model's `forward` function, returning the output and a\n\u001B[1;32m    290\u001B[0m         callback to compute the gradients via backpropagation.\"\"\"\n\u001B[0;32m--> 291\u001B[0;31m         \u001B[0;32mreturn\u001B[0m \u001B[0mself\u001B[0m\u001B[0;34m.\u001B[0m\u001B[0m_func\u001B[0m\u001B[0;34m(\u001B[0m\u001B[0mself\u001B[0m\u001B[0;34m,\u001B[0m \u001B[0mX\u001B[0m\u001B[0;34m,\u001B[0m \u001B[0mis_train\u001B[0m\u001B[0;34m=\u001B[0m\u001B[0mis_train\u001B[0m\u001B[0;34m)\u001B[0m\u001B[0;34m\u001B[0m\u001B[0;34m\u001B[0m\u001B[0m\n\u001B[0m\u001B[1;32m    292\u001B[0m \u001B[0;34m\u001B[0m\u001B[0m\n\u001B[1;32m    293\u001B[0m     \u001B[0;32mdef\u001B[0m \u001B[0minitialize\u001B[0m\u001B[0;34m(\u001B[0m\u001B[0mself\u001B[0m\u001B[0;34m,\u001B[0m \u001B[0mX\u001B[0m\u001B[0;34m:\u001B[0m \u001B[0mOptional\u001B[0m\u001B[0;34m[\u001B[0m\u001B[0mInT\u001B[0m\u001B[0;34m]\u001B[0m \u001B[0;34m=\u001B[0m \u001B[0;32mNone\u001B[0m\u001B[0;34m,\u001B[0m \u001B[0mY\u001B[0m\u001B[0;34m:\u001B[0m \u001B[0mOptional\u001B[0m\u001B[0;34m[\u001B[0m\u001B[0mOutT\u001B[0m\u001B[0;34m]\u001B[0m \u001B[0;34m=\u001B[0m \u001B[0;32mNone\u001B[0m\u001B[0;34m)\u001B[0m \u001B[0;34m->\u001B[0m \u001B[0;34m\"Model\"\u001B[0m\u001B[0;34m:\u001B[0m\u001B[0;34m\u001B[0m\u001B[0;34m\u001B[0m\u001B[0m\n",
      "\u001B[0;32m~/opt/anaconda3/lib/python3.9/site-packages/thinc/layers/layernorm.py\u001B[0m in \u001B[0;36mforward\u001B[0;34m(model, X, is_train)\u001B[0m\n\u001B[1;32m     23\u001B[0m \u001B[0;34m\u001B[0m\u001B[0m\n\u001B[1;32m     24\u001B[0m \u001B[0;32mdef\u001B[0m \u001B[0mforward\u001B[0m\u001B[0;34m(\u001B[0m\u001B[0mmodel\u001B[0m\u001B[0;34m:\u001B[0m \u001B[0mModel\u001B[0m\u001B[0;34m[\u001B[0m\u001B[0mInT\u001B[0m\u001B[0;34m,\u001B[0m \u001B[0mInT\u001B[0m\u001B[0;34m]\u001B[0m\u001B[0;34m,\u001B[0m \u001B[0mX\u001B[0m\u001B[0;34m:\u001B[0m \u001B[0mInT\u001B[0m\u001B[0;34m,\u001B[0m \u001B[0mis_train\u001B[0m\u001B[0;34m:\u001B[0m \u001B[0mbool\u001B[0m\u001B[0;34m)\u001B[0m \u001B[0;34m->\u001B[0m \u001B[0mTuple\u001B[0m\u001B[0;34m[\u001B[0m\u001B[0mInT\u001B[0m\u001B[0;34m,\u001B[0m \u001B[0mCallable\u001B[0m\u001B[0;34m]\u001B[0m\u001B[0;34m:\u001B[0m\u001B[0;34m\u001B[0m\u001B[0;34m\u001B[0m\u001B[0m\n\u001B[0;32m---> 25\u001B[0;31m     \u001B[0mN\u001B[0m\u001B[0;34m,\u001B[0m \u001B[0mmu\u001B[0m\u001B[0;34m,\u001B[0m \u001B[0mvar\u001B[0m \u001B[0;34m=\u001B[0m \u001B[0m_get_moments\u001B[0m\u001B[0;34m(\u001B[0m\u001B[0mmodel\u001B[0m\u001B[0;34m.\u001B[0m\u001B[0mops\u001B[0m\u001B[0;34m,\u001B[0m \u001B[0mX\u001B[0m\u001B[0;34m)\u001B[0m\u001B[0;34m\u001B[0m\u001B[0;34m\u001B[0m\u001B[0m\n\u001B[0m\u001B[1;32m     26\u001B[0m     \u001B[0mXhat\u001B[0m \u001B[0;34m=\u001B[0m \u001B[0;34m(\u001B[0m\u001B[0mX\u001B[0m \u001B[0;34m-\u001B[0m \u001B[0mmu\u001B[0m\u001B[0;34m)\u001B[0m \u001B[0;34m*\u001B[0m \u001B[0mvar\u001B[0m \u001B[0;34m**\u001B[0m \u001B[0;34m(\u001B[0m\u001B[0;34m-\u001B[0m\u001B[0;36m1.0\u001B[0m \u001B[0;34m/\u001B[0m \u001B[0;36m2.0\u001B[0m\u001B[0;34m)\u001B[0m\u001B[0;34m\u001B[0m\u001B[0;34m\u001B[0m\u001B[0m\n\u001B[1;32m     27\u001B[0m     \u001B[0mY\u001B[0m\u001B[0;34m,\u001B[0m \u001B[0mbackprop_rescale\u001B[0m \u001B[0;34m=\u001B[0m \u001B[0m_begin_update_scale_shift\u001B[0m\u001B[0;34m(\u001B[0m\u001B[0mmodel\u001B[0m\u001B[0;34m,\u001B[0m \u001B[0mXhat\u001B[0m\u001B[0;34m)\u001B[0m\u001B[0;34m\u001B[0m\u001B[0;34m\u001B[0m\u001B[0m\n",
      "\u001B[0;32m~/opt/anaconda3/lib/python3.9/site-packages/thinc/layers/layernorm.py\u001B[0m in \u001B[0;36m_get_moments\u001B[0;34m(ops, X)\u001B[0m\n\u001B[1;32m     73\u001B[0m \u001B[0;32mdef\u001B[0m \u001B[0m_get_moments\u001B[0m\u001B[0;34m(\u001B[0m\u001B[0mops\u001B[0m\u001B[0;34m:\u001B[0m \u001B[0mOps\u001B[0m\u001B[0;34m,\u001B[0m \u001B[0mX\u001B[0m\u001B[0;34m:\u001B[0m \u001B[0mFloats2d\u001B[0m\u001B[0;34m)\u001B[0m \u001B[0;34m->\u001B[0m \u001B[0mTuple\u001B[0m\u001B[0;34m[\u001B[0m\u001B[0mFloats2d\u001B[0m\u001B[0;34m,\u001B[0m \u001B[0mFloats2d\u001B[0m\u001B[0;34m,\u001B[0m \u001B[0mFloats2d\u001B[0m\u001B[0;34m]\u001B[0m\u001B[0;34m:\u001B[0m\u001B[0;34m\u001B[0m\u001B[0;34m\u001B[0m\u001B[0m\n\u001B[1;32m     74\u001B[0m     \u001B[0;31m# TODO: Do mean methods\u001B[0m\u001B[0;34m\u001B[0m\u001B[0;34m\u001B[0m\u001B[0m\n\u001B[0;32m---> 75\u001B[0;31m     \u001B[0mmu\u001B[0m\u001B[0;34m:\u001B[0m \u001B[0mFloats2d\u001B[0m \u001B[0;34m=\u001B[0m \u001B[0mX\u001B[0m\u001B[0;34m.\u001B[0m\u001B[0mmean\u001B[0m\u001B[0;34m(\u001B[0m\u001B[0maxis\u001B[0m\u001B[0;34m=\u001B[0m\u001B[0;36m1\u001B[0m\u001B[0;34m,\u001B[0m \u001B[0mkeepdims\u001B[0m\u001B[0;34m=\u001B[0m\u001B[0;32mTrue\u001B[0m\u001B[0;34m)\u001B[0m\u001B[0;34m\u001B[0m\u001B[0;34m\u001B[0m\u001B[0m\n\u001B[0m\u001B[1;32m     76\u001B[0m     \u001B[0mvar\u001B[0m\u001B[0;34m:\u001B[0m \u001B[0mFloats2d\u001B[0m \u001B[0;34m=\u001B[0m \u001B[0mX\u001B[0m\u001B[0;34m.\u001B[0m\u001B[0mvar\u001B[0m\u001B[0;34m(\u001B[0m\u001B[0maxis\u001B[0m\u001B[0;34m=\u001B[0m\u001B[0;36m1\u001B[0m\u001B[0;34m,\u001B[0m \u001B[0mkeepdims\u001B[0m\u001B[0;34m=\u001B[0m\u001B[0;32mTrue\u001B[0m\u001B[0;34m)\u001B[0m \u001B[0;34m+\u001B[0m \u001B[0;36m1e-08\u001B[0m\u001B[0;34m\u001B[0m\u001B[0;34m\u001B[0m\u001B[0m\n\u001B[1;32m     77\u001B[0m     \u001B[0;32mreturn\u001B[0m \u001B[0mcast\u001B[0m\u001B[0;34m(\u001B[0m\u001B[0mFloats2d\u001B[0m\u001B[0;34m,\u001B[0m \u001B[0mops\u001B[0m\u001B[0;34m.\u001B[0m\u001B[0masarray_f\u001B[0m\u001B[0;34m(\u001B[0m\u001B[0;34m[\u001B[0m\u001B[0mX\u001B[0m\u001B[0;34m.\u001B[0m\u001B[0mshape\u001B[0m\u001B[0;34m[\u001B[0m\u001B[0;36m1\u001B[0m\u001B[0;34m]\u001B[0m\u001B[0;34m]\u001B[0m\u001B[0;34m)\u001B[0m\u001B[0;34m)\u001B[0m\u001B[0;34m,\u001B[0m \u001B[0mmu\u001B[0m\u001B[0;34m,\u001B[0m \u001B[0mvar\u001B[0m\u001B[0;34m\u001B[0m\u001B[0;34m\u001B[0m\u001B[0m\n",
      "\u001B[0;32m~/opt/anaconda3/lib/python3.9/site-packages/numpy/core/_methods.py\u001B[0m in \u001B[0;36m_mean\u001B[0;34m(a, axis, dtype, out, keepdims, where)\u001B[0m\n\u001B[1;32m    178\u001B[0m \u001B[0;34m\u001B[0m\u001B[0m\n\u001B[1;32m    179\u001B[0m     \u001B[0mret\u001B[0m \u001B[0;34m=\u001B[0m \u001B[0mumr_sum\u001B[0m\u001B[0;34m(\u001B[0m\u001B[0marr\u001B[0m\u001B[0;34m,\u001B[0m \u001B[0maxis\u001B[0m\u001B[0;34m,\u001B[0m \u001B[0mdtype\u001B[0m\u001B[0;34m,\u001B[0m \u001B[0mout\u001B[0m\u001B[0;34m,\u001B[0m \u001B[0mkeepdims\u001B[0m\u001B[0;34m,\u001B[0m \u001B[0mwhere\u001B[0m\u001B[0;34m=\u001B[0m\u001B[0mwhere\u001B[0m\u001B[0;34m)\u001B[0m\u001B[0;34m\u001B[0m\u001B[0;34m\u001B[0m\u001B[0m\n\u001B[0;32m--> 180\u001B[0;31m     \u001B[0;32mif\u001B[0m \u001B[0misinstance\u001B[0m\u001B[0;34m(\u001B[0m\u001B[0mret\u001B[0m\u001B[0;34m,\u001B[0m \u001B[0mmu\u001B[0m\u001B[0;34m.\u001B[0m\u001B[0mndarray\u001B[0m\u001B[0;34m)\u001B[0m\u001B[0;34m:\u001B[0m\u001B[0;34m\u001B[0m\u001B[0;34m\u001B[0m\u001B[0m\n\u001B[0m\u001B[1;32m    181\u001B[0m         ret = um.true_divide(\n\u001B[1;32m    182\u001B[0m                 ret, rcount, out=ret, casting='unsafe', subok=False)\n",
      "\u001B[0;31mKeyboardInterrupt\u001B[0m: "
     ]
    }
   ],
   "source": [
    "def qa_sim(question, answer):\n",
    "    \"\"\"\n",
    "    Function to provide a similarity score between two sentences (question and answer),\n",
    "    returned score is between -1 and 1\n",
    "    \"\"\"\n",
    "    test_question = question\n",
    "    test_answer = answer\n",
    "\n",
    "    # Create a token for the test movie and initialise the highest coefficient marker\n",
    "    q_token = nlp(test_question)\n",
    "    a_token = nlp(test_answer)\n",
    "\n",
    "    return q_token.similarity(a_token)\n",
    "\n",
    "df['sim_score'] = df.apply(lambda x: qa_sim(x.question, x.answer), axis=1)"
   ],
   "metadata": {
    "collapsed": false
   }
  },
  {
   "cell_type": "code",
   "execution_count": 10,
   "outputs": [
    {
     "data": {
      "text/plain": "                                               question  \\\n3774           Does anybody know the inside dimensions?   \n7016  How loud is this fan, I dont see the Scones li...   \n2473               WILL THIS FIT MODEL (P) MSD2641KEB ?   \n3570  Can I stack a 4-Inch by 4-Inch by 14.5-Inch on...   \n2355               WILL THIS FIT MODEL (P) MSD2641KEB ?   \n\n                                                 answer  sim_score  \n3774  Length(front) 19\" Width(side) 15\" Height(depth...  -0.363745  \n7016  Low speed: 25 dba (0.4sones) to Max speed: 56d...  -0.347375  \n2473  Hey William, not sure what your model is, but ...  -0.286926  \n3570                                                Yes  -0.276408  \n2355  If it is in an icemaker model that fits in you...  -0.262069  ",
      "text/html": "<div>\n<style scoped>\n    .dataframe tbody tr th:only-of-type {\n        vertical-align: middle;\n    }\n\n    .dataframe tbody tr th {\n        vertical-align: top;\n    }\n\n    .dataframe thead th {\n        text-align: right;\n    }\n</style>\n<table border=\"1\" class=\"dataframe\">\n  <thead>\n    <tr style=\"text-align: right;\">\n      <th></th>\n      <th>question</th>\n      <th>answer</th>\n      <th>sim_score</th>\n    </tr>\n  </thead>\n  <tbody>\n    <tr>\n      <th>3774</th>\n      <td>Does anybody know the inside dimensions?</td>\n      <td>Length(front) 19\" Width(side) 15\" Height(depth...</td>\n      <td>-0.363745</td>\n    </tr>\n    <tr>\n      <th>7016</th>\n      <td>How loud is this fan, I dont see the Scones li...</td>\n      <td>Low speed: 25 dba (0.4sones) to Max speed: 56d...</td>\n      <td>-0.347375</td>\n    </tr>\n    <tr>\n      <th>2473</th>\n      <td>WILL THIS FIT MODEL (P) MSD2641KEB ?</td>\n      <td>Hey William, not sure what your model is, but ...</td>\n      <td>-0.286926</td>\n    </tr>\n    <tr>\n      <th>3570</th>\n      <td>Can I stack a 4-Inch by 4-Inch by 14.5-Inch on...</td>\n      <td>Yes</td>\n      <td>-0.276408</td>\n    </tr>\n    <tr>\n      <th>2355</th>\n      <td>WILL THIS FIT MODEL (P) MSD2641KEB ?</td>\n      <td>If it is in an icemaker model that fits in you...</td>\n      <td>-0.262069</td>\n    </tr>\n  </tbody>\n</table>\n</div>"
     },
     "execution_count": 10,
     "metadata": {},
     "output_type": "execute_result"
    }
   ],
   "source": [
    "df[['question','answer','sim_score']].sort_values(by='sim_score').head()"
   ],
   "metadata": {
    "collapsed": false
   }
  },
  {
   "cell_type": "code",
   "execution_count": 11,
   "outputs": [
    {
     "data": {
      "text/plain": "                                               question  \\\n5533  Does this product come with all the items show...   \n2988  I know the washer has a manual override where ...   \n6056  In the picture looks like the shelving is made...   \n1504                          does it have to be vented   \n2823                                 does it has a cord   \n\n                                                 answer  sim_score  \n5533  Yes, This product come with all the items show...   0.956205  \n2988  Yes. What I do sometimes is I just use the ext...   0.958902  \n6056  Shelves are shaped to hold wine bottles. I use...   0.959349  \n1504                          yes it needs to be vented   0.968868  \n2823                             Yes it does has a cord   0.989453  ",
      "text/html": "<div>\n<style scoped>\n    .dataframe tbody tr th:only-of-type {\n        vertical-align: middle;\n    }\n\n    .dataframe tbody tr th {\n        vertical-align: top;\n    }\n\n    .dataframe thead th {\n        text-align: right;\n    }\n</style>\n<table border=\"1\" class=\"dataframe\">\n  <thead>\n    <tr style=\"text-align: right;\">\n      <th></th>\n      <th>question</th>\n      <th>answer</th>\n      <th>sim_score</th>\n    </tr>\n  </thead>\n  <tbody>\n    <tr>\n      <th>5533</th>\n      <td>Does this product come with all the items show...</td>\n      <td>Yes, This product come with all the items show...</td>\n      <td>0.956205</td>\n    </tr>\n    <tr>\n      <th>2988</th>\n      <td>I know the washer has a manual override where ...</td>\n      <td>Yes. What I do sometimes is I just use the ext...</td>\n      <td>0.958902</td>\n    </tr>\n    <tr>\n      <th>6056</th>\n      <td>In the picture looks like the shelving is made...</td>\n      <td>Shelves are shaped to hold wine bottles. I use...</td>\n      <td>0.959349</td>\n    </tr>\n    <tr>\n      <th>1504</th>\n      <td>does it have to be vented</td>\n      <td>yes it needs to be vented</td>\n      <td>0.968868</td>\n    </tr>\n    <tr>\n      <th>2823</th>\n      <td>does it has a cord</td>\n      <td>Yes it does has a cord</td>\n      <td>0.989453</td>\n    </tr>\n  </tbody>\n</table>\n</div>"
     },
     "execution_count": 11,
     "metadata": {},
     "output_type": "execute_result"
    }
   ],
   "source": [
    "df[['question','answer','sim_score']].sort_values(by='sim_score').tail()"
   ],
   "metadata": {
    "collapsed": false
   }
  },
  {
   "cell_type": "code",
   "execution_count": 154,
   "outputs": [
    {
     "data": {
      "text/plain": "answer      Shelves are shaped to hold wine bottles. I use...\nquestion    In the picture looks like the shelving is made...\nName: 6056, dtype: object"
     },
     "execution_count": 154,
     "metadata": {},
     "output_type": "execute_result"
    }
   ],
   "source": [
    "df.loc[6056,['answer','question']]"
   ],
   "metadata": {
    "collapsed": false
   }
  },
  {
   "cell_type": "markdown",
   "source": [
    "# Create a more accurate target value\n",
    "### Extract the question word from the question"
   ],
   "metadata": {
    "collapsed": false
   }
  },
  {
   "cell_type": "code",
   "execution_count": 13,
   "outputs": [
    {
     "data": {
      "text/plain": "is        1805\nwill      1634\nwhat      1193\ndoes      1110\nhow        856\ncan        617\nare        249\ndo         226\nwhen       209\nwhere      204\nwhich      150\nwould      138\nwhy         96\nhas         50\nhave        38\ncould       33\nwho         22\nshould      19\ndid         14\nam          10\nmay          1\nName: question_word, dtype: int64"
     },
     "execution_count": 13,
     "metadata": {},
     "output_type": "execute_result"
    }
   ],
   "source": [
    "#lemmatizer = WordNetLemmatizer()\n",
    "#p_stemmer = PorterStemmer() Neither of these , turn 'does' -> 'do', so cannot use for 'what's' -> 'what'\n",
    "qword_options = []\n",
    "q_words = ['what', 'when', 'where', 'who', 'whom', 'which', 'whose', 'why', 'how', 'is', 'are', 'will', 'would', 'can', 'could', 'should', 'does', 'do', 'did', 'has', 'have', 'am', 'may'] # These are in order of priority when picking the question word\n",
    "def extract_q(question):\n",
    "    # for word in [p_stemmer.stem(x) for x in word_tokenize(question.lower())]:\n",
    "    answer_list =  word_tokenize(question.lower())\n",
    "    if bool(set(q_words) & set(answer_list)):\n",
    "        word_out = [x for x in q_words if x in answer_list][0]\n",
    "    else:\n",
    "        word_out = np.nan\n",
    "    return word_out\n",
    "\n",
    "df['question_word'] = df['question'].apply(extract_q)\n",
    "df['question_word'].value_counts()"
   ],
   "metadata": {
    "collapsed": false
   }
  },
  {
   "cell_type": "code",
   "execution_count": 14,
   "outputs": [
    {
     "data": {
      "text/plain": "                                             question answerType  \\\n7   If no power cord is included, how do I plug in...        NaN   \n12  How easy to replace existing badger 1 with bad...        NaN   \n20  Hi, I'm interested in this product. Can it be ...          ?   \n30  Hi, I'm interested in this product. Can it be ...          ?   \n36  How many test kits are there in a box. How man...        NaN   \n\n                                               answer  \n7   I ttok mine off of the broken unit and install...  \n12  Not difficult as long as you have a helper or ...  \n20  I don't see how it could be used that way, no....  \n30  I don't see how it could be used that way, no....  \n36  just once. there are several types of test in ...  ",
      "text/html": "<div>\n<style scoped>\n    .dataframe tbody tr th:only-of-type {\n        vertical-align: middle;\n    }\n\n    .dataframe tbody tr th {\n        vertical-align: top;\n    }\n\n    .dataframe thead th {\n        text-align: right;\n    }\n</style>\n<table border=\"1\" class=\"dataframe\">\n  <thead>\n    <tr style=\"text-align: right;\">\n      <th></th>\n      <th>question</th>\n      <th>answerType</th>\n      <th>answer</th>\n    </tr>\n  </thead>\n  <tbody>\n    <tr>\n      <th>7</th>\n      <td>If no power cord is included, how do I plug in...</td>\n      <td>NaN</td>\n      <td>I ttok mine off of the broken unit and install...</td>\n    </tr>\n    <tr>\n      <th>12</th>\n      <td>How easy to replace existing badger 1 with bad...</td>\n      <td>NaN</td>\n      <td>Not difficult as long as you have a helper or ...</td>\n    </tr>\n    <tr>\n      <th>20</th>\n      <td>Hi, I'm interested in this product. Can it be ...</td>\n      <td>?</td>\n      <td>I don't see how it could be used that way, no....</td>\n    </tr>\n    <tr>\n      <th>30</th>\n      <td>Hi, I'm interested in this product. Can it be ...</td>\n      <td>?</td>\n      <td>I don't see how it could be used that way, no....</td>\n    </tr>\n    <tr>\n      <th>36</th>\n      <td>How many test kits are there in a box. How man...</td>\n      <td>NaN</td>\n      <td>just once. there are several types of test in ...</td>\n    </tr>\n  </tbody>\n</table>\n</div>"
     },
     "execution_count": 14,
     "metadata": {},
     "output_type": "execute_result"
    }
   ],
   "source": [
    "df[df['question_word']=='how'][['question','answerType','answer']].head()"
   ],
   "metadata": {
    "collapsed": false
   }
  },
  {
   "cell_type": "markdown",
   "source": [
    "### Process data to generate a usefulness score"
   ],
   "metadata": {
    "collapsed": false
   }
  },
  {
   "cell_type": "code",
   "execution_count": 56,
   "outputs": [
    {
     "name": "stderr",
     "output_type": "stream",
     "text": [
      "/var/folders/b7/kmbr2qfj1fd5c0wjsnnd0jtw0000gn/T/ipykernel_20585/3473484234.py:13: UserWarning: [W008] Evaluating Doc.similarity based on empty vectors.\n",
      "  return q_token.similarity(a_token)\n"
     ]
    }
   ],
   "source": [
    "from nltk.util import ngrams\n",
    "\n",
    "def extract_ngrams(data, num):\n",
    "    n_grams = ngrams(word_tokenize(data), num)\n",
    "    return [ ' '.join(grams) for grams in n_grams]\n",
    "\n",
    "def check_numeric(question, answer):\n",
    "\n",
    "    if bool(re.search('.*\\d.*', answer)) or bool(set(word_tokenize(answer)) & set(word_nums)):\n",
    "        use_score = 1\n",
    "    elif len(word_tokenize(answer))<4:\n",
    "        use_score = 0.95\n",
    "    else:\n",
    "        use_score = (qa_sim(question, answer)+1)/2\n",
    "\n",
    "    return use_score\n",
    "\n",
    "def check_yn(question, answer):\n",
    "\n",
    "    if bool(set(word_tokenize(answer)) & set(useful_words)):\n",
    "        use_score = 1\n",
    "    else:\n",
    "        use_score = check_numeric(question, answer)\n",
    "\n",
    "    return use_score\n",
    "\n",
    "q_words = ['does', 'do', 'what', 'where', 'who', 'whom', 'which', 'whose', 'why', 'how', 'is', 'are', 'will', 'would', 'can', 'could', 'should',  'did', 'when','has', 'have', 'am', 'may']\n",
    "yn_qs = ['is', 'are', 'will', 'would', 'can', 'could', 'should', 'may', 'does', 'do', 'did', 'has', 'have', 'am']\n",
    "useful_words = ['yes', 'yea', 'sure', 'yep', 'yeah', 'indeed', 'certainly', 'definitely', 'cant', 'can', 'no', 'nope', 'nah']\n",
    "un_words = ['unsure', 'never', 'maybe', 'could', 'probably', 'possibly']\n",
    "unsure_bigrams = ['dont know', 'not sure', 'might do', 'could maybe', 'no idea', 'not know', 'a clue']\n",
    "sure_bigrams = []\n",
    "word_nums = ['one', 'two', 'three', 'four', 'five', 'six', 'seven', 'eight', 'nine', 'ten', 'eleven', 'twelve', 'teen', 'twenty', 'thirty', 'fourty', 'fifty', 'hundered', 'thousand']\n",
    "\n",
    "def cleaner(text):\n",
    "\n",
    "    text = re.sub('[!£$%^&*()_+{}:\"|<>?~`,./;\\[\\]=-]',' ', text.lower())\n",
    "    text = re.sub('[\\']','', text.lower())\n",
    "\n",
    "    text = word_tokenize(text)\n",
    "    stpwrd = ['a', 'the', 'to', 'I', 'for']\n",
    "    text = [word for word in text if word not in stpwrd]\n",
    "\n",
    "    return ' '.join(text)\n",
    "\n",
    "def useful_score(dframe):\n",
    "\n",
    "    # Clean inputs\n",
    "    question = cleaner(dframe['question'])\n",
    "    answer = cleaner(dframe['answer'])\n",
    "\n",
    "    if bool(set(extract_ngrams(answer, 2)) & set(unsure_bigrams)):\n",
    "        # For any answer containing an 'unsure bigram', use_score = 0\n",
    "        use_score = 0\n",
    "\n",
    "    elif dframe['question_word'] in q_words:\n",
    "        # For any clear question, an answer with y/n or with a number, has use_score = 1. Otherwise, similarity score is given.\n",
    "        use_score = check_yn(question, answer)\n",
    "\n",
    "    elif bool(re.search('.*\\d.*', answer)) or \\\n",
    "            bool(set(word_tokenize(answer)) & set(word_nums)) or \\\n",
    "            bool(set(word_tokenize(answer)) & set(useful_words)):\n",
    "        # Any other answer with y/n or a number, use_score = 0.98\n",
    "        use_score = 0.98\n",
    "\n",
    "    elif bool(set(word_tokenize(answer)) & set(un_words)):\n",
    "        # Any other answer with un-useful words has use_score = 0.2\n",
    "        use_score = 0.2\n",
    "\n",
    "    elif len(word_tokenize(answer))<4:\n",
    "        # Any short answer (3 or fewer words) is usually useful\n",
    "        use_score = 0.95\n",
    "    else:\n",
    "        # Any other answer is scored by similarity between Q and A\n",
    "        use_score = (qa_sim(question,answer)+1)/2\n",
    "    return use_score\n",
    "\n",
    "\n",
    "df['target_manual'] = df.apply(useful_score, axis=1)"
   ],
   "metadata": {
    "collapsed": false
   }
  },
  {
   "cell_type": "code",
   "execution_count": 74,
   "outputs": [
    {
     "data": {
      "text/plain": "                                               question  \\\n1220  Is this a universal range element that will fi...   \n1221             Will this fit Maytag Model DWU9200AAX?   \n1222  Will this work with a GE dryer Model # DDE5300...   \n1223                     Is this same as Kenmore 9030 ?   \n1224  Will this replace part # wr57x10032? Refridger...   \n...                                                 ...   \n1296   Can u use this fridge in a RV or travel trailer?   \n1297    I need this to be 23\" but description shows 19\"   \n1298                Does it fit inside 10filter housing   \n1299               Will this fit Jenn air model DW731W?   \n1300                      Will this fit model#ed2khaxvq   \n\n                                                 answer  target_manual  \n1220                      They fit on my Kenmore range.       0.795221  \n1221  I wouldn't know. What I do know is that it did...       0.795472  \n1222  do not purchase this product. it is ineficient...       0.795495  \n1223  They are the same thing! We crossed match numb...       0.795948  \n1224             it was the good part work very good ty       0.795957  \n...                                                 ...            ...  \n1296  As long as you anchored it so that it didn't s...       0.805133  \n1297  I would not buy it unless you remove it when y...       0.805151  \n1298                    don't understand your question.       0.805560  \n1299  the basket works like it came with my dishwash...       0.805624  \n1300  According to what I say they fit many differen...       0.805650  \n\n[81 rows x 3 columns]",
      "text/html": "<div>\n<style scoped>\n    .dataframe tbody tr th:only-of-type {\n        vertical-align: middle;\n    }\n\n    .dataframe tbody tr th {\n        vertical-align: top;\n    }\n\n    .dataframe thead th {\n        text-align: right;\n    }\n</style>\n<table border=\"1\" class=\"dataframe\">\n  <thead>\n    <tr style=\"text-align: right;\">\n      <th></th>\n      <th>question</th>\n      <th>answer</th>\n      <th>target_manual</th>\n    </tr>\n  </thead>\n  <tbody>\n    <tr>\n      <th>1220</th>\n      <td>Is this a universal range element that will fi...</td>\n      <td>They fit on my Kenmore range.</td>\n      <td>0.795221</td>\n    </tr>\n    <tr>\n      <th>1221</th>\n      <td>Will this fit Maytag Model DWU9200AAX?</td>\n      <td>I wouldn't know. What I do know is that it did...</td>\n      <td>0.795472</td>\n    </tr>\n    <tr>\n      <th>1222</th>\n      <td>Will this work with a GE dryer Model # DDE5300...</td>\n      <td>do not purchase this product. it is ineficient...</td>\n      <td>0.795495</td>\n    </tr>\n    <tr>\n      <th>1223</th>\n      <td>Is this same as Kenmore 9030 ?</td>\n      <td>They are the same thing! We crossed match numb...</td>\n      <td>0.795948</td>\n    </tr>\n    <tr>\n      <th>1224</th>\n      <td>Will this replace part # wr57x10032? Refridger...</td>\n      <td>it was the good part work very good ty</td>\n      <td>0.795957</td>\n    </tr>\n    <tr>\n      <th>...</th>\n      <td>...</td>\n      <td>...</td>\n      <td>...</td>\n    </tr>\n    <tr>\n      <th>1296</th>\n      <td>Can u use this fridge in a RV or travel trailer?</td>\n      <td>As long as you anchored it so that it didn't s...</td>\n      <td>0.805133</td>\n    </tr>\n    <tr>\n      <th>1297</th>\n      <td>I need this to be 23\" but description shows 19\"</td>\n      <td>I would not buy it unless you remove it when y...</td>\n      <td>0.805151</td>\n    </tr>\n    <tr>\n      <th>1298</th>\n      <td>Does it fit inside 10filter housing</td>\n      <td>don't understand your question.</td>\n      <td>0.805560</td>\n    </tr>\n    <tr>\n      <th>1299</th>\n      <td>Will this fit Jenn air model DW731W?</td>\n      <td>the basket works like it came with my dishwash...</td>\n      <td>0.805624</td>\n    </tr>\n    <tr>\n      <th>1300</th>\n      <td>Will this fit model#ed2khaxvq</td>\n      <td>According to what I say they fit many differen...</td>\n      <td>0.805650</td>\n    </tr>\n  </tbody>\n</table>\n<p>81 rows × 3 columns</p>\n</div>"
     },
     "execution_count": 74,
     "metadata": {},
     "output_type": "execute_result"
    }
   ],
   "source": [
    "df.sort_values(by='target_manual').reset_index().loc[1220:1300,['question','answer','target_manual']]"
   ],
   "metadata": {
    "collapsed": false
   }
  },
  {
   "cell_type": "code",
   "execution_count": 66,
   "outputs": [
    {
     "data": {
      "text/plain": "<Figure size 500x500 with 1 Axes>",
      "image/png": "[encoded data removed]"
     },
     "metadata": {},
     "output_type": "display_data"
    }
   ],
   "source": [
    "sns.displot(df['target_manual'])\n",
    "plt.show()"
   ],
   "metadata": {
    "collapsed": false
   }
  },
  {
   "cell_type": "code",
   "execution_count": 255,
   "outputs": [
    {
     "data": {
      "text/plain": "['Stainless', 'steel', '.']"
     },
     "execution_count": 255,
     "metadata": {},
     "output_type": "execute_result"
    }
   ],
   "source": [
    "word_tokenize(df.loc[4472, 'answer'])\n",
    "df[df['answer']=='Stainless steel.']"
   ],
   "metadata": {
    "collapsed": false
   }
  },
  {
   "cell_type": "code",
   "execution_count": 104,
   "outputs": [
    {
     "data": {
      "text/plain": "                                              question question_word  \\\n1                                         model number           NaN   \n13   My present disposal has a 3 bolt connection. W...         would   \n37   how many strips come in the kit, I need at lea...           how   \n46                                   filter for vicks3           NaN   \n47   I have not purchased the humidifier that uses ...           how   \n..                                                 ...           ...   \n305                  what is the size of the duct vent          what   \n306               Price is pretty cheap. Is it strong?            is   \n308  The Halogen bulbs are not very energy efficien...           are   \n310  description says halogen bulbs, but they are n...            is   \n311                       Does a filter come with hood          does   \n\n                                                answer  \n1    This may help InSinkErator Model BADGER-1: Bad...  \n13   If I understand your present disposal 3 bolts ...  \n37   The kit contains ONE strip per test. So if you...  \n46   Filter for vicks3 is NOT a question. What are ...  \n47   The outer shell will fall apart in about a yea...  \n..                                                 ...  \n305  This range hood has three knock-outs- a 3-1/4\"...  \n306  I purchased this 1-1/2 years ago, it was easy ...  \n308  There are LED bulbs available that are the sam...  \n310  There are LED bulbs available that are the sam...  \n311  The metal screen grease filters are included, ...  \n\n[100 rows x 3 columns]",
      "text/html": "<div>\n<style scoped>\n    .dataframe tbody tr th:only-of-type {\n        vertical-align: middle;\n    }\n\n    .dataframe tbody tr th {\n        vertical-align: top;\n    }\n\n    .dataframe thead th {\n        text-align: right;\n    }\n</style>\n<table border=\"1\" class=\"dataframe\">\n  <thead>\n    <tr style=\"text-align: right;\">\n      <th></th>\n      <th>question</th>\n      <th>question_word</th>\n      <th>answer</th>\n    </tr>\n  </thead>\n  <tbody>\n    <tr>\n      <th>1</th>\n      <td>model number</td>\n      <td>NaN</td>\n      <td>This may help InSinkErator Model BADGER-1: Bad...</td>\n    </tr>\n    <tr>\n      <th>13</th>\n      <td>My present disposal has a 3 bolt connection. W...</td>\n      <td>would</td>\n      <td>If I understand your present disposal 3 bolts ...</td>\n    </tr>\n    <tr>\n      <th>37</th>\n      <td>how many strips come in the kit, I need at lea...</td>\n      <td>how</td>\n      <td>The kit contains ONE strip per test. So if you...</td>\n    </tr>\n    <tr>\n      <th>46</th>\n      <td>filter for vicks3</td>\n      <td>NaN</td>\n      <td>Filter for vicks3 is NOT a question. What are ...</td>\n    </tr>\n    <tr>\n      <th>47</th>\n      <td>I have not purchased the humidifier that uses ...</td>\n      <td>how</td>\n      <td>The outer shell will fall apart in about a yea...</td>\n    </tr>\n    <tr>\n      <th>...</th>\n      <td>...</td>\n      <td>...</td>\n      <td>...</td>\n    </tr>\n    <tr>\n      <th>305</th>\n      <td>what is the size of the duct vent</td>\n      <td>what</td>\n      <td>This range hood has three knock-outs- a 3-1/4\"...</td>\n    </tr>\n    <tr>\n      <th>306</th>\n      <td>Price is pretty cheap. Is it strong?</td>\n      <td>is</td>\n      <td>I purchased this 1-1/2 years ago, it was easy ...</td>\n    </tr>\n    <tr>\n      <th>308</th>\n      <td>The Halogen bulbs are not very energy efficien...</td>\n      <td>are</td>\n      <td>There are LED bulbs available that are the sam...</td>\n    </tr>\n    <tr>\n      <th>310</th>\n      <td>description says halogen bulbs, but they are n...</td>\n      <td>is</td>\n      <td>There are LED bulbs available that are the sam...</td>\n    </tr>\n    <tr>\n      <th>311</th>\n      <td>Does a filter come with hood</td>\n      <td>does</td>\n      <td>The metal screen grease filters are included, ...</td>\n    </tr>\n  </tbody>\n</table>\n<p>100 rows × 3 columns</p>\n</div>"
     },
     "execution_count": 104,
     "metadata": {},
     "output_type": "execute_result"
    }
   ],
   "source": [
    "df[df['answer'].str.contains('.*\\d.*')][['question','question_word','answer']].head(100)"
   ],
   "metadata": {
    "collapsed": false
   }
  },
  {
   "cell_type": "code",
   "execution_count": 43,
   "outputs": [
    {
     "data": {
      "text/plain": "['no', 'still', 'need', 'a', 'hood', 'vent']"
     },
     "execution_count": 43,
     "metadata": {},
     "output_type": "execute_result"
    }
   ],
   "source": [
    "word_tokenize(re.sub('[\\'_()./]',' ', 'no..still need a hood vent'.lower()))"
   ],
   "metadata": {
    "collapsed": false
   }
  },
  {
   "cell_type": "code",
   "execution_count": 98,
   "outputs": [
    {
     "name": "stdout",
     "output_type": "stream",
     "text": [
      "A1 sim is 0.1620948398287978\n",
      "A2 sim is 0.6894043346118088\n",
      "A3 sim is 0.6614367317274487\n",
      "A1 sim is 0.7280519361701034\n",
      "A2 sim is 0.6630797660842995\n",
      "A3 sim is 0.6764641370072577\n"
     ]
    }
   ],
   "source": [
    "qs = 'Where is it made?'\n",
    "A1 = 'China'\n",
    "A2 = 'Yes it does.'\n",
    "A3 = 'The colour I looked over were grey, violet and white. I have a friend who bought it on white and it got dirty within a week! So I\\'d recommend the darker colours for it if you can get them. Don\\'t think there was a difference in price...'\n",
    "\n",
    "print(f'A1 sim is {qa_sim(cleaner(qs), cleaner(A1))}')\n",
    "print(f'A2 sim is {qa_sim(cleaner(qs), cleaner(A2))}')\n",
    "print(f'A3 sim is {qa_sim(cleaner(qs), cleaner(A3))}')\n",
    "\n",
    "Qs =  'Would you recommend this hardcover version of the book, since it\\'s a bit more expensive?'\n",
    "A1 = 'The book was absolutely AMAZING! Easily one of my favourite lectures so far this year. The story was highly immersive and (without giving away spoilers!) the character development the main trio was done excellently.'\n",
    "A2 = 'I bought another version without the hardcover which you can find here [link]. It was $3 cheaper than the one here and read just fine. Depends if you\\'re a collector I guess'\n",
    "A3 = 'The hardcover makes this version of the book a little bit more expensive indeed'\n",
    "\n",
    "print(f'A1 sim is {qa_sim(cleaner(qs), cleaner(A1))}')\n",
    "print(f'A2 sim is {qa_sim(cleaner(qs), cleaner(A2))}')\n",
    "print(f'A3 sim is {qa_sim(cleaner(qs), cleaner(A3))}')"
   ],
   "metadata": {
    "collapsed": false
   }
  },
  {
   "cell_type": "code",
   "execution_count": 86,
   "outputs": [
    {
     "name": "stderr",
     "output_type": "stream",
     "text": [
      "/var/folders/b7/kmbr2qfj1fd5c0wjsnnd0jtw0000gn/T/ipykernel_20585/3473484234.py:13: UserWarning: [W008] Evaluating Doc.similarity based on empty vectors.\n",
      "  return q_token.similarity(a_token)\n"
     ]
    }
   ],
   "source": [
    "df['sim_score'] = df.apply(lambda x: qa_sim(cleaner(x.question), cleaner(x.answer)), axis=1)"
   ],
   "metadata": {
    "collapsed": false
   }
  },
  {
   "cell_type": "code",
   "execution_count": 90,
   "outputs": [
    {
     "data": {
      "text/plain": "<Figure size 500x500 with 1 Axes>",
      "image/png": "[encoded data removed]"
     },
     "metadata": {},
     "output_type": "display_data"
    }
   ],
   "source": [
    "sns.displot((df['sim_score']+1)/2)\n",
    "plt.show()"
   ],
   "metadata": {
    "collapsed": false
   }
  },
  {
   "cell_type": "code",
   "execution_count": 96,
   "outputs": [
    {
     "data": {
      "text/plain": "                                               question question_word  \\\n8895  What brand and how much detergent should be me...          what   \n4296                            Non air gap or air gap?           NaN   \n6686                              is it easy to install            is   \n3161  Will this item fit a Norcold1200 LRIM refriger...          will   \n1163  Does this filter work with RSG257AARS Samsung ...          does   \n8451                     How much does this unit weigh?           how   \n8344  Will this filter work with Samsung RF31FMESBSR...          will   \n3595  What else do I need to buy besides a Keg in or...          what   \n7093  50 lbs. of \"ice storage\" . . . does that mean ...          will   \n4270  How many amps and what type of connection does...          what   \n\n                                                 answer  sim_score  \n8895  It depends on the level and fabric of clothes....   0.799607  \n4296                          this one is a Non air gap   0.799709  \n6686  I wouldn't call it easy, it take quite a bit o...   0.799739  \n3161  Yes, This will fit your Norcold1200LRIM refrig...   0.799764  \n1163  Not sure--I have model RFG237AARS, manufacture...   0.799782  \n8451  Not sure the exact weight but it is a two man ...   0.799822  \n8344  If your refrigerator uses the DA29-00020B Sams...   0.799851  \n3595  You will need to fill the co2 tank. Personally...   0.799888  \n7093  It will not. Ice will last for hours not days ...   0.799991  \n4270  It comes wit a plug on it, so I put a receptac...   0.799992  ",
      "text/html": "<div>\n<style scoped>\n    .dataframe tbody tr th:only-of-type {\n        vertical-align: middle;\n    }\n\n    .dataframe tbody tr th {\n        vertical-align: top;\n    }\n\n    .dataframe thead th {\n        text-align: right;\n    }\n</style>\n<table border=\"1\" class=\"dataframe\">\n  <thead>\n    <tr style=\"text-align: right;\">\n      <th></th>\n      <th>question</th>\n      <th>question_word</th>\n      <th>answer</th>\n      <th>sim_score</th>\n    </tr>\n  </thead>\n  <tbody>\n    <tr>\n      <th>8895</th>\n      <td>What brand and how much detergent should be me...</td>\n      <td>what</td>\n      <td>It depends on the level and fabric of clothes....</td>\n      <td>0.799607</td>\n    </tr>\n    <tr>\n      <th>4296</th>\n      <td>Non air gap or air gap?</td>\n      <td>NaN</td>\n      <td>this one is a Non air gap</td>\n      <td>0.799709</td>\n    </tr>\n    <tr>\n      <th>6686</th>\n      <td>is it easy to install</td>\n      <td>is</td>\n      <td>I wouldn't call it easy, it take quite a bit o...</td>\n      <td>0.799739</td>\n    </tr>\n    <tr>\n      <th>3161</th>\n      <td>Will this item fit a Norcold1200 LRIM refriger...</td>\n      <td>will</td>\n      <td>Yes, This will fit your Norcold1200LRIM refrig...</td>\n      <td>0.799764</td>\n    </tr>\n    <tr>\n      <th>1163</th>\n      <td>Does this filter work with RSG257AARS Samsung ...</td>\n      <td>does</td>\n      <td>Not sure--I have model RFG237AARS, manufacture...</td>\n      <td>0.799782</td>\n    </tr>\n    <tr>\n      <th>8451</th>\n      <td>How much does this unit weigh?</td>\n      <td>how</td>\n      <td>Not sure the exact weight but it is a two man ...</td>\n      <td>0.799822</td>\n    </tr>\n    <tr>\n      <th>8344</th>\n      <td>Will this filter work with Samsung RF31FMESBSR...</td>\n      <td>will</td>\n      <td>If your refrigerator uses the DA29-00020B Sams...</td>\n      <td>0.799851</td>\n    </tr>\n    <tr>\n      <th>3595</th>\n      <td>What else do I need to buy besides a Keg in or...</td>\n      <td>what</td>\n      <td>You will need to fill the co2 tank. Personally...</td>\n      <td>0.799888</td>\n    </tr>\n    <tr>\n      <th>7093</th>\n      <td>50 lbs. of \"ice storage\" . . . does that mean ...</td>\n      <td>will</td>\n      <td>It will not. Ice will last for hours not days ...</td>\n      <td>0.799991</td>\n    </tr>\n    <tr>\n      <th>4270</th>\n      <td>How many amps and what type of connection does...</td>\n      <td>what</td>\n      <td>It comes wit a plug on it, so I put a receptac...</td>\n      <td>0.799992</td>\n    </tr>\n  </tbody>\n</table>\n</div>"
     },
     "execution_count": 96,
     "metadata": {},
     "output_type": "execute_result"
    }
   ],
   "source": [
    "df[df['sim_score']<0.8][['question','question_word','answer', 'sim_score']].sort_values(by='sim_score').tail(10)"
   ],
   "metadata": {
    "collapsed": false
   }
  },
  {
   "cell_type": "markdown",
   "source": [
    "## Test logreg model using new usefulness score"
   ],
   "metadata": {
    "collapsed": false
   }
  },
  {
   "cell_type": "code",
   "execution_count": 63,
   "outputs": [],
   "source": [
    "df['target_thresh'] = np.where(df['target_manual']>.8, 1, 0)"
   ],
   "metadata": {
    "collapsed": false
   }
  },
  {
   "cell_type": "code",
   "execution_count": 64,
   "outputs": [
    {
     "name": "stdout",
     "output_type": "stream",
     "text": [
      "Mean accuracy is 0.9765538290788013\n"
     ]
    }
   ],
   "source": [
    "X = df['answer'].apply(cleaner)\n",
    "y = df['target_thresh']\n",
    "X_train, X_test, y_train, y_test = train_test_split(X, y, test_size = 0.2, random_state = 42)\n",
    "\n",
    "# Fit model to train set\n",
    "train_features = vectorizer.fit_transform(X_train)\n",
    "train_features = train_features.toarray()\n",
    "lr = LogisticRegression(max_iter=300)\n",
    "lr.fit(train_features, y_train)\n",
    "print(f'Mean accuracy is {lr.score(train_features, y_train)}')"
   ],
   "metadata": {
    "collapsed": false
   }
  },
  {
   "cell_type": "code",
   "execution_count": 65,
   "outputs": [
    {
     "name": "stdout",
     "output_type": "stream",
     "text": [
      "Mean accuracy is 0.947310038824182\n"
     ]
    }
   ],
   "source": [
    "# Use same model on test set\n",
    "test_features = vectorizer.transform(X_test)\n",
    "test_features = test_features.toarray()\n",
    "print(f'Mean accuracy is {lr.score(test_features, y_test)}')"
   ],
   "metadata": {
    "collapsed": false
   }
  },
  {
   "cell_type": "markdown",
   "source": [
    "## Semantic similarity using gensim"
   ],
   "metadata": {
    "collapsed": false
   }
  },
  {
   "cell_type": "code",
   "execution_count": 30,
   "outputs": [],
   "source": [
    "docs = word_tokenize(df['answer'][0])"
   ],
   "metadata": {
    "collapsed": false
   }
  },
  {
   "cell_type": "code",
   "execution_count": 28,
   "outputs": [],
   "source": [
    "from gensim.test.utils import datapath\n",
    "from gensim import utils\n",
    "\n",
    "class MyCorpus(object):\n",
    "    \"\"\"An interator that yields sentences (lists of str).\"\"\"\n",
    "\n",
    "    def __iter__(self):\n",
    "        corpus_path = df['answer']\n",
    "        for line in corpus_path:\n",
    "            # assume there's one document per line, tokens separated by whitespace\n",
    "            yield utils.simple_preprocess(line)"
   ],
   "metadata": {
    "collapsed": false
   }
  },
  {
   "cell_type": "code",
   "execution_count": 29,
   "outputs": [],
   "source": [
    "sentences = MyCorpus()\n",
    "model = models.Word2Vec(sentences=sentences)"
   ],
   "metadata": {
    "collapsed": false
   }
  },
  {
   "cell_type": "code",
   "execution_count": 106,
   "outputs": [
    {
     "data": {
      "text/plain": "array([-0.2583426 ,  0.31069326,  0.2164914 , -0.09980948,  0.44844946,\n       -0.17867763,  0.23834953,  0.6720338 ,  0.20602371, -0.10191935,\n        0.09840434, -0.22114341, -0.44414008,  0.07196458,  0.14214203,\n       -0.14886281,  0.59420085, -0.18208332, -0.1816641 , -0.81400865,\n        0.21141252,  0.1992026 ,  0.08699098, -0.09348352,  0.04392689,\n        0.06513627,  0.24500507,  0.04792747,  0.090463  ,  0.36980525,\n        0.0426644 ,  0.21531896, -0.16554886, -0.27656022, -0.09698725,\n        0.18075915,  0.12838183, -0.35850653,  0.07015026, -0.43546847,\n        0.12260643, -0.56154126,  0.2219886 ,  0.33743018,  0.3705482 ,\n        0.06099876, -0.42395332,  0.06842229, -0.01824115,  0.336689  ,\n        0.41008773, -0.07236537,  0.06786004, -0.11230028, -0.43372014,\n        0.26053828,  0.05238849,  0.0676363 , -0.27290377, -0.04028637,\n        0.00378138,  0.01982141, -0.06465166, -0.00430816, -0.12677051,\n       -0.11242264, -0.11441474,  0.66312945, -0.5571406 , -0.10278035,\n        0.04644103,  0.09694905,  0.6046097 , -0.25661033,  0.25907052,\n       -0.3694395 ,  0.2204423 ,  0.08161747, -0.30952072,  0.3248046 ,\n       -0.19236639,  0.0734306 , -0.01675612,  0.39111176,  0.08879119,\n       -0.19165365,  0.42359045,  0.27149692,  0.5914073 ,  0.17477812,\n        0.35737863, -0.11707595,  0.18193473,  0.04563887,  1.0704932 ,\n        0.46141362,  0.52620333, -0.23257728,  0.10890868,  0.38399735],\n      dtype=float32)"
     },
     "execution_count": 106,
     "metadata": {},
     "output_type": "execute_result"
    }
   ],
   "source": [
    "model.wv['and']"
   ],
   "metadata": {
    "collapsed": false
   }
  },
  {
   "cell_type": "code",
   "execution_count": 105,
   "outputs": [
    {
     "name": "stdout",
     "output_type": "stream",
     "text": [
      "word #0/3282 is the\n",
      "word #1/3282 is it\n",
      "word #2/3282 is to\n",
      "word #3/3282 is and\n",
      "word #4/3282 is is\n",
      "word #5/3282 is you\n",
      "word #6/3282 is of\n",
      "word #7/3282 is for\n",
      "word #8/3282 is in\n",
      "word #9/3282 is that\n"
     ]
    }
   ],
   "source": [
    "for index, word in enumerate(model.wv.index_to_key):\n",
    "    if index == 10:\n",
    "        break\n",
    "    print(f\"word #{index}/{len(model.wv.index_to_key)} is {word}\")"
   ],
   "metadata": {
    "collapsed": false
   }
  },
  {
   "cell_type": "code",
   "execution_count": null,
   "outputs": [],
   "source": [
    "import matplotlib.pyplot as plt\n",
    "import numpy as np\n",
    "\n",
    "x = np.array([0, 1, 2, 3])\n",
    "y = np.array([3, 8, 1, 10])\n",
    "\n",
    "plt.subplot(2, 3, 1)\n",
    "plt.plot(x,y)\n",
    "\n",
    "x = np.array([0, 1, 2, 3])\n",
    "y = np.array([10, 20, 30, 40])\n",
    "\n",
    "plt.subplot(2, 3, 2)\n",
    "plt.plot(x,y)\n",
    "\n",
    "x = np.array([0, 1, 2, 3])\n",
    "y = np.array([3, 8, 1, 10])\n",
    "\n",
    "plt.subplot(2, 3, 3)\n",
    "plt.plot(x,y)\n",
    "\n",
    "x = np.array([0, 1, 2, 3])\n",
    "y = np.array([10, 20, 30, 40])\n",
    "\n",
    "plt.subplot(2, 3, 4)\n",
    "plt.plot(x,y)\n",
    "\n",
    "x = np.array([0, 1, 2, 3])\n",
    "y = np.array([3, 8, 1, 10])\n",
    "\n",
    "plt.subplot(2, 3, 5)\n",
    "plt.plot(x,y)\n",
    "\n",
    "x = np.array([0, 1, 2, 3])\n",
    "y = np.array([10, 20, 30, 40])\n",
    "\n",
    "plt.subplot(2, 3, 6)\n",
    "plt.plot(x,y)\n",
    "\n",
    "plt.show()#%%\n",
    "import pandas as pd\n",
    "import numpy as np\n",
    "import gzip\n",
    "import seaborn as sns\n",
    "import matplotlib.pyplot as plt\n",
    "\n",
    "import os\n",
    "import itertools\n",
    "from collections import Counter\n",
    "import re\n",
    "import string\n",
    "\n",
    "import nltk\n",
    "from nltk.corpus import stopwords\n",
    "from nltk.tokenize import word_tokenize\n",
    "from nltk.stem import WordNetLemmatizer\n",
    "from nltk.stem.porter import PorterStemmer\n",
    "from nltk.stem.lancaster import LancasterStemmer\n",
    "\n",
    "from sklearn.feature_extraction.text import CountVectorizer\n",
    "from sklearn.linear_model import LogisticRegression\n",
    "from sklearn.model_selection import train_test_split # module to split our data into train and test sets"
   ],
   "metadata": {
    "collapsed": false
   }
  },
  {
   "cell_type": "code",
   "execution_count": null,
   "outputs": [],
   "source": [
    "def parse(path):\n",
    "    g = gzip.open(path, 'rb')\n",
    "    for l in g:\n",
    "        yield eval(l)\n",
    "\n",
    "def getDF(path):\n",
    "    i = 0\n",
    "    df = {}\n",
    "    for d in parse(path):\n",
    "        df[i] = d\n",
    "        i += 1\n",
    "    return pd.DataFrame.from_dict(df, orient='index')"
   ],
   "metadata": {
    "collapsed": false
   }
  },
  {
   "cell_type": "code",
   "execution_count": null,
   "outputs": [],
   "source": [
    "# Import and tidy dataframe (drop nulls)\n",
    "df = getDF('qa_Appliances.json.gz')\n",
    "#df.dropna(subset='answerType', inplace=True)\n",
    "df = df.reset_index()"
   ],
   "metadata": {
    "collapsed": false
   }
  },
  {
   "cell_type": "code",
   "execution_count": null,
   "outputs": [],
   "source": [
    "df.loc[3,['question','questionType','answerType','answer']]"
   ],
   "metadata": {
    "collapsed": false
   }
  },
  {
   "cell_type": "code",
   "execution_count": null,
   "outputs": [],
   "source": [
    "df['questionType'].value_counts()"
   ],
   "metadata": {
    "collapsed": false
   }
  },
  {
   "cell_type": "markdown",
   "source": [
    "# Supervised Approach"
   ],
   "metadata": {
    "collapsed": false
   }
  },
  {
   "cell_type": "code",
   "execution_count": null,
   "outputs": [],
   "source": [
    "# Map answers to useful/not useful\n",
    "df['target'] = df['answerType'].map({'Y':1, 'N':1, '?':0})"
   ],
   "metadata": {
    "collapsed": false
   }
  },
  {
   "cell_type": "code",
   "execution_count": null,
   "outputs": [],
   "source": [
    "## Transform a sentence into 1s and 0s\n",
    "vectorizer = CountVectorizer(analyzer = \"word\", # What are we looking for?\n",
    "                             tokenizer = None, # Already tokenised\n",
    "                             preprocessor = None, # Already pre-processed\n",
    "                             stop_words = None, # Already removed stopwords\n",
    "                             max_features = 5000,\n",
    "                             ngram_range=(1, 2)) # Determines the top X words used for the vectoriser"
   ],
   "metadata": {
    "collapsed": false
   }
  },
  {
   "cell_type": "code",
   "execution_count": null,
   "outputs": [],
   "source": [
    "train_features = vectorizer.fit_transform(df['answer'])\n",
    "train_features = train_features.toarray()\n",
    "y_train = df['target'].values\n",
    "lr = LogisticRegression(max_iter=300)\n",
    "lr.fit(train_features, y_train)\n",
    "lr.score(train_features, y_train)"
   ],
   "metadata": {
    "collapsed": false
   }
  },
  {
   "cell_type": "code",
   "execution_count": null,
   "outputs": [],
   "source": [
    "df.loc[3,['question', 'answer']]"
   ],
   "metadata": {
    "collapsed": false
   }
  },
  {
   "cell_type": "code",
   "execution_count": null,
   "outputs": [],
   "source": [
    "# Check a single entry, 0 = unhelpful, 1 = helpful\n",
    "test = vectorizer.transform(df.loc[3,['answer']])\n",
    "lr.predict(test.toarray())"
   ],
   "metadata": {
    "collapsed": false
   }
  },
  {
   "cell_type": "markdown",
   "source": [
    "# Unsupervised approach\n",
    "## Semantic similarity using spacy\n",
    "### Between characteristic words and the answer"
   ],
   "metadata": {
    "collapsed": false
   }
  },
  {
   "cell_type": "code",
   "execution_count": null,
   "outputs": [],
   "source": [
    "import spacy\n",
    "nlp = spacy.load('en_core_web_md')"
   ],
   "metadata": {
    "collapsed": false
   }
  },
  {
   "cell_type": "code",
   "execution_count": null,
   "outputs": [],
   "source": [
    "useful_words = 'yes,no,certainly,cant,can'.split(',')\n",
    "un_words = 'unsure,never,dont,maybe,could'.split(',')\n",
    "\n",
    "def similarity_test(list,answer):\n",
    "    \"\"\"\n",
    "    Function to test the similarity between all the words of a sentence (answer) and a list of\n",
    "    words (useful or useless words).\n",
    "    Output is an average similarity score for the answer, between -1 and 1.\n",
    "    \"\"\"\n",
    "    ans_sim = []\n",
    "    use_sim = []\n",
    "\n",
    "    for word in list:\n",
    "        for term in answer:\n",
    "            test_word = nlp(word)\n",
    "            ans_word = nlp(term)\n",
    "            ans_sim.append(test_word.similarity(ans_word))\n",
    "        use_sim.append(sum(ans_sim)/len(ans_sim))\n",
    "        print(word, sum(ans_sim)/len(ans_sim))\n",
    "    return sum(use_sim)/len(use_sim)\n",
    "\n",
    "ans = df['answer'][2].lower()\n",
    "use_score = similarity_test(useful_words,ans.split(' '))\n",
    "unu_score = similarity_test(un_words,ans.split(' '))\n",
    "\n",
    "print(ans)\n",
    "print(f'Useful score: {use_score}, unuseful score: {unu_score}')\n"
   ],
   "metadata": {
    "collapsed": false
   }
  },
  {
   "cell_type": "markdown",
   "source": [
    "### Between the question and the answer"
   ],
   "metadata": {
    "collapsed": false
   }
  },
  {
   "cell_type": "code",
   "execution_count": null,
   "outputs": [],
   "source": [
    "def qa_sim(question, answer):\n",
    "    \"\"\"\n",
    "    Function to provide a similarity score between two sentences (question and answer),\n",
    "    returned score is between -1 and 1\n",
    "    \"\"\"\n",
    "    test_question = question\n",
    "    test_answer = answer\n",
    "\n",
    "    # Create a token for the test movie and initialise the highest coefficient marker\n",
    "    q_token = nlp(test_question)\n",
    "    a_token = nlp(test_answer)\n",
    "\n",
    "    return q_token.similarity(a_token)\n",
    "\n",
    "df['sim_score'] = df.apply(lambda x: qa_sim(x.question, x.answer), axis=1)"
   ],
   "metadata": {
    "collapsed": false
   }
  },
  {
   "cell_type": "code",
   "execution_count": null,
   "outputs": [],
   "source": [
    "df[['question','answer','sim_score']].sort_values(by='sim_score').head()"
   ],
   "metadata": {
    "collapsed": false
   }
  },
  {
   "cell_type": "code",
   "execution_count": null,
   "outputs": [],
   "source": [
    "df[['question','answer','sim_score']].sort_values(by='sim_score').tail()"
   ],
   "metadata": {
    "collapsed": false
   }
  },
  {
   "cell_type": "code",
   "execution_count": null,
   "outputs": [],
   "source": [
    "df.loc[6056,['answer','question']]"
   ],
   "metadata": {
    "collapsed": false
   }
  },
  {
   "cell_type": "markdown",
   "source": [
    "# Create a more accurate target value\n",
    "### Extract the question word from the question"
   ],
   "metadata": {
    "collapsed": false
   }
  },
  {
   "cell_type": "code",
   "execution_count": null,
   "outputs": [],
   "source": [
    "#lemmatizer = WordNetLemmatizer()\n",
    "#p_stemmer = PorterStemmer() Neither of these , turn 'does' -> 'do', so cannot use for 'what's' -> 'what'\n",
    "qword_options = []\n",
    "q_words = ['what', 'when', 'where', 'who', 'whom', 'which', 'whose', 'why', 'how', 'is', 'are', 'will', 'would', 'can', 'could', 'should', 'does', 'do', 'did', 'has', 'have', 'am', 'may'] # These are in order of priority when picking the question word\n",
    "def extract_q(question):\n",
    "    # for word in [p_stemmer.stem(x) for x in word_tokenize(question.lower())]:\n",
    "    answer_list =  word_tokenize(question.lower())\n",
    "    if bool(set(q_words) & set(answer_list)):\n",
    "        word_out = [x for x in q_words if x in answer_list][0]\n",
    "    else:\n",
    "        word_out = np.nan\n",
    "    return word_out\n",
    "\n",
    "df['question_word'] = df['question'].apply(extract_q)\n",
    "df['question_word'].value_counts()"
   ],
   "metadata": {
    "collapsed": false
   }
  },
  {
   "cell_type": "code",
   "execution_count": null,
   "outputs": [],
   "source": [
    "df[df['question_word']=='how'][['question','answerType','answer']].head()"
   ],
   "metadata": {
    "collapsed": false
   }
  },
  {
   "cell_type": "markdown",
   "source": [
    "### Process data to generate a usefulness score"
   ],
   "metadata": {
    "collapsed": false
   }
  },
  {
   "cell_type": "code",
   "execution_count": 2,
   "outputs": [
    {
     "ename": "NameError",
     "evalue": "name 'df' is not defined",
     "output_type": "error",
     "traceback": [
      "\u001B[0;31m---------------------------------------------------------------------------\u001B[0m",
      "\u001B[0;31mNameError\u001B[0m                                 Traceback (most recent call last)",
      "\u001B[0;32m/var/folders/b7/kmbr2qfj1fd5c0wjsnnd0jtw0000gn/T/ipykernel_48229/3560629261.py\u001B[0m in \u001B[0;36m<module>\u001B[0;34m\u001B[0m\n\u001B[1;32m     77\u001B[0m \u001B[0;34m\u001B[0m\u001B[0m\n\u001B[1;32m     78\u001B[0m \u001B[0;34m\u001B[0m\u001B[0m\n\u001B[0;32m---> 79\u001B[0;31m \u001B[0mdf\u001B[0m\u001B[0;34m[\u001B[0m\u001B[0;34m'target_manual'\u001B[0m\u001B[0;34m]\u001B[0m \u001B[0;34m=\u001B[0m \u001B[0mdf\u001B[0m\u001B[0;34m.\u001B[0m\u001B[0mapply\u001B[0m\u001B[0;34m(\u001B[0m\u001B[0museful_score\u001B[0m\u001B[0;34m,\u001B[0m \u001B[0maxis\u001B[0m\u001B[0;34m=\u001B[0m\u001B[0;36m1\u001B[0m\u001B[0;34m)\u001B[0m\u001B[0;34m\u001B[0m\u001B[0;34m\u001B[0m\u001B[0m\n\u001B[0m",
      "\u001B[0;31mNameError\u001B[0m: name 'df' is not defined"
     ]
    }
   ],
   "source": [
    "from nltk.util import ngrams\n",
    "\n",
    "def extract_ngrams(data, num):\n",
    "    n_grams = ngrams(word_tokenize(data), num)\n",
    "    return [ ' '.join(grams) for grams in n_grams]\n",
    "\n",
    "def check_numeric(question, answer):\n",
    "\n",
    "    if bool(re.search('.*\\d.*', answer)) or bool(set(word_tokenize(answer)) & set(word_nums)):\n",
    "        use_score = 1\n",
    "    elif len(word_tokenize(answer))<4:\n",
    "        use_score = 0.95\n",
    "    else:\n",
    "        use_score = (qa_sim(question, answer)+1)/2\n",
    "\n",
    "    return use_score\n",
    "\n",
    "def check_yn(question, answer):\n",
    "\n",
    "    if bool(set(word_tokenize(answer)) & set(useful_words)):\n",
    "        use_score = 1\n",
    "    else:\n",
    "        use_score = check_numeric(question, answer)\n",
    "\n",
    "    return use_score\n",
    "\n",
    "q_words = ['does', 'do', 'what', 'where', 'who', 'whom', 'which', 'whose', 'why', 'how', 'is', 'are', 'will', 'would', 'can', 'could', 'should',  'did', 'when','has', 'have', 'am', 'may']\n",
    "yn_qs = ['is', 'are', 'will', 'would', 'can', 'could', 'should', 'may', 'does', 'do', 'did', 'has', 'have', 'am']\n",
    "useful_words = ['yes', 'yea', 'sure', 'yep', 'yeah', 'indeed', 'certainly', 'definitely', 'cant', 'can', 'no', 'nope', 'nah']\n",
    "un_words = ['unsure', 'never', 'maybe', 'could', 'probably', 'possibly']\n",
    "unsure_bigrams = ['dont know', 'not sure', 'might do', 'could maybe', 'no idea', 'not know', 'a clue']\n",
    "sure_bigrams = []\n",
    "word_nums = ['one', 'two', 'three', 'four', 'five', 'six', 'seven', 'eight', 'nine', 'ten', 'eleven', 'twelve', 'teen', 'twenty', 'thirty', 'fourty', 'fifty', 'hundered', 'thousand']\n",
    "\n",
    "def cleaner(text):\n",
    "\n",
    "    text = re.sub('[!£$%^&*()_+{}:\"|<>?~`,./;\\[\\]=-]',' ', text.lower())\n",
    "    text = re.sub('[\\']','', text.lower())\n",
    "\n",
    "    text = word_tokenize(text)\n",
    "    stpwrd = ['a', 'the', 'to', 'I', 'for']\n",
    "    text = [word for word in text if word not in stpwrd]\n",
    "\n",
    "    return ' '.join(text)\n",
    "\n",
    "def useful_score(dframe):\n",
    "\n",
    "    # Clean inputs\n",
    "    question = cleaner(dframe['question'])\n",
    "    answer = cleaner(dframe['answer'])\n",
    "\n",
    "    if bool(set(extract_ngrams(answer, 2)) & set(unsure_bigrams)):\n",
    "        # For any answer containing an 'unsure bigram', use_score = 0\n",
    "        use_score = 0\n",
    "\n",
    "    elif dframe['question_word'] in q_words:\n",
    "        # For any clear question, an answer with y/n or with a number, has use_score = 1. Otherwise, similarity score is given.\n",
    "        use_score = check_yn(question, answer)\n",
    "\n",
    "    elif bool(re.search('.*\\d.*', answer)) or \\\n",
    "            bool(set(word_tokenize(answer)) & set(word_nums)) or \\\n",
    "            bool(set(word_tokenize(answer)) & set(useful_words)):\n",
    "        # Any other answer with y/n or a number, use_score = 0.98\n",
    "        use_score = 0.98\n",
    "\n",
    "    elif bool(set(word_tokenize(answer)) & set(un_words)):\n",
    "        # Any other answer with un-useful words has use_score = 0.2\n",
    "        use_score = 0.2\n",
    "\n",
    "    elif len(word_tokenize(answer))<4:\n",
    "        # Any short answer (3 or fewer words) is usually useful\n",
    "        use_score = 0.95\n",
    "    else:\n",
    "        # Any other answer is scored by similarity between Q and A\n",
    "        use_score = (qa_sim(question,answer)+1)/2\n",
    "    return use_score\n",
    "\n",
    "\n",
    "df['target_manual'] = df.apply(useful_score, axis=1)"
   ],
   "metadata": {
    "collapsed": false
   }
  },
  {
   "cell_type": "code",
   "execution_count": null,
   "outputs": [],
   "source": [
    "df.sort_values(by='target_manual').reset_index().loc[1220:1300,['question','answer','target_manual']]"
   ],
   "metadata": {
    "collapsed": false
   }
  },
  {
   "cell_type": "code",
   "execution_count": null,
   "outputs": [],
   "source": [
    "sns.displot(df['target_manual'])\n",
    "plt.show()"
   ],
   "metadata": {
    "collapsed": false
   }
  },
  {
   "cell_type": "code",
   "execution_count": null,
   "outputs": [],
   "source": [
    "word_tokenize(df.loc[4472, 'answer'])\n",
    "df[df['answer']=='Stainless steel.']"
   ],
   "metadata": {
    "collapsed": false
   }
  },
  {
   "cell_type": "code",
   "execution_count": null,
   "outputs": [],
   "source": [
    "df[df['answer'].str.contains('.*\\d.*')][['question','question_word','answer']].head(100)"
   ],
   "metadata": {
    "collapsed": false
   }
  },
  {
   "cell_type": "code",
   "execution_count": null,
   "outputs": [],
   "source": [
    "word_tokenize(re.sub('[\\'_()./]',' ', 'no..still need a hood vent'.lower()))"
   ],
   "metadata": {
    "collapsed": false
   }
  },
  {
   "cell_type": "code",
   "execution_count": null,
   "outputs": [],
   "source": [
    "qs = 'Where is it made?'\n",
    "A1 = 'China'\n",
    "A2 = 'Yes it does.'\n",
    "A3 = 'The colour I looked over were grey, violet and white. I have a friend who bought it on white and it got dirty within a week! So I\\'d recommend the darker colours for it if you can get them. Don\\'t think there was a difference in price...'\n",
    "\n",
    "print(f'A1 sim is {qa_sim(cleaner(qs), cleaner(A1))}')\n",
    "print(f'A2 sim is {qa_sim(cleaner(qs), cleaner(A2))}')\n",
    "print(f'A3 sim is {qa_sim(cleaner(qs), cleaner(A3))}')\n",
    "\n",
    "Qs =  'Would you recommend this hardcover version of the book, since it\\'s a bit more expensive?'\n",
    "A1 = 'The book was absolutely AMAZING! Easily one of my favourite lectures so far this year. The story was highly immersive and (without giving away spoilers!) the character development the main trio was done excellently.'\n",
    "A2 = 'I bought another version without the hardcover which you can find here [link]. It was $3 cheaper than the one here and read just fine. Depends if you\\'re a collector I guess'\n",
    "A3 = 'The hardcover makes this version of the book a little bit more expensive indeed'\n",
    "\n",
    "print(f'A1 sim is {qa_sim(cleaner(qs), cleaner(A1))}')\n",
    "print(f'A2 sim is {qa_sim(cleaner(qs), cleaner(A2))}')\n",
    "print(f'A3 sim is {qa_sim(cleaner(qs), cleaner(A3))}')"
   ],
   "metadata": {
    "collapsed": false
   }
  },
  {
   "cell_type": "code",
   "execution_count": null,
   "outputs": [],
   "source": [
    "df['sim_score'] = df.apply(lambda x: qa_sim(cleaner(x.question), cleaner(x.answer)), axis=1)"
   ],
   "metadata": {
    "collapsed": false
   }
  },
  {
   "cell_type": "code",
   "execution_count": null,
   "outputs": [],
   "source": [
    "sns.displot((df['sim_score']+1)/2)\n",
    "plt.show()"
   ],
   "metadata": {
    "collapsed": false
   }
  },
  {
   "cell_type": "code",
   "execution_count": null,
   "outputs": [],
   "source": [
    "df[df['sim_score']<0.8][['question','question_word','answer', 'sim_score']].sort_values(by='sim_score').tail(10)"
   ],
   "metadata": {
    "collapsed": false
   }
  },
  {
   "cell_type": "markdown",
   "source": [
    "## Test logreg model using new usefulness score"
   ],
   "metadata": {
    "collapsed": false
   }
  },
  {
   "cell_type": "code",
   "execution_count": null,
   "outputs": [],
   "source": [
    "df['target_thresh'] = np.where(df['target_manual']>.8, 1, 0)"
   ],
   "metadata": {
    "collapsed": false
   }
  },
  {
   "cell_type": "code",
   "execution_count": null,
   "outputs": [],
   "source": [
    "X = df['answer'].apply(cleaner)\n",
    "y = df['target_thresh']\n",
    "X_train, X_test, y_train, y_test = train_test_split(X, y, test_size = 0.2, random_state = 42)\n",
    "\n",
    "# Fit model to train set\n",
    "train_features = vectorizer.fit_transform(X_train)\n",
    "train_features = train_features.toarray()\n",
    "lr = LogisticRegression(max_iter=300)\n",
    "lr.fit(train_features, y_train)\n",
    "print(f'Mean accuracy is {lr.score(train_features, y_train)}')"
   ],
   "metadata": {
    "collapsed": false
   }
  },
  {
   "cell_type": "code",
   "execution_count": null,
   "outputs": [],
   "source": [
    "# Use same model on test set\n",
    "test_features = vectorizer.transform(X_test)\n",
    "test_features = test_features.toarray()\n",
    "print(f'Mean accuracy is {lr.score(test_features, y_test)}')"
   ],
   "metadata": {
    "collapsed": false
   }
  },
  {
   "cell_type": "markdown",
   "source": [
    "## Semantic similarity using gensim"
   ],
   "metadata": {
    "collapsed": false
   }
  },
  {
   "cell_type": "code",
   "execution_count": null,
   "outputs": [],
   "source": [
    "docs = word_tokenize(df['answer'][0])"
   ],
   "metadata": {
    "collapsed": false
   }
  },
  {
   "cell_type": "code",
   "execution_count": null,
   "outputs": [],
   "source": [
    "from gensim.test.utils import datapath\n",
    "from gensim import utils\n",
    "\n",
    "class MyCorpus(object):\n",
    "    \"\"\"An interator that yields sentences (lists of str).\"\"\"\n",
    "\n",
    "    def __iter__(self):\n",
    "        corpus_path = df['answer']\n",
    "        for line in corpus_path:\n",
    "            # assume there's one document per line, tokens separated by whitespace\n",
    "            yield utils.simple_preprocess(line)"
   ],
   "metadata": {
    "collapsed": false
   }
  },
  {
   "cell_type": "code",
   "execution_count": null,
   "outputs": [],
   "source": [
    "sentences = MyCorpus()\n",
    "model = models.Word2Vec(sentences=sentences)"
   ],
   "metadata": {
    "collapsed": false
   }
  },
  {
   "cell_type": "code",
   "execution_count": null,
   "outputs": [],
   "source": [
    "model.wv['and']"
   ],
   "metadata": {
    "collapsed": false
   }
  },
  {
   "cell_type": "code",
   "execution_count": null,
   "outputs": [],
   "source": [
    "for index, word in enumerate(model.wv.index_to_key):\n",
    "    if index == 10:\n",
    "        break\n",
    "    print(f\"word #{index}/{len(model.wv.index_to_key)} is {word}\")"
   ],
   "metadata": {
    "collapsed": false
   }
  },
  {
   "cell_type": "markdown",
   "source": [],
   "metadata": {
    "collapsed": false
   }
  },
  {
   "cell_type": "markdown",
   "source": [],
   "metadata": {
    "collapsed": false
   }
  }
 ],
 "metadata": {
  "kernelspec": {
   "display_name": "Python 3",
   "language": "python",
   "name": "python3"
  },
  "language_info": {
   "codemirror_mode": {
    "name": "ipython",
    "version": 2
   },
   "file_extension": ".py",
   "mimetype": "text/x-python",
   "name": "python",
   "nbconvert_exporter": "python",
   "pygments_lexer": "ipython2",
   "version": "2.7.6"
  }
 },
 "nbformat": 4,
 "nbformat_minor": 0
}
