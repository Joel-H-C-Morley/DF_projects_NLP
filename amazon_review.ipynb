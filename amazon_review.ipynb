{
 "cells": [
  {
   "cell_type": "markdown",
   "source": [
    "# Imports"
   ],
   "metadata": {
    "collapsed": false
   }
  },
  {
   "cell_type": "code",
   "execution_count": 21,
   "outputs": [],
   "source": [
    "import pandas as pd\n",
    "import numpy as np\n",
    "import gzip\n",
    "import seaborn as sns\n",
    "import matplotlib.pyplot as plt\n",
    "\n",
    "import re\n",
    "\n",
    "from nltk.corpus import stopwords\n",
    "from nltk.tokenize import word_tokenize\n",
    "from nltk.tokenize import sent_tokenize\n",
    "from nltk.stem import WordNetLemmatizer\n",
    "from nltk.stem import SnowballStemmer\n",
    "import spacy"
   ],
   "metadata": {
    "collapsed": false
   }
  },
  {
   "cell_type": "markdown",
   "source": [
    "# Load dataset into a dataframe"
   ],
   "metadata": {
    "collapsed": false
   }
  },
  {
   "cell_type": "code",
   "execution_count": 16,
   "outputs": [],
   "source": [
    "def parse(path):\n",
    "    g = gzip.open(path, 'rb')\n",
    "    for l in g:\n",
    "        yield eval(l)\n",
    "def getDF(path):\n",
    "    i = 0\n",
    "    df = {}\n",
    "    for d in parse(path):\n",
    "        df[i] = d\n",
    "        i += 1\n",
    "    return pd.DataFrame.from_dict(df, orient='index')\n",
    "# Import and tidy dataframe (drop nulls)\n",
    "df = getDF('qa_Appliances.json.gz')\n",
    "df = df.drop(columns=['asin','answerTime','unixTime'])"
   ],
   "metadata": {
    "collapsed": false
   }
  },
  {
   "cell_type": "markdown",
   "source": [
    "# EDA\n",
    "### Create column with the extracted question word"
   ],
   "metadata": {
    "collapsed": false
   }
  },
  {
   "cell_type": "code",
   "execution_count": 17,
   "outputs": [
    {
     "data": {
      "text/plain": "  questionType                                           question answerType  \\\n0       yes/no  I have a 9 year old Badger 1 that needs replac...          ?   \n1   open-ended                                       model number        NaN   \n2       yes/no  can I replace Badger 1 1/3 with a Badger 5 1/2...          ?   \n3       yes/no  Does this come with power cord and dishwasher ...          ?   \n4   open-ended  loud noise inside when turned on. sounds like ...        NaN   \n\n                                              answer question_word  \n0   I replaced my old one with this without a hitch.          will  \n1  This may help InSinkErator Model BADGER-1: Bad...           NaN  \n2  Plumbing connections will vary with different ...           can  \n3  It does not come with a power cord. It does co...          does  \n4  Check if you dropped something inside.Usually ...          when  ",
      "text/html": "<div>\n<style scoped>\n    .dataframe tbody tr th:only-of-type {\n        vertical-align: middle;\n    }\n\n    .dataframe tbody tr th {\n        vertical-align: top;\n    }\n\n    .dataframe thead th {\n        text-align: right;\n    }\n</style>\n<table border=\"1\" class=\"dataframe\">\n  <thead>\n    <tr style=\"text-align: right;\">\n      <th></th>\n      <th>questionType</th>\n      <th>question</th>\n      <th>answerType</th>\n      <th>answer</th>\n      <th>question_word</th>\n    </tr>\n  </thead>\n  <tbody>\n    <tr>\n      <th>0</th>\n      <td>yes/no</td>\n      <td>I have a 9 year old Badger 1 that needs replac...</td>\n      <td>?</td>\n      <td>I replaced my old one with this without a hitch.</td>\n      <td>will</td>\n    </tr>\n    <tr>\n      <th>1</th>\n      <td>open-ended</td>\n      <td>model number</td>\n      <td>NaN</td>\n      <td>This may help InSinkErator Model BADGER-1: Bad...</td>\n      <td>NaN</td>\n    </tr>\n    <tr>\n      <th>2</th>\n      <td>yes/no</td>\n      <td>can I replace Badger 1 1/3 with a Badger 5 1/2...</td>\n      <td>?</td>\n      <td>Plumbing connections will vary with different ...</td>\n      <td>can</td>\n    </tr>\n    <tr>\n      <th>3</th>\n      <td>yes/no</td>\n      <td>Does this come with power cord and dishwasher ...</td>\n      <td>?</td>\n      <td>It does not come with a power cord. It does co...</td>\n      <td>does</td>\n    </tr>\n    <tr>\n      <th>4</th>\n      <td>open-ended</td>\n      <td>loud noise inside when turned on. sounds like ...</td>\n      <td>NaN</td>\n      <td>Check if you dropped something inside.Usually ...</td>\n      <td>when</td>\n    </tr>\n  </tbody>\n</table>\n</div>"
     },
     "execution_count": 17,
     "metadata": {},
     "output_type": "execute_result"
    }
   ],
   "source": [
    "qword_options = []\n",
    "q_words = ['what', 'when', 'where', 'who', 'whom', 'which', 'whose', 'why', 'how', 'is', 'are', 'will', 'would', 'can', 'could', 'should', 'does', 'do', 'did', 'has', 'have', 'am', 'may'] # These are in order of priority when picking the question word\n",
    "def extract_q(question):\n",
    "    # for word in [p_stemmer.stem(x) for x in word_tokenize(question.lower())]:\n",
    "    answer_list =  word_tokenize(question.lower())\n",
    "    if bool(set(q_words) & set(answer_list)):\n",
    "        word_out = [x for x in q_words if x in answer_list][0]\n",
    "    else:\n",
    "        word_out = np.nan\n",
    "    return word_out\n",
    "\n",
    "df['question_word'] = df['question'].apply(extract_q)\n",
    "df['question_word'].value_counts()"
   ],
   "metadata": {
    "collapsed": false
   }
  },
  {
   "cell_type": "markdown",
   "source": [
    "### Wordcloud for answers"
   ],
   "metadata": {
    "collapsed": false
   }
  },
  {
   "cell_type": "code",
   "execution_count": null,
   "outputs": [],
   "source": [
    "# Create dictionary of unique full counts, used for visualisation - single words\n",
    "answer_clean_list = dict(answer_counts)\n",
    "answer_clean_dictionary = {}\n",
    "for k, v in answer_clean_list.items():\n",
    "    if v > 10000:\n",
    "        answer_clean_dictionary[k] = v\n",
    "# Check\n",
    "answer_clean_dictionary\n",
    "# Word cloud for answers\n",
    "wc = WordCloud(width=800, height=400, max_words=100).generate_from_frequencies(answer_clean_dictionary)\n",
    "plt.figure(figsize=(24, 20))\n",
    "plt.imshow(wc, interpolation=\"bilinear\")\n",
    "plt.axis(\"off\")\n",
    "plt.show()"
   ],
   "metadata": {
    "collapsed": false
   }
  },
  {
   "cell_type": "markdown",
   "source": [
    "### EDA for n-grams of answers"
   ],
   "metadata": {
    "collapsed": false
   }
  },
  {
   "cell_type": "code",
   "execution_count": null,
   "outputs": [],
   "source": [
    "# initialise counts\n",
    "answer_counts_ngrams2 = Counter()\n",
    "answer_counts_ngrams3 = Counter()\n",
    "\n",
    "# apply counts\n",
    "df['bigrams'].apply(answer_counts_ngrams2.update)\n",
    "df['trigrams'].apply(answer_counts_ngrams3.update)\n",
    "# Create dictionary of unique full counts, used for visualisation - bigrams and tri words\n",
    "answer_bigrams_list = dict(answer_counts_ngrams2)\n",
    "answer_trigrams_list = dict(answer_counts_ngrams3)\n",
    "anser_bi_dictionary = {}\n",
    "answer_tri_dictionary = {}\n",
    "\n",
    "for k, v in answer_bigrams_list.items():\n",
    "    if v > 100:\n",
    "        anser_bi_dictionary[k] = v\n",
    "\n",
    "for k, v in answer_trigrams_list.items():\n",
    "    if v > 100:\n",
    "        answer_tri_dictionary[k] = v\n",
    "# Word cloud for answers\n",
    "wc = WordCloud(width=800, height=400, max_words=100).generate_from_frequencies(anser_bi_dictionary)\n",
    "plt.figure(figsize=(24, 20))\n",
    "plt.imshow(wc, interpolation=\"bilinear\")\n",
    "plt.axis(\"off\")\n",
    "plt.show()"
   ],
   "metadata": {
    "collapsed": false
   }
  },
  {
   "cell_type": "code",
   "execution_count": null,
   "outputs": [],
   "source": [
    "# Word cloud for answers\n",
    "wc = WordCloud(width=800, height=400, max_words=100).generate_from_frequencies(answer_tri_dictionary)\n",
    "plt.figure(figsize=(24, 20))\n",
    "plt.imshow(wc, interpolation=\"bilinear\")\n",
    "plt.axis(\"off\")\n",
    "plt.show()"
   ],
   "metadata": {
    "collapsed": false
   }
  },
  {
   "cell_type": "markdown",
   "source": [
    "# Processing"
   ],
   "metadata": {
    "collapsed": false
   }
  },
  {
   "cell_type": "markdown",
   "source": [
    "### Clean text for n-gram analysis"
   ],
   "metadata": {
    "collapsed": false
   }
  },
  {
   "cell_type": "code",
   "execution_count": 180,
   "outputs": [],
   "source": [
    "def remove_emoji(string):\n",
    "    emoji_pattern = re.compile(\"[\"\n",
    "                               u\"\\U0001F600-\\U0001F64F\" # emoticons\n",
    "                               u\"\\U0001F300-\\U0001F5FF\" # symbols & pictographs\n",
    "                               u\"\\U0001F680-\\U0001F6FF\" # transport & map symbols\n",
    "                               u\"\\U0001F1E0-\\U0001F1FF\" # flags (iOS)\n",
    "                               u\"\\U00002702-\\U000027B0\"\n",
    "                               u\"\\U000024C2-\\U0001F251\"\n",
    "                               \"]+\", flags=re.UNICODE)\n",
    "    return emoji_pattern.sub(r'', string)\n",
    "\n",
    "# Rigorous leaner for matching n-grams\n",
    "def clean_text(text, is_question=True, stem=False, token=False):\n",
    "    ''' Cleans and preprocesses the input text '''\n",
    "\n",
    "    # Convert to lowercase\n",
    "    text = text.lower()\n",
    "\n",
    "    # Stop words test\n",
    "    stop_words = set(stopwords.words('english'))\n",
    "\n",
    "    # Removal of:\n",
    "    punc = '!\"#$%&()*+, -./:;<=>?@[\\]^_`{|}~”“\\''\n",
    "    punc = [x for x in punc]\n",
    "    text = re.sub(r'http\\S+', '', text) # Urls\n",
    "    text = re.sub(r'<.*?>', '', text) #Html tags\n",
    "    text = remove_emoji(text) # emojis\n",
    "    text = re.sub(r'(@.+?)\\s', '', text)\n",
    "    text = re.sub(r'(//t.co/.+?)\\s', '', text)\n",
    "    text = re.sub(r'(//t.co/.+?)', '', text)\n",
    "    text = re.sub(r'\\d+', '', text) # Numbers\n",
    "    text = re.sub(r'[^\\w\\s]', '', text) # Special characters\n",
    "\n",
    "    # Tokenize text into a sentance\n",
    "    sentences = sent_tokenize(text)\n",
    "\n",
    "    # Tokenize sentences into words\n",
    "    tokens = []\n",
    "    for sentence in sentences:\n",
    "        tokens.extend(word_tokenize(sentence))\n",
    "\n",
    "    # Remove stop stopwords\n",
    "    # stop_words = set(stopwords.words('english'))\n",
    "    if is_question:\n",
    "        # Add question specific words\n",
    "        stop_words.update(['who', 'what', 'where', 'when', 'why', 'how', 'which'])\n",
    "    stop_words.update(['rt', '#', 'fav', '', ':', '@', '!', ';', '…','...', '(', ')', '~', 'a', 'b', 'c', 'd', 'e', 'f', 'g', 'h', 'i', 'j', 'k', 'l', 'm', 'n', 'o', 'p', 'q', 'r', 's', 't', 'u', 'v', 'w', 'x', 'y', 'z'])\n",
    "    stop_words.update(punc)\n",
    "\n",
    "    # Yes or no are useful?\n",
    "    # stop_words.remove('yes')\n",
    "    stop_words.remove('no')\n",
    "    tokens = [token for token in tokens if token not in stop_words]\n",
    "\n",
    "    # Lemmatize or stem words\n",
    "    if stem:\n",
    "        stemmer = SnowballStemmer('english')\n",
    "        tokens = [stemmer.stem(token) for token in tokens]\n",
    "    else:\n",
    "        lemmatizer = WordNetLemmatizer()\n",
    "        tokens = [lemmatizer.lemmatize(token) for token in tokens]\n",
    "\n",
    "    # Tokens into a string\n",
    "    clean_text = ' '.join(tokens)\n",
    "    clean_text = [word for word in clean_text if word not in stop_words]\n",
    "    clean_text = ' '.join(tokens)\n",
    "\n",
    "    if token:\n",
    "        # Tokenize\n",
    "        clean_text = word_tokenize(clean_text)\n",
    "\n",
    "    return clean_text\n",
    "\n",
    "# Lightweight cleaner to preserve finer information\n",
    "def cleaner(text):\n",
    "\n",
    "    text = re.sub('[!£$%^&*()_+{}:\"|<>?~`,./;\\[\\]=-]',' ', text.lower())\n",
    "    text = re.sub('[\\']','', text.lower())\n",
    "\n",
    "    text = word_tokenize(text)\n",
    "    stpwrd = ['a', 'the', 'to', 'I', 'for']\n",
    "    text = [word for word in text if word not in stpwrd]\n",
    "\n",
    "    return ' '.join(text)"
   ],
   "metadata": {
    "collapsed": false
   }
  },
  {
   "cell_type": "code",
   "execution_count": 22,
   "outputs": [
    {
     "data": {
      "text/plain": "  questionType                                           question answerType  \\\n0       yes/no  I have a 9 year old Badger 1 that needs replac...          ?   \n1   open-ended                                       model number        NaN   \n2       yes/no  can I replace Badger 1 1/3 with a Badger 5 1/2...          ?   \n3       yes/no  Does this come with power cord and dishwasher ...          ?   \n4   open-ended  loud noise inside when turned on. sounds like ...        NaN   \n\n                                              answer question_word  \\\n0   I replaced my old one with this without a hitch.          will   \n1  This may help InSinkErator Model BADGER-1: Bad...           NaN   \n2  Plumbing connections will vary with different ...           can   \n3  It does not come with a power cord. It does co...          does   \n4  Check if you dropped something inside.Usually ...          when   \n\n                                      question_clean  \\\n0  year old badger need replacing badger install ...   \n1                                       model number   \n2                   replace badger badger connection   \n3                    come power cord dishwasher hook   \n4    loud noise inside turned sound like blade loose   \n\n                                        answer_clean  \n0                     replaced old one without hitch  \n1  may help insinkerator model badger badger hp g...  \n2  plumbing connection vary different model usual...  \n3             come power cord come dishwasher hookup  \n4  check dropped something insideusually wife put...  ",
      "text/html": "<div>\n<style scoped>\n    .dataframe tbody tr th:only-of-type {\n        vertical-align: middle;\n    }\n\n    .dataframe tbody tr th {\n        vertical-align: top;\n    }\n\n    .dataframe thead th {\n        text-align: right;\n    }\n</style>\n<table border=\"1\" class=\"dataframe\">\n  <thead>\n    <tr style=\"text-align: right;\">\n      <th></th>\n      <th>questionType</th>\n      <th>question</th>\n      <th>answerType</th>\n      <th>answer</th>\n      <th>question_word</th>\n      <th>question_clean</th>\n      <th>answer_clean</th>\n    </tr>\n  </thead>\n  <tbody>\n    <tr>\n      <th>0</th>\n      <td>yes/no</td>\n      <td>I have a 9 year old Badger 1 that needs replac...</td>\n      <td>?</td>\n      <td>I replaced my old one with this without a hitch.</td>\n      <td>will</td>\n      <td>year old badger need replacing badger install ...</td>\n      <td>replaced old one without hitch</td>\n    </tr>\n    <tr>\n      <th>1</th>\n      <td>open-ended</td>\n      <td>model number</td>\n      <td>NaN</td>\n      <td>This may help InSinkErator Model BADGER-1: Bad...</td>\n      <td>NaN</td>\n      <td>model number</td>\n      <td>may help insinkerator model badger badger hp g...</td>\n    </tr>\n    <tr>\n      <th>2</th>\n      <td>yes/no</td>\n      <td>can I replace Badger 1 1/3 with a Badger 5 1/2...</td>\n      <td>?</td>\n      <td>Plumbing connections will vary with different ...</td>\n      <td>can</td>\n      <td>replace badger badger connection</td>\n      <td>plumbing connection vary different model usual...</td>\n    </tr>\n    <tr>\n      <th>3</th>\n      <td>yes/no</td>\n      <td>Does this come with power cord and dishwasher ...</td>\n      <td>?</td>\n      <td>It does not come with a power cord. It does co...</td>\n      <td>does</td>\n      <td>come power cord dishwasher hook</td>\n      <td>come power cord come dishwasher hookup</td>\n    </tr>\n    <tr>\n      <th>4</th>\n      <td>open-ended</td>\n      <td>loud noise inside when turned on. sounds like ...</td>\n      <td>NaN</td>\n      <td>Check if you dropped something inside.Usually ...</td>\n      <td>when</td>\n      <td>loud noise inside turned sound like blade loose</td>\n      <td>check dropped something insideusually wife put...</td>\n    </tr>\n  </tbody>\n</table>\n</div>"
     },
     "execution_count": 22,
     "metadata": {},
     "output_type": "execute_result"
    }
   ],
   "source": [
    "df['question_clean'] = df['question'].apply(clean_text)\n",
    "df['answer_clean'] = df['answer'].apply(clean_text)\n",
    "df.head()"
   ],
   "metadata": {
    "collapsed": false
   }
  },
  {
   "cell_type": "markdown",
   "source": [
    "### Extract n-grams"
   ],
   "metadata": {
    "collapsed": false
   }
  },
  {
   "cell_type": "code",
   "execution_count": 31,
   "outputs": [
    {
     "data": {
      "text/plain": "  questionType                                           question answerType  \\\n0       yes/no  I have a 9 year old Badger 1 that needs replac...          ?   \n1   open-ended                                       model number        NaN   \n2       yes/no  can I replace Badger 1 1/3 with a Badger 5 1/2...          ?   \n3       yes/no  Does this come with power cord and dishwasher ...          ?   \n4   open-ended  loud noise inside when turned on. sounds like ...        NaN   \n\n                                              answer question_word  \\\n0   I replaced my old one with this without a hitch.          will   \n1  This may help InSinkErator Model BADGER-1: Bad...           NaN   \n2  Plumbing connections will vary with different ...           can   \n3  It does not come with a power cord. It does co...          does   \n4  Check if you dropped something inside.Usually ...          when   \n\n                                      question_clean  \\\n0  year old badger need replacing badger install ...   \n1                                       model number   \n2                   replace badger badger connection   \n3                    come power cord dishwasher hook   \n4    loud noise inside turned sound like blade loose   \n\n                                        answer_clean  \\\n0                     replaced old one without hitch   \n1  may help insinkerator model badger badger hp g...   \n2  plumbing connection vary different model usual...   \n3             come power cord come dishwasher hookup   \n4  check dropped something insideusually wife put...   \n\n                                     question_bigram  \\\n0  [('year', 'old'), ('old', 'badger'), ('badger'...   \n1                              [('model', 'number')]   \n2  [('replace', 'badger'), ('badger', 'badger'), ...   \n3  [('come', 'power'), ('power', 'cord'), ('cord'...   \n4  [('loud', 'noise'), ('noise', 'inside'), ('ins...   \n\n                                    question_trigram  \\\n0  [('year', 'old', 'badger'), ('old', 'badger', ...   \n1                                                 []   \n2  [('replace', 'badger', 'badger'), ('badger', '...   \n3  [('come', 'power', 'cord'), ('power', 'cord', ...   \n4  [('loud', 'noise', 'inside'), ('noise', 'insid...   \n\n                                       answer_bigram  \\\n0  [('replaced', 'old'), ('old', 'one'), ('one', ...   \n1  [('may', 'help'), ('help', 'insinkerator'), ('...   \n2  [('plumbing', 'connection'), ('connection', 'v...   \n3  [('come', 'power'), ('power', 'cord'), ('cord'...   \n4  [('check', 'dropped'), ('dropped', 'something'...   \n\n                                      answer_trigram  \n0  [('replaced', 'old', 'one'), ('old', 'one', 'w...  \n1  [('may', 'help', 'insinkerator'), ('help', 'in...  \n2  [('plumbing', 'connection', 'vary'), ('connect...  \n3  [('come', 'power', 'cord'), ('power', 'cord', ...  \n4  [('check', 'dropped', 'something'), ('dropped'...  ",
      "text/html": "<div>\n<style scoped>\n    .dataframe tbody tr th:only-of-type {\n        vertical-align: middle;\n    }\n\n    .dataframe tbody tr th {\n        vertical-align: top;\n    }\n\n    .dataframe thead th {\n        text-align: right;\n    }\n</style>\n<table border=\"1\" class=\"dataframe\">\n  <thead>\n    <tr style=\"text-align: right;\">\n      <th></th>\n      <th>questionType</th>\n      <th>question</th>\n      <th>answerType</th>\n      <th>answer</th>\n      <th>question_word</th>\n      <th>question_clean</th>\n      <th>answer_clean</th>\n      <th>question_bigram</th>\n      <th>question_trigram</th>\n      <th>answer_bigram</th>\n      <th>answer_trigram</th>\n    </tr>\n  </thead>\n  <tbody>\n    <tr>\n      <th>0</th>\n      <td>yes/no</td>\n      <td>I have a 9 year old Badger 1 that needs replac...</td>\n      <td>?</td>\n      <td>I replaced my old one with this without a hitch.</td>\n      <td>will</td>\n      <td>year old badger need replacing badger install ...</td>\n      <td>replaced old one without hitch</td>\n      <td>[('year', 'old'), ('old', 'badger'), ('badger'...</td>\n      <td>[('year', 'old', 'badger'), ('old', 'badger', ...</td>\n      <td>[('replaced', 'old'), ('old', 'one'), ('one', ...</td>\n      <td>[('replaced', 'old', 'one'), ('old', 'one', 'w...</td>\n    </tr>\n    <tr>\n      <th>1</th>\n      <td>open-ended</td>\n      <td>model number</td>\n      <td>NaN</td>\n      <td>This may help InSinkErator Model BADGER-1: Bad...</td>\n      <td>NaN</td>\n      <td>model number</td>\n      <td>may help insinkerator model badger badger hp g...</td>\n      <td>[('model', 'number')]</td>\n      <td>[]</td>\n      <td>[('may', 'help'), ('help', 'insinkerator'), ('...</td>\n      <td>[('may', 'help', 'insinkerator'), ('help', 'in...</td>\n    </tr>\n    <tr>\n      <th>2</th>\n      <td>yes/no</td>\n      <td>can I replace Badger 1 1/3 with a Badger 5 1/2...</td>\n      <td>?</td>\n      <td>Plumbing connections will vary with different ...</td>\n      <td>can</td>\n      <td>replace badger badger connection</td>\n      <td>plumbing connection vary different model usual...</td>\n      <td>[('replace', 'badger'), ('badger', 'badger'), ...</td>\n      <td>[('replace', 'badger', 'badger'), ('badger', '...</td>\n      <td>[('plumbing', 'connection'), ('connection', 'v...</td>\n      <td>[('plumbing', 'connection', 'vary'), ('connect...</td>\n    </tr>\n    <tr>\n      <th>3</th>\n      <td>yes/no</td>\n      <td>Does this come with power cord and dishwasher ...</td>\n      <td>?</td>\n      <td>It does not come with a power cord. It does co...</td>\n      <td>does</td>\n      <td>come power cord dishwasher hook</td>\n      <td>come power cord come dishwasher hookup</td>\n      <td>[('come', 'power'), ('power', 'cord'), ('cord'...</td>\n      <td>[('come', 'power', 'cord'), ('power', 'cord', ...</td>\n      <td>[('come', 'power'), ('power', 'cord'), ('cord'...</td>\n      <td>[('come', 'power', 'cord'), ('power', 'cord', ...</td>\n    </tr>\n    <tr>\n      <th>4</th>\n      <td>open-ended</td>\n      <td>loud noise inside when turned on. sounds like ...</td>\n      <td>NaN</td>\n      <td>Check if you dropped something inside.Usually ...</td>\n      <td>when</td>\n      <td>loud noise inside turned sound like blade loose</td>\n      <td>check dropped something insideusually wife put...</td>\n      <td>[('loud', 'noise'), ('noise', 'inside'), ('ins...</td>\n      <td>[('loud', 'noise', 'inside'), ('noise', 'insid...</td>\n      <td>[('check', 'dropped'), ('dropped', 'something'...</td>\n      <td>[('check', 'dropped', 'something'), ('dropped'...</td>\n    </tr>\n  </tbody>\n</table>\n</div>"
     },
     "execution_count": 31,
     "metadata": {},
     "output_type": "execute_result"
    }
   ],
   "source": [
    "# Idea is that the text is already cleaned\n",
    "def extract_ngrams_2(text):\n",
    "    doc = word_tokenize(text)\n",
    "    ngrams = [str((doc[i], doc[i+1])) for i in range(len(doc)-1)]\n",
    "    return ngrams\n",
    "\n",
    "def extract_ngrams_3(text):\n",
    "    doc = word_tokenize(text)\n",
    "    ngrams = [str((doc[i], doc[i+1], doc[i+2])) for i in range(len(doc)-2)]\n",
    "    return ngrams\n",
    "\n",
    "df['question_bigram'] = df['question_clean'].apply(extract_ngrams_2)\n",
    "df['question_trigram'] = df['question_clean'].apply(extract_ngrams_3)\n",
    "df['answer_bigram'] = df['answer_clean'].apply(extract_ngrams_2)\n",
    "df['answer_trigram'] = df['answer_clean'].apply(extract_ngrams_3)\n",
    "df.head()"
   ],
   "metadata": {
    "collapsed": false
   }
  },
  {
   "cell_type": "markdown",
   "source": [
    "### Generate useful/unuseful/neutral score based on matches with useful/unuseful n-grams"
   ],
   "metadata": {
    "collapsed": false
   }
  },
  {
   "cell_type": "code",
   "execution_count": 156,
   "outputs": [
    {
     "data": {
      "text/plain": "  questionType                                           question answerType  \\\n0       yes/no  I have a 9 year old Badger 1 that needs replac...          ?   \n1   open-ended                                       model number        NaN   \n2       yes/no  can I replace Badger 1 1/3 with a Badger 5 1/2...          ?   \n3       yes/no  Does this come with power cord and dishwasher ...          ?   \n4   open-ended  loud noise inside when turned on. sounds like ...        NaN   \n\n                                              answer question_word  \\\n0   I replaced my old one with this without a hitch.          will   \n1  This may help InSinkErator Model BADGER-1: Bad...           NaN   \n2  Plumbing connections will vary with different ...           can   \n3  It does not come with a power cord. It does co...          does   \n4  Check if you dropped something inside.Usually ...          when   \n\n                                      question_clean  \\\n0  year old badger need replacing badger install ...   \n1                                       model number   \n2                   replace badger badger connection   \n3                    come power cord dishwasher hook   \n4    loud noise inside turned sound like blade loose   \n\n                                        answer_clean  \\\n0                     replaced old one without hitch   \n1  may help insinkerator model badger badger hp g...   \n2  plumbing connection vary different model usual...   \n3             come power cord come dishwasher hookup   \n4  check dropped something insideusually wife put...   \n\n                                     question_bigram  \\\n0  [('year', 'old'), ('old', 'badger'), ('badger'...   \n1                              [('model', 'number')]   \n2  [('replace', 'badger'), ('badger', 'badger'), ...   \n3  [('come', 'power'), ('power', 'cord'), ('cord'...   \n4  [('loud', 'noise'), ('noise', 'inside'), ('ins...   \n\n                                    question_trigram  \\\n0  [('year', 'old', 'badger'), ('old', 'badger', ...   \n1                                                 []   \n2  [('replace', 'badger', 'badger'), ('badger', '...   \n3  [('come', 'power', 'cord'), ('power', 'cord', ...   \n4  [('loud', 'noise', 'inside'), ('noise', 'insid...   \n\n                                       answer_bigram  \\\n0  [('replaced', 'old'), ('old', 'one'), ('one', ...   \n1  [('may', 'help'), ('help', 'insinkerator'), ('...   \n2  [('plumbing', 'connection'), ('connection', 'v...   \n3  [('come', 'power'), ('power', 'cord'), ('cord'...   \n4  [('check', 'dropped'), ('dropped', 'something'...   \n\n                                      answer_trigram    bi_gram_score  \\\n0  [('replaced', 'old', 'one'), ('old', 'one', 'w...  [0.0, 1.0, 0.0]   \n1  [('may', 'help', 'insinkerator'), ('help', 'in...  [0.0, 1.0, 0.0]   \n2  [('plumbing', 'connection', 'vary'), ('connect...  [0.0, 1.0, 0.0]   \n3  [('come', 'power', 'cord'), ('power', 'cord', ...  [0.0, 1.0, 0.0]   \n4  [('check', 'dropped', 'something'), ('dropped'...  [0.0, 1.0, 0.0]   \n\n    tri_gram_score  sentiment_score  \\\n0  [0.0, 1.0, 0.0]  (0.0, 1.0, 0.0)   \n1  [0.0, 1.0, 0.0]  (0.0, 1.0, 0.0)   \n2  [0.0, 1.0, 0.0]  (0.0, 1.0, 0.0)   \n3  [0.0, 1.0, 0.0]  (0.0, 1.0, 0.0)   \n4  [0.0, 1.0, 0.0]  (0.0, 1.0, 0.0)   \n\n                                  answer_light_clean  target_manual  \n0      i replaced my old one with this without hitch       0.950000  \n1  this may help insinkerator model badger 1 badg...       0.900000  \n2  plumbing connections will vary with different ...       0.629159  \n3  it does not come with power cord it does come ...       0.910811  \n4  check if you dropped something inside usually ...       0.861473  ",
      "text/html": "<div>\n<style scoped>\n    .dataframe tbody tr th:only-of-type {\n        vertical-align: middle;\n    }\n\n    .dataframe tbody tr th {\n        vertical-align: top;\n    }\n\n    .dataframe thead th {\n        text-align: right;\n    }\n</style>\n<table border=\"1\" class=\"dataframe\">\n  <thead>\n    <tr style=\"text-align: right;\">\n      <th></th>\n      <th>questionType</th>\n      <th>question</th>\n      <th>answerType</th>\n      <th>answer</th>\n      <th>question_word</th>\n      <th>question_clean</th>\n      <th>answer_clean</th>\n      <th>question_bigram</th>\n      <th>question_trigram</th>\n      <th>answer_bigram</th>\n      <th>answer_trigram</th>\n      <th>bi_gram_score</th>\n      <th>tri_gram_score</th>\n      <th>sentiment_score</th>\n      <th>answer_light_clean</th>\n      <th>target_manual</th>\n    </tr>\n  </thead>\n  <tbody>\n    <tr>\n      <th>0</th>\n      <td>yes/no</td>\n      <td>I have a 9 year old Badger 1 that needs replac...</td>\n      <td>?</td>\n      <td>I replaced my old one with this without a hitch.</td>\n      <td>will</td>\n      <td>year old badger need replacing badger install ...</td>\n      <td>replaced old one without hitch</td>\n      <td>[('year', 'old'), ('old', 'badger'), ('badger'...</td>\n      <td>[('year', 'old', 'badger'), ('old', 'badger', ...</td>\n      <td>[('replaced', 'old'), ('old', 'one'), ('one', ...</td>\n      <td>[('replaced', 'old', 'one'), ('old', 'one', 'w...</td>\n      <td>[0.0, 1.0, 0.0]</td>\n      <td>[0.0, 1.0, 0.0]</td>\n      <td>(0.0, 1.0, 0.0)</td>\n      <td>i replaced my old one with this without hitch</td>\n      <td>0.950000</td>\n    </tr>\n    <tr>\n      <th>1</th>\n      <td>open-ended</td>\n      <td>model number</td>\n      <td>NaN</td>\n      <td>This may help InSinkErator Model BADGER-1: Bad...</td>\n      <td>NaN</td>\n      <td>model number</td>\n      <td>may help insinkerator model badger badger hp g...</td>\n      <td>[('model', 'number')]</td>\n      <td>[]</td>\n      <td>[('may', 'help'), ('help', 'insinkerator'), ('...</td>\n      <td>[('may', 'help', 'insinkerator'), ('help', 'in...</td>\n      <td>[0.0, 1.0, 0.0]</td>\n      <td>[0.0, 1.0, 0.0]</td>\n      <td>(0.0, 1.0, 0.0)</td>\n      <td>this may help insinkerator model badger 1 badg...</td>\n      <td>0.900000</td>\n    </tr>\n    <tr>\n      <th>2</th>\n      <td>yes/no</td>\n      <td>can I replace Badger 1 1/3 with a Badger 5 1/2...</td>\n      <td>?</td>\n      <td>Plumbing connections will vary with different ...</td>\n      <td>can</td>\n      <td>replace badger badger connection</td>\n      <td>plumbing connection vary different model usual...</td>\n      <td>[('replace', 'badger'), ('badger', 'badger'), ...</td>\n      <td>[('replace', 'badger', 'badger'), ('badger', '...</td>\n      <td>[('plumbing', 'connection'), ('connection', 'v...</td>\n      <td>[('plumbing', 'connection', 'vary'), ('connect...</td>\n      <td>[0.0, 1.0, 0.0]</td>\n      <td>[0.0, 1.0, 0.0]</td>\n      <td>(0.0, 1.0, 0.0)</td>\n      <td>plumbing connections will vary with different ...</td>\n      <td>0.629159</td>\n    </tr>\n    <tr>\n      <th>3</th>\n      <td>yes/no</td>\n      <td>Does this come with power cord and dishwasher ...</td>\n      <td>?</td>\n      <td>It does not come with a power cord. It does co...</td>\n      <td>does</td>\n      <td>come power cord dishwasher hook</td>\n      <td>come power cord come dishwasher hookup</td>\n      <td>[('come', 'power'), ('power', 'cord'), ('cord'...</td>\n      <td>[('come', 'power', 'cord'), ('power', 'cord', ...</td>\n      <td>[('come', 'power'), ('power', 'cord'), ('cord'...</td>\n      <td>[('come', 'power', 'cord'), ('power', 'cord', ...</td>\n      <td>[0.0, 1.0, 0.0]</td>\n      <td>[0.0, 1.0, 0.0]</td>\n      <td>(0.0, 1.0, 0.0)</td>\n      <td>it does not come with power cord it does come ...</td>\n      <td>0.910811</td>\n    </tr>\n    <tr>\n      <th>4</th>\n      <td>open-ended</td>\n      <td>loud noise inside when turned on. sounds like ...</td>\n      <td>NaN</td>\n      <td>Check if you dropped something inside.Usually ...</td>\n      <td>when</td>\n      <td>loud noise inside turned sound like blade loose</td>\n      <td>check dropped something insideusually wife put...</td>\n      <td>[('loud', 'noise'), ('noise', 'inside'), ('ins...</td>\n      <td>[('loud', 'noise', 'inside'), ('noise', 'insid...</td>\n      <td>[('check', 'dropped'), ('dropped', 'something'...</td>\n      <td>[('check', 'dropped', 'something'), ('dropped'...</td>\n      <td>[0.0, 1.0, 0.0]</td>\n      <td>[0.0, 1.0, 0.0]</td>\n      <td>(0.0, 1.0, 0.0)</td>\n      <td>check if you dropped something inside usually ...</td>\n      <td>0.861473</td>\n    </tr>\n  </tbody>\n</table>\n</div>"
     },
     "execution_count": 156,
     "metadata": {},
     "output_type": "execute_result"
    }
   ],
   "source": [
    "useful_bi_words = [\"('make', 'sure')\", \"('yes', 'works')\", \"('good', 'luck')\", \"('work', 'great')\", \"('feel', 'free')\", \"('worked', 'fine')\", \"('no', 'need')\", \"('worked', 'great')\", \"('would', 'recommend')\", \"('no', 'problem')\", \"('fit', 'perfectly')\", \"('fit', 'great')\", \"('please', 'let')\", \"('yes', 'it')\", \"('it', 'can')\", \"('couldnt', 'use')\", \"('dont', 'work')\", \"('yes', '.')\", \"('no', 'problem')\", \"('work', 'fine')\", \"('work', 'well')\", \"('fit', 'fine')\", \"('yes', 'use')\", \"('use', 'one')\", \"('would', 'recommend')\", \"('worked', 'perfectly')\", \"('would', 'fit')\", \"('mine', 'came')\", \"('hope', 'help')\", \"('inch', 'wide')\", \"('make', 'sure')\", \"('no', 'problem')\", \"('would', 'suggest')\",\"('may', 'want')\", \"('hope', 'help')\", \"('hope', 'helped')\", \"('think', 'would')\", \"('make', 'sure')\"]\n",
    "useless_bi_words = [\"('dont', 'know')\", \"('maybe', 'work')\", \"('potential', 'work')\", \"('sorry', 'dont')\", \"('am', 'sure')\", \"('dont', 'really')\", \"('really', 'know')\", \"('probably', 'maybe')\", \"('maybe', 'work')\", \"('dont', 'quite')\", \"('no', 'idea')\", \"('sorry', 'help')\", \"('think', 'would')\", \"('would', 'probably')\"]\n",
    "\n",
    "useful_tri_words = [\"('inch', 'wide', 'inch')\", \"('feel', 'free', 'contact')\", \"('make', 'sure', 'get')\", \"('would', 'say', 'yes')\", \"('yes', 'no', 'problem')\", \"('work', 'really', 'well')\", \"('would', 'work', 'well')\", \"('would', 'highly', 'recommend')\", \"('think', 'would', 'work')\", \"('work', 'like', 'charm')\", \"('buy', 'another', 'one')\", \"('make', 'sure', 'get')\", \"('hope', 'information', 'help')\"]\n",
    "useless_tri_words = [\"('sorry', 'dont', 'know')\", \"('please', 'let', 'know')\", \"('sorry', 'answer', 'question')\", \"('need', 'make', 'sure')\", \"('mine', 'work', 'great')\", \"('buy', 'another', 'one')\"]\n",
    "\n",
    "def score_answer_ngrams(answer_ngram, n):\n",
    "\n",
    "    if n == 2:\n",
    "        useful_count = sum([1 for i in answer_ngram if i in useful_bi_words])\n",
    "        useless_count = sum([1 for i in answer_ngram if i in useless_bi_words])\n",
    "    elif n == 3:\n",
    "        useful_count = sum([1 for i in answer_ngram if i in useful_tri_words])\n",
    "        useless_count = sum([1 for i in answer_ngram if i in useless_tri_words])\n",
    "\n",
    "    try:\n",
    "        useful_score = round((useful_count) / len(answer_ngram), 2)\n",
    "        mid_score =  round((len(answer_ngram) - useless_count - useful_count) / len(answer_ngram),2)\n",
    "        useless_score = round((useless_count) / len(answer_ngram), 2)\n",
    "    except ZeroDivisionError:\n",
    "        useful_score = 0\n",
    "        mid_score = 0\n",
    "        useless_score = 0\n",
    "\n",
    "    return [useful_score, mid_score, useless_score]\n",
    "\n",
    "df['bi_gram_score'] = df['answer_bigram'].apply(score_answer_ngrams, args=[2])\n",
    "df['tri_gram_score'] = df['answer_trigram'].apply(score_answer_ngrams, args=[3])\n",
    "df.head()"
   ],
   "metadata": {
    "collapsed": false
   }
  },
  {
   "cell_type": "code",
   "execution_count": 157,
   "outputs": [
    {
     "data": {
      "text/plain": "0        [0.0, 1.0, 0.0]\n1        [0.0, 1.0, 0.0]\n2        [0.0, 1.0, 0.0]\n3        [0.0, 1.0, 0.0]\n4        [0.0, 1.0, 0.0]\n             ...        \n96       [0.0, 1.0, 0.0]\n97     [0.0, 0.95, 0.05]\n98       [0.0, 1.0, 0.0]\n99       [0.0, 1.0, 0.0]\n100      [0.0, 1.0, 0.0]\nName: bi_gram_score, Length: 101, dtype: object"
     },
     "execution_count": 157,
     "metadata": {},
     "output_type": "execute_result"
    }
   ],
   "source": [
    "df.loc[:100,'bi_gram_score']"
   ],
   "metadata": {
    "collapsed": false
   }
  },
  {
   "cell_type": "code",
   "execution_count": 163,
   "outputs": [
    {
     "data": {
      "text/plain": "question         Does it have screens in place where the vents ...\nanswer           No. The way it works is that the tray is about...\nbi_gram_score                                   [0.02, 0.96, 0.02]\nName: 92, dtype: object"
     },
     "execution_count": 163,
     "metadata": {},
     "output_type": "execute_result"
    }
   ],
   "source": [
    "df.loc[92,['question','answer', 'bi_gram_score']]"
   ],
   "metadata": {
    "collapsed": false
   }
  },
  {
   "cell_type": "code",
   "execution_count": 158,
   "outputs": [
    {
     "data": {
      "text/plain": "<Figure size 640x480 with 6 Axes>",
      "image/png": "[encoded data removed]"
     },
     "metadata": {},
     "output_type": "display_data"
    }
   ],
   "source": [
    "plt.subplot(2, 3, 1)\n",
    "plt.hist([x[0] for x in df.loc[:,'bi_gram_score']])\n",
    "plt.subplot(2, 3, 2)\n",
    "plt.hist([x[1] for x in df.loc[:,'bi_gram_score']])\n",
    "plt.subplot(2, 3, 3)\n",
    "plt.hist([x[2] for x in df.loc[:,'bi_gram_score']])\n",
    "plt.subplot(2, 3, 4)\n",
    "plt.hist([x[0] for x in df.loc[:,'tri_gram_score']])\n",
    "plt.subplot(2, 3, 5)\n",
    "plt.hist([x[1] for x in df.loc[:,'tri_gram_score']])\n",
    "plt.subplot(2, 3, 6)\n",
    "plt.hist([x[2] for x in df.loc[:,'tri_gram_score']])\n",
    "plt.show()"
   ],
   "metadata": {
    "collapsed": false
   }
  },
  {
   "cell_type": "markdown",
   "source": [
    "### Positive and negative analysis\n"
   ],
   "metadata": {
    "collapsed": false
   }
  },
  {
   "cell_type": "code",
   "execution_count": 164,
   "outputs": [
    {
     "data": {
      "text/plain": "  questionType                                           question answerType  \\\n0       yes/no  I have a 9 year old Badger 1 that needs replac...          ?   \n1   open-ended                                       model number        NaN   \n2       yes/no  can I replace Badger 1 1/3 with a Badger 5 1/2...          ?   \n3       yes/no  Does this come with power cord and dishwasher ...          ?   \n4   open-ended  loud noise inside when turned on. sounds like ...        NaN   \n\n                                              answer question_word  \\\n0   I replaced my old one with this without a hitch.          will   \n1  This may help InSinkErator Model BADGER-1: Bad...           NaN   \n2  Plumbing connections will vary with different ...           can   \n3  It does not come with a power cord. It does co...          does   \n4  Check if you dropped something inside.Usually ...          when   \n\n                                      question_clean  \\\n0  year old badger need replacing badger install ...   \n1                                       model number   \n2                   replace badger badger connection   \n3                    come power cord dishwasher hook   \n4    loud noise inside turned sound like blade loose   \n\n                                        answer_clean  \\\n0                     replaced old one without hitch   \n1  may help insinkerator model badger badger hp g...   \n2  plumbing connection vary different model usual...   \n3             come power cord come dishwasher hookup   \n4  check dropped something insideusually wife put...   \n\n                                     question_bigram  \\\n0  [('year', 'old'), ('old', 'badger'), ('badger'...   \n1                              [('model', 'number')]   \n2  [('replace', 'badger'), ('badger', 'badger'), ...   \n3  [('come', 'power'), ('power', 'cord'), ('cord'...   \n4  [('loud', 'noise'), ('noise', 'inside'), ('ins...   \n\n                                    question_trigram  \\\n0  [('year', 'old', 'badger'), ('old', 'badger', ...   \n1                                                 []   \n2  [('replace', 'badger', 'badger'), ('badger', '...   \n3  [('come', 'power', 'cord'), ('power', 'cord', ...   \n4  [('loud', 'noise', 'inside'), ('noise', 'insid...   \n\n                                       answer_bigram  \\\n0  [('replaced', 'old'), ('old', 'one'), ('one', ...   \n1  [('may', 'help'), ('help', 'insinkerator'), ('...   \n2  [('plumbing', 'connection'), ('connection', 'v...   \n3  [('come', 'power'), ('power', 'cord'), ('cord'...   \n4  [('check', 'dropped'), ('dropped', 'something'...   \n\n                                      answer_trigram    bi_gram_score  \\\n0  [('replaced', 'old', 'one'), ('old', 'one', 'w...  [0.0, 1.0, 0.0]   \n1  [('may', 'help', 'insinkerator'), ('help', 'in...  [0.0, 1.0, 0.0]   \n2  [('plumbing', 'connection', 'vary'), ('connect...  [0.0, 1.0, 0.0]   \n3  [('come', 'power', 'cord'), ('power', 'cord', ...  [0.0, 1.0, 0.0]   \n4  [('check', 'dropped', 'something'), ('dropped'...  [0.0, 1.0, 0.0]   \n\n    tri_gram_score    sentiment_score  \\\n0  [0.0, 1.0, 0.0]    (0.0, 1.0, 0.0)   \n1  [0.0, 1.0, 0.0]  (0.01, 0.99, 0.0)   \n2  [0.0, 1.0, 0.0]    (0.0, 1.0, 0.0)   \n3  [0.0, 1.0, 0.0]    (0.0, 1.0, 0.0)   \n4  [0.0, 1.0, 0.0]    (0.0, 1.0, 0.0)   \n\n                                  answer_light_clean  target_manual  \n0      i replaced my old one with this without hitch       0.950000  \n1  this may help insinkerator model badger 1 badg...       0.900000  \n2  plumbing connections will vary with different ...       0.629159  \n3  it does not come with power cord it does come ...       0.910811  \n4  check if you dropped something inside usually ...       0.861473  ",
      "text/html": "<div>\n<style scoped>\n    .dataframe tbody tr th:only-of-type {\n        vertical-align: middle;\n    }\n\n    .dataframe tbody tr th {\n        vertical-align: top;\n    }\n\n    .dataframe thead th {\n        text-align: right;\n    }\n</style>\n<table border=\"1\" class=\"dataframe\">\n  <thead>\n    <tr style=\"text-align: right;\">\n      <th></th>\n      <th>questionType</th>\n      <th>question</th>\n      <th>answerType</th>\n      <th>answer</th>\n      <th>question_word</th>\n      <th>question_clean</th>\n      <th>answer_clean</th>\n      <th>question_bigram</th>\n      <th>question_trigram</th>\n      <th>answer_bigram</th>\n      <th>answer_trigram</th>\n      <th>bi_gram_score</th>\n      <th>tri_gram_score</th>\n      <th>sentiment_score</th>\n      <th>answer_light_clean</th>\n      <th>target_manual</th>\n    </tr>\n  </thead>\n  <tbody>\n    <tr>\n      <th>0</th>\n      <td>yes/no</td>\n      <td>I have a 9 year old Badger 1 that needs replac...</td>\n      <td>?</td>\n      <td>I replaced my old one with this without a hitch.</td>\n      <td>will</td>\n      <td>year old badger need replacing badger install ...</td>\n      <td>replaced old one without hitch</td>\n      <td>[('year', 'old'), ('old', 'badger'), ('badger'...</td>\n      <td>[('year', 'old', 'badger'), ('old', 'badger', ...</td>\n      <td>[('replaced', 'old'), ('old', 'one'), ('one', ...</td>\n      <td>[('replaced', 'old', 'one'), ('old', 'one', 'w...</td>\n      <td>[0.0, 1.0, 0.0]</td>\n      <td>[0.0, 1.0, 0.0]</td>\n      <td>(0.0, 1.0, 0.0)</td>\n      <td>i replaced my old one with this without hitch</td>\n      <td>0.950000</td>\n    </tr>\n    <tr>\n      <th>1</th>\n      <td>open-ended</td>\n      <td>model number</td>\n      <td>NaN</td>\n      <td>This may help InSinkErator Model BADGER-1: Bad...</td>\n      <td>NaN</td>\n      <td>model number</td>\n      <td>may help insinkerator model badger badger hp g...</td>\n      <td>[('model', 'number')]</td>\n      <td>[]</td>\n      <td>[('may', 'help'), ('help', 'insinkerator'), ('...</td>\n      <td>[('may', 'help', 'insinkerator'), ('help', 'in...</td>\n      <td>[0.0, 1.0, 0.0]</td>\n      <td>[0.0, 1.0, 0.0]</td>\n      <td>(0.01, 0.99, 0.0)</td>\n      <td>this may help insinkerator model badger 1 badg...</td>\n      <td>0.900000</td>\n    </tr>\n    <tr>\n      <th>2</th>\n      <td>yes/no</td>\n      <td>can I replace Badger 1 1/3 with a Badger 5 1/2...</td>\n      <td>?</td>\n      <td>Plumbing connections will vary with different ...</td>\n      <td>can</td>\n      <td>replace badger badger connection</td>\n      <td>plumbing connection vary different model usual...</td>\n      <td>[('replace', 'badger'), ('badger', 'badger'), ...</td>\n      <td>[('replace', 'badger', 'badger'), ('badger', '...</td>\n      <td>[('plumbing', 'connection'), ('connection', 'v...</td>\n      <td>[('plumbing', 'connection', 'vary'), ('connect...</td>\n      <td>[0.0, 1.0, 0.0]</td>\n      <td>[0.0, 1.0, 0.0]</td>\n      <td>(0.0, 1.0, 0.0)</td>\n      <td>plumbing connections will vary with different ...</td>\n      <td>0.629159</td>\n    </tr>\n    <tr>\n      <th>3</th>\n      <td>yes/no</td>\n      <td>Does this come with power cord and dishwasher ...</td>\n      <td>?</td>\n      <td>It does not come with a power cord. It does co...</td>\n      <td>does</td>\n      <td>come power cord dishwasher hook</td>\n      <td>come power cord come dishwasher hookup</td>\n      <td>[('come', 'power'), ('power', 'cord'), ('cord'...</td>\n      <td>[('come', 'power', 'cord'), ('power', 'cord', ...</td>\n      <td>[('come', 'power'), ('power', 'cord'), ('cord'...</td>\n      <td>[('come', 'power', 'cord'), ('power', 'cord', ...</td>\n      <td>[0.0, 1.0, 0.0]</td>\n      <td>[0.0, 1.0, 0.0]</td>\n      <td>(0.0, 1.0, 0.0)</td>\n      <td>it does not come with power cord it does come ...</td>\n      <td>0.910811</td>\n    </tr>\n    <tr>\n      <th>4</th>\n      <td>open-ended</td>\n      <td>loud noise inside when turned on. sounds like ...</td>\n      <td>NaN</td>\n      <td>Check if you dropped something inside.Usually ...</td>\n      <td>when</td>\n      <td>loud noise inside turned sound like blade loose</td>\n      <td>check dropped something insideusually wife put...</td>\n      <td>[('loud', 'noise'), ('noise', 'inside'), ('ins...</td>\n      <td>[('loud', 'noise', 'inside'), ('noise', 'insid...</td>\n      <td>[('check', 'dropped'), ('dropped', 'something'...</td>\n      <td>[('check', 'dropped', 'something'), ('dropped'...</td>\n      <td>[0.0, 1.0, 0.0]</td>\n      <td>[0.0, 1.0, 0.0]</td>\n      <td>(0.0, 1.0, 0.0)</td>\n      <td>check if you dropped something inside usually ...</td>\n      <td>0.861473</td>\n    </tr>\n  </tbody>\n</table>\n</div>"
     },
     "execution_count": 164,
     "metadata": {},
     "output_type": "execute_result"
    }
   ],
   "source": [
    "pos_words = ['good', 'yes', 'it does', 'works', 'corect', 'perfect','work', 'efficient', 'functional', 'good', 'great', 'excellent', 'wonderful', 'certainly','probably', 'need', 'maybe', 'fantastic', 'awesome', 'outstanding', 'incredible', 'amazing', 'impressive', 'brilliant', 'magnificent', 'fantastic', 'fabulous', 'exceptional', 'delightful', 'charming', 'lovely', 'wonderful', 'perfect', 'fantastic', 'excellent', 'efficient', 'effective', 'reliable', 'trustworthy', 'valuable', 'beneficial', 'helpful', 'positive', 'optimistic', 'happy', 'joyful', 'cheerful', 'enthusiastic', 'supportive', 'encouraging', 'empowering', 'inspiring', 'creative', 'innovative', 'visionary', 'accomplished', 'successful', 'victorious', 'celebrated', 'prestigious', 'amazing']\n",
    "\n",
    "neg_words = ['bad', 'poor', 'hate', 'worst', 'terrible', 'worst', 'awful', 'disappointing', 'dissapointed', 'broke','faulty', 'awful', 'it wont', \"doesn't\", 'does not', 'terrible', 'awful', 'horrible', 'unpleasant', 'frustrating', 'annoying', 'disappointing', 'unsatisfactory', 'inadequate', 'subpar', 'faulty', 'flawed', 'defective', 'broken', 'ineffective', 'inefficient', 'unreliable', 'untrustworthy', 'worthless', 'pointless', 'futile', 'hopeless', 'depressing', 'discouraging', 'disheartening', 'demoralizing', 'negative', 'pessimistic', 'unhappy', 'miserable', 'frustrating', 'stressful', 'infuriating', 'aggravating', 'exasperating', 'irritating', 'offensive', 'repulsive', 'disgusting', 'revolting', 'loathsome', 'detestable', 'abhorrent', 'repugnant', 'nauseating']\n",
    "\n",
    "##\n",
    "stemmer = SnowballStemmer('english')\n",
    "pos_words = [stemmer.stem(word) for word in pos_words]\n",
    "neg_words = [stemmer.stem(word) for word in neg_words]\n",
    "\n",
    "##\n",
    "def sentiment_score(text):\n",
    "\n",
    "    pos_count = sum([1 for i in word_tokenize(text) if i in pos_words])\n",
    "    neg_count = sum([1 for i in word_tokenize(text) if i in neg_words])\n",
    "\n",
    "    try:\n",
    "        pos_score = round((pos_count) / len(text), 2)\n",
    "        neu_score =  round((len(text) - neg_count - pos_count) / len(text), 2)\n",
    "        neg_score = round((neg_count) / len(text), 2)\n",
    "    except ZeroDivisionError:\n",
    "        pos_score = 0\n",
    "        neu_score = 0\n",
    "        neg_score = 0\n",
    "\n",
    "    return pos_score, neu_score, neg_score\n",
    "\n",
    "df['answer_light_clean'] = df['answer'].apply(cleaner)\n",
    "\n",
    "df['sentiment_score'] = df['answer_light_clean'].apply(sentiment_score)\n",
    "df.head()"
   ],
   "metadata": {
    "collapsed": false
   }
  },
  {
   "cell_type": "code",
   "execution_count": 165,
   "outputs": [
    {
     "data": {
      "text/plain": "0        (0.0, 1.0, 0.0)\n1      (0.01, 0.99, 0.0)\n2        (0.0, 1.0, 0.0)\n3        (0.0, 1.0, 0.0)\n4        (0.0, 1.0, 0.0)\n             ...        \n196    (0.02, 0.98, 0.0)\n197      (0.0, 1.0, 0.0)\n198      (0.0, 1.0, 0.0)\n199      (0.0, 1.0, 0.0)\n200      (0.0, 1.0, 0.0)\nName: sentiment_score, Length: 201, dtype: object"
     },
     "execution_count": 165,
     "metadata": {},
     "output_type": "execute_result"
    }
   ],
   "source": [
    "df.loc[:200,'sentiment_score']"
   ],
   "metadata": {
    "collapsed": false
   }
  },
  {
   "cell_type": "code",
   "execution_count": 168,
   "outputs": [
    {
     "data": {
      "text/plain": "question           so can this unit be connected with a dishwashe...\nanswer                                      yes, I did it with mine.\nsentiment_score                                    (0.05, 0.95, 0.0)\nName: 11, dtype: object"
     },
     "execution_count": 168,
     "metadata": {},
     "output_type": "execute_result"
    }
   ],
   "source": [
    "df.loc[11,['question','answer','sentiment_score']]"
   ],
   "metadata": {
    "collapsed": false
   }
  },
  {
   "cell_type": "code",
   "execution_count": 166,
   "outputs": [
    {
     "data": {
      "text/plain": "<Figure size 640x480 with 3 Axes>",
      "image/png": "[encoded data removed]"
     },
     "metadata": {},
     "output_type": "display_data"
    }
   ],
   "source": [
    "plt.subplot(1, 3, 1)\n",
    "plt.hist([x[0] for x in df.loc[:,'sentiment_score']])\n",
    "plt.subplot(1, 3, 2)\n",
    "plt.hist([x[1] for x in df.loc[:,'sentiment_score']])\n",
    "plt.subplot(1, 3, 3)\n",
    "plt.hist([x[2] for x in df.loc[:,'sentiment_score']])\n",
    "plt.show()"
   ],
   "metadata": {
    "collapsed": false
   }
  },
  {
   "cell_type": "markdown",
   "source": [
    "# Functions for main function\n",
    "### Check for straight answers (yes, no etc) and answers with numbers (3, three), Spacy similarity between question and answer, extract n-grams(lite)"
   ],
   "metadata": {
    "collapsed": false
   }
  },
  {
   "cell_type": "code",
   "execution_count": 155,
   "outputs": [],
   "source": [
    "useful_words = ['yes', 'yea', 'sure', 'yep', 'yeah', 'indeed', 'certainly', 'definitely', 'cant', 'can', 'no', 'nope', 'nah']\n",
    "un_words = ['unsure', 'never', 'maybe', 'could', 'probably', 'possibly']\n",
    "word_nums = ['one', 'two', 'three', 'four', 'five', 'six', 'seven', 'eight', 'nine', 'ten', 'eleven', 'twelve', 'teen', 'twenty', 'thirty', 'fourty', 'fifty', 'hundered', 'thousand']\n",
    "\n",
    "def check_numeric(question, answer):\n",
    "\n",
    "    if bool(re.search('.*\\d.*', answer)) or bool(set(word_tokenize(answer)) & set(word_nums)):\n",
    "        use_score = 0.95\n",
    "    elif len(word_tokenize(answer))<4:\n",
    "        use_score = 0.92\n",
    "    else:\n",
    "        use_score = (qa_sim(question, answer)+1)/2\n",
    "\n",
    "    return use_score\n",
    "\n",
    "def check_yn(question, answer):\n",
    "\n",
    "    if bool(set(word_tokenize(answer)) & set(useful_words)):\n",
    "        use_score = 0.97\n",
    "    else:\n",
    "        use_score = check_numeric(question, answer)\n",
    "\n",
    "    return use_score\n",
    "\n",
    "nlp = spacy.load('en_core_web_md')\n",
    "def qa_sim(question, answer):\n",
    "    \"\"\"\n",
    "    Function to provide a similarity score between two sentences (question and answer).\n",
    "    Input is a clean string, does NOT need to be tokenised.\n",
    "    returned score is between -1 and 1\n",
    "    \"\"\"\n",
    "    test_question = question\n",
    "    test_answer = answer\n",
    "\n",
    "    # Create a token for the test movie and initialise the highest coefficient marker\n",
    "    q_token = nlp(test_question)\n",
    "    a_token = nlp(test_answer)\n",
    "\n",
    "    return q_token.similarity(a_token)\n",
    "\n",
    "from nltk.util import ngrams\n",
    "\n",
    "def extract_ngrams(data, num):\n",
    "    n_grams = ngrams(word_tokenize(data), num)\n",
    "    return [ ' '.join(grams) for grams in n_grams]"
   ],
   "metadata": {
    "collapsed": false
   }
  },
  {
   "cell_type": "markdown",
   "source": [
    "### Less rigorous cleaner for scoring functions that run after the n-gram scoring (it protects useless bigrams also)"
   ],
   "metadata": {
    "collapsed": false
   }
  },
  {
   "cell_type": "code",
   "execution_count": 144,
   "outputs": [],
   "source": [
    "q_words = ['does', 'do', 'what', 'where', 'who', 'whom', 'which', 'whose', 'why', 'how', 'is', 'are', 'will', 'would', 'can', 'could', 'should',  'did', 'when','has', 'have', 'am', 'may']\n",
    "yn_qs = ['is', 'are', 'will', 'would', 'can', 'could', 'should', 'may', 'does', 'do', 'did', 'has', 'have', 'am']\n",
    "unsure_bigrams = ['dont know', 'not sure', 'might do', 'could maybe', 'no idea', 'not know', 'a clue']\n"
   ],
   "metadata": {
    "collapsed": false
   }
  },
  {
   "cell_type": "markdown",
   "source": [
    "# Main function\n",
    "###### Psuedo code:\n",
    "###### Take the score from n-gram analysis, if there is any matching n-grams set use_score = 1\n",
    "###### For any useless bi-grams missed by for the first condition, set use score = 0\n",
    "###### For any clear question (question word exists), if there is a yes/no or a number in the answer, set use_score = 1\n",
    "###### For remaining answers, if there is an unuseful word, set use_score = 0.2\n",
    "###### For remainig answer if they are 3 words or less, set use_score = 1\n",
    "###### If there is no matching condition at the end, the score is calulated by using the similarity between the q&a and weighted by it's pos/neg or neutral sentiment"
   ],
   "metadata": {
    "collapsed": false
   }
  },
  {
   "cell_type": "code",
   "execution_count": 171,
   "outputs": [
    {
     "name": "stderr",
     "output_type": "stream",
     "text": [
      "/var/folders/b7/kmbr2qfj1fd5c0wjsnnd0jtw0000gn/T/ipykernel_48277/2414828757.py:39: UserWarning: [W008] Evaluating Doc.similarity based on empty vectors.\n",
      "  return q_token.similarity(a_token)\n"
     ]
    }
   ],
   "source": [
    "def useful_score(dframe):\n",
    "\n",
    "    # Clean inputs\n",
    "    question = cleaner(dframe['question'])\n",
    "    answer = cleaner(dframe['answer'])\n",
    "\n",
    "    if (dframe['tri_gram_score'][0] > 0) or (dframe['bi_gram_score'][0] > 0):\n",
    "        # If there is a match between the answer's n-grams and the list of useful n-grams, use score is 1\n",
    "        use_score = 1\n",
    "\n",
    "    elif (dframe['tri_gram_score'][2] > 0) or (dframe['bi_gram_score'][2] > 0):\n",
    "        # If there is a match between the answer's n-grams and the list of unuseful n-grams, use score is 0.1\n",
    "        use_score = 0.1\n",
    "\n",
    "    elif bool(set(extract_ngrams(answer, 2)) & set(unsure_bigrams)):\n",
    "        # For any answer containing an 'unsure bigram', use_score = 0\n",
    "        use_score = 0\n",
    "\n",
    "    elif dframe['question_word'] in q_words:\n",
    "        # For any clear question (i.e. with a question word), an answer with y/n or with a number, has use_score = 1. Otherwise, similarity score is given. In general, it was found that any answer with a number was useful, regardless of the question.\n",
    "        use_score = check_yn(question, answer)\n",
    "\n",
    "    elif bool(re.search('.*\\d.*', answer)) or \\\n",
    "            bool(set(word_tokenize(answer)) & set(word_nums)) or \\\n",
    "            bool(set(word_tokenize(answer)) & set(useful_words)):\n",
    "        # Any other answer with y/n or a number, use_score = 0.9\n",
    "        use_score = 0.9\n",
    "\n",
    "    elif bool(set(word_tokenize(answer)) & set(un_words)):\n",
    "        # Any other answer with un-useful words has use_score = 0.2\n",
    "        use_score = 0.2\n",
    "\n",
    "    elif len(word_tokenize(answer))<4:\n",
    "        # Any short answer (3 or fewer words) is usually useful\n",
    "        use_score = 0.91\n",
    "    else:\n",
    "        # Any other answer is scored by similarity between Q and A, then weighted for positive/negative sentiment\n",
    "        sim_score = (qa_sim(question,answer)+1)/2\n",
    "        pos, neu, neg = sentiment_score(answer)\n",
    "        if neu == 1:\n",
    "            sentiment = 0.8\n",
    "        else:\n",
    "            sentiment = 1.2\n",
    "        use_score = sim_score*sentiment\n",
    "    return use_score\n",
    "\n",
    "\n",
    "df['target_manual'] = df.apply(useful_score, axis=1)"
   ],
   "metadata": {
    "collapsed": false
   }
  },
  {
   "cell_type": "code",
   "execution_count": 78,
   "outputs": [
    {
     "data": {
      "text/plain": "1.000000    7151\n0.900000     166\n0.950000      12\n0.200000       9\n0.728504       5\n0.784204       5\n0.932021       5\n0.749615       5\n0.904883       3\n0.872003       3\n0.815645       2\n0.818283       2\n0.827857       2\n0.798601       2\n0.868312       2\n0.763228       2\n0.843540       2\n0.844701       2\n0.718361       2\n0.864331       2\nName: target_manual, dtype: int64"
     },
     "execution_count": 78,
     "metadata": {},
     "output_type": "execute_result"
    }
   ],
   "source": [
    "df['target_manual'].value_counts().head(20)"
   ],
   "metadata": {
    "collapsed": false
   }
  },
  {
   "cell_type": "code",
   "execution_count": 175,
   "outputs": [
    {
     "data": {
      "text/plain": "                                               question  \\\n1500  Does the fridge have sides or is it just the r...   \n1501  My whirlpool washer model is WFW9150WW01, will...   \n1502  The blue, not the purple are the real ones, ri...   \n1503     will these fit my jenn air model c202 cooktop?   \n1504  Is the vent opening compatible with 6\" or 8\"? ...   \n...                                                 ...   \n1696  I get a puddle of water on the floor when I us...   \n1697  Can this dishwasher sit on top of counter? Are...   \n1698  to confirm, the refrig will be delivered into ...   \n1699  Is this product compatible with the AOS 7144 w...   \n1700  My control board goes to a white colored oven....   \n\n                                                 answer  target_manual  \n1500                          Just insulation on sides.       0.855255  \n1501  Worked well for me. If you are not good with t...       0.855309  \n1502  The ones I got were the blue ones and I couldn...       0.855445  \n1503  they are standard size and should fit all mode...       0.855466  \n1504  The response for confusion is the seller switc...       0.855590  \n...                                                 ...            ...  \n1696  Not enough info.Are you talking about the back...       0.874278  \n1697  The sides are not finished. This model is made...       0.874324  \n1698  you need to pay for installation to have every...       0.874467  \n1699  The Hydrostick was made with silver that actua...       0.874526  \n1700  You have to remove the cover from your current...       0.874589  \n\n[201 rows x 3 columns]",
      "text/html": "<div>\n<style scoped>\n    .dataframe tbody tr th:only-of-type {\n        vertical-align: middle;\n    }\n\n    .dataframe tbody tr th {\n        vertical-align: top;\n    }\n\n    .dataframe thead th {\n        text-align: right;\n    }\n</style>\n<table border=\"1\" class=\"dataframe\">\n  <thead>\n    <tr style=\"text-align: right;\">\n      <th></th>\n      <th>question</th>\n      <th>answer</th>\n      <th>target_manual</th>\n    </tr>\n  </thead>\n  <tbody>\n    <tr>\n      <th>1500</th>\n      <td>Does the fridge have sides or is it just the r...</td>\n      <td>Just insulation on sides.</td>\n      <td>0.855255</td>\n    </tr>\n    <tr>\n      <th>1501</th>\n      <td>My whirlpool washer model is WFW9150WW01, will...</td>\n      <td>Worked well for me. If you are not good with t...</td>\n      <td>0.855309</td>\n    </tr>\n    <tr>\n      <th>1502</th>\n      <td>The blue, not the purple are the real ones, ri...</td>\n      <td>The ones I got were the blue ones and I couldn...</td>\n      <td>0.855445</td>\n    </tr>\n    <tr>\n      <th>1503</th>\n      <td>will these fit my jenn air model c202 cooktop?</td>\n      <td>they are standard size and should fit all mode...</td>\n      <td>0.855466</td>\n    </tr>\n    <tr>\n      <th>1504</th>\n      <td>Is the vent opening compatible with 6\" or 8\"? ...</td>\n      <td>The response for confusion is the seller switc...</td>\n      <td>0.855590</td>\n    </tr>\n    <tr>\n      <th>...</th>\n      <td>...</td>\n      <td>...</td>\n      <td>...</td>\n    </tr>\n    <tr>\n      <th>1696</th>\n      <td>I get a puddle of water on the floor when I us...</td>\n      <td>Not enough info.Are you talking about the back...</td>\n      <td>0.874278</td>\n    </tr>\n    <tr>\n      <th>1697</th>\n      <td>Can this dishwasher sit on top of counter? Are...</td>\n      <td>The sides are not finished. This model is made...</td>\n      <td>0.874324</td>\n    </tr>\n    <tr>\n      <th>1698</th>\n      <td>to confirm, the refrig will be delivered into ...</td>\n      <td>you need to pay for installation to have every...</td>\n      <td>0.874467</td>\n    </tr>\n    <tr>\n      <th>1699</th>\n      <td>Is this product compatible with the AOS 7144 w...</td>\n      <td>The Hydrostick was made with silver that actua...</td>\n      <td>0.874526</td>\n    </tr>\n    <tr>\n      <th>1700</th>\n      <td>My control board goes to a white colored oven....</td>\n      <td>You have to remove the cover from your current...</td>\n      <td>0.874589</td>\n    </tr>\n  </tbody>\n</table>\n<p>201 rows × 3 columns</p>\n</div>"
     },
     "execution_count": 175,
     "metadata": {},
     "output_type": "execute_result"
    }
   ],
   "source": [
    "df.sort_values(by='target_manual').reset_index().loc[1500:1700,['question','answer','target_manual']]"
   ],
   "metadata": {
    "collapsed": false
   }
  },
  {
   "cell_type": "code",
   "execution_count": 172,
   "outputs": [
    {
     "data": {
      "text/plain": "<Figure size 500x500 with 1 Axes>",
      "image/png": "[encoded data removed]"
     },
     "metadata": {},
     "output_type": "display_data"
    }
   ],
   "source": [
    "sns.displot(df['target_manual'])\n",
    "plt.show()"
   ],
   "metadata": {
    "collapsed": false
   }
  },
  {
   "cell_type": "code",
   "execution_count": 176,
   "outputs": [],
   "source": [
    "df['target_thresh'] = np.where(df['target_manual']>.85, 1, 0)"
   ],
   "metadata": {
    "collapsed": false
   }
  },
  {
   "cell_type": "code",
   "execution_count": 179,
   "outputs": [
    {
     "name": "stderr",
     "output_type": "stream",
     "text": [
      "/var/folders/b7/kmbr2qfj1fd5c0wjsnnd0jtw0000gn/T/ipykernel_48277/2340307380.py:3: SettingWithCopyWarning: \n",
      "A value is trying to be set on a copy of a slice from a DataFrame\n",
      "\n",
      "See the caveats in the documentation: https://pandas.pydata.org/pandas-docs/stable/user_guide/indexing.html#returning-a-view-versus-a-copy\n",
      "  df_test['question'] = question\n",
      "/var/folders/b7/kmbr2qfj1fd5c0wjsnnd0jtw0000gn/T/ipykernel_48277/2340307380.py:4: SettingWithCopyWarning: \n",
      "A value is trying to be set on a copy of a slice from a DataFrame\n",
      "\n",
      "See the caveats in the documentation: https://pandas.pydata.org/pandas-docs/stable/user_guide/indexing.html#returning-a-view-versus-a-copy\n",
      "  df_test['answer'] = answer\n"
     ]
    },
    {
     "data": {
      "text/plain": "0.9"
     },
     "execution_count": 179,
     "metadata": {},
     "output_type": "execute_result"
    }
   ],
   "source": [
    "df_test = df.iloc[1,:]\n",
    "def answer_use_score(question, answer):\n",
    "    df_test['question'] = question\n",
    "    df_test['answer'] = answer\n",
    "    useful_score(df_test)\n",
    "    return df_test['target_manual']\n",
    "\n",
    "q = 'Would you recommend this hardcover version of the book, since it\\'s a bit more expensive?'\n",
    "a = 'The book was absolutely AMAZING! Easily one of my favourite lectures so far this year. The story was highly immersive and (without giving away spoilers!) the character development the main trio was done excellently.'\n",
    "\n",
    "answer_use_score(q,a)"
   ],
   "metadata": {
    "collapsed": false
   }
  },
  {
   "cell_type": "code",
   "execution_count": null,
   "outputs": [],
   "source": [],
   "metadata": {
    "collapsed": false
   }
  }
 ],
 "metadata": {
  "kernelspec": {
   "display_name": "Python 3",
   "language": "python",
   "name": "python3"
  },
  "language_info": {
   "codemirror_mode": {
    "name": "ipython",
    "version": 2
   },
   "file_extension": ".py",
   "mimetype": "text/x-python",
   "name": "python",
   "nbconvert_exporter": "python",
   "pygments_lexer": "ipython2",
   "version": "2.7.6"
  }
 },
 "nbformat": 4,
 "nbformat_minor": 0
}
